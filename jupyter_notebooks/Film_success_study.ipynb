{
  "cells": [
    {
      "cell_type": "markdown",
      "metadata": {
        "id": "0aStgWSO0E0E"
      },
      "source": [
        "# **(ADD HERE THE NOTEBOOK NAME)**"
      ]
    },
    {
      "cell_type": "markdown",
      "metadata": {
        "id": "1eLEkw5O0ECa"
      },
      "source": [
        "## Objectives\n",
        "\n",
        "* Write here your notebook objective, for example, \"Fetch data from Kaggle and save as raw data\", or \"engineer features for modelling\"\n",
        "\n",
        "## Inputs\n",
        "\n",
        "* Write here which data or information you need to run the notebook \n",
        "\n",
        "## Outputs\n",
        "\n",
        "* Write here which files, code or artefacts you generate by the end of the notebook \n",
        "\n",
        "## Additional Comments\n",
        "\n",
        "* In case you have any additional comments that don't fit in the previous bullets, please state them here. \n"
      ]
    },
    {
      "cell_type": "markdown",
      "metadata": {
        "id": "9uWZXH9LwoQg"
      },
      "source": [
        "---"
      ]
    },
    {
      "cell_type": "markdown",
      "metadata": {
        "id": "cqP-UeN-z3i2"
      },
      "source": [
        "# Change working directory"
      ]
    },
    {
      "cell_type": "markdown",
      "metadata": {},
      "source": [
        "* We are assuming you will store the notebooks in a subfolder, therefore when running the notebook in the editor, you will need to change the working directory"
      ]
    },
    {
      "cell_type": "markdown",
      "metadata": {
        "id": "aOGIGS-uz3i2"
      },
      "source": [
        "We need to change the working directory from its current folder to its parent folder\n",
        "* We access the current directory with os.getcwd()"
      ]
    },
    {
      "cell_type": "code",
      "execution_count": 1,
      "metadata": {
        "id": "wZfF_j-Bz3i4",
        "outputId": "66943449-1436-4c3d-85c7-b85f9f78349b"
      },
      "outputs": [
        {
          "data": {
            "text/plain": [
              "'/workspace/Film_Hit_prediction/jupyter_notebooks'"
            ]
          },
          "execution_count": 1,
          "metadata": {},
          "output_type": "execute_result"
        }
      ],
      "source": [
        "import os\n",
        "current_dir = os.getcwd()\n",
        "current_dir"
      ]
    },
    {
      "cell_type": "markdown",
      "metadata": {
        "id": "9MWW8E7lz3i7"
      },
      "source": [
        "We want to make the parent of the current directory the new current directory\n",
        "* os.path.dirname() gets the parent directory\n",
        "* os.chir() defines the new current directory"
      ]
    },
    {
      "cell_type": "code",
      "execution_count": 2,
      "metadata": {
        "id": "TwHsQRWjz3i9",
        "outputId": "86849db3-cd2f-4cc5-ebb8-2d0caafa1a2c"
      },
      "outputs": [
        {
          "name": "stdout",
          "output_type": "stream",
          "text": [
            "You set a new current directory\n"
          ]
        }
      ],
      "source": [
        "os.chdir(os.path.dirname(current_dir))\n",
        "print(\"You set a new current directory\")"
      ]
    },
    {
      "cell_type": "markdown",
      "metadata": {
        "id": "M_xPk_Ijz3i-"
      },
      "source": [
        "Confirm the new current directory"
      ]
    },
    {
      "cell_type": "code",
      "execution_count": 3,
      "metadata": {
        "id": "vz3S-_kjz3jA",
        "outputId": "00b79ae4-75d0-4a96-d193-ac9ef9847ea2"
      },
      "outputs": [
        {
          "data": {
            "text/plain": [
              "'/workspace/Film_Hit_prediction'"
            ]
          },
          "execution_count": 3,
          "metadata": {},
          "output_type": "execute_result"
        }
      ],
      "source": [
        "current_dir = os.getcwd()\n",
        "current_dir"
      ]
    },
    {
      "cell_type": "markdown",
      "metadata": {
        "id": "-mavJ8DibrcQ"
      },
      "source": [
        "# Load Data\n"
      ]
    },
    {
      "cell_type": "markdown",
      "metadata": {},
      "source": [
        "Section 1 content"
      ]
    },
    {
      "cell_type": "code",
      "execution_count": 4,
      "metadata": {},
      "outputs": [
        {
          "name": "stdout",
          "output_type": "stream",
          "text": [
            "   budget    revenue  Action  Adventure  Animation  Comedy  Crime  Documentary  Drama  Family  Fantasy  Foreign  History  Horror  Music  Mystery  Romance  Science Fiction  TV Movie  Thriller  War  Western  language_encoded\n",
            "237000000 2787965087       1          1          0       0      0            0      0       0        1        0        0       0      0        0        0                1         0         0    0        0                 0\n",
            "300000000  961000000       1          1          0       0      0            0      0       0        1        0        0       0      0        0        0                0         0         0    0        0                 0\n",
            "245000000  880674609       1          1          0       0      1            0      0       0        0        0        0       0      0        0        0                0         0         0    0        0                 0\n",
            "250000000 1084939099       1          0          0       0      1            0      1       0        0        0        0       0      0        0        0                0         0         1    0        0                 0\n",
            "260000000  284139100       1          1          0       0      0            0      0       0        0        0        0       0      0        0        0                1         0         0    0        0                 0\n"
          ]
        }
      ],
      "source": [
        "import pandas as pd\n",
        "\n",
        "df_movies = pd.read_csv('encoded_movies.csv')\n",
        "\n",
        "print(df_movies.head().to_string(index=False))"
      ]
    },
    {
      "cell_type": "markdown",
      "metadata": {
        "id": "ZY3l0-AxO93d"
      },
      "source": [
        "---"
      ]
    },
    {
      "cell_type": "markdown",
      "metadata": {
        "id": "uFQo3ycuO-v6"
      },
      "source": [
        "# Data Exploration"
      ]
    },
    {
      "cell_type": "markdown",
      "metadata": {},
      "source": [
        "We are interested to get more familiar with the dataset, check variable type and distribution, missing levels and what these variables mean in a business contextSection 2 content"
      ]
    },
    {
      "cell_type": "code",
      "execution_count": 5,
      "metadata": {},
      "outputs": [
        {
          "name": "stdout",
          "output_type": "stream",
          "text": [
            "Requirement already satisfied: ydata-profiling in /workspace/.pip-modules/lib/python3.8/site-packages (4.4.0)\n",
            "Requirement already satisfied: scipy<1.12,>=1.4.1 in /workspace/.pip-modules/lib/python3.8/site-packages (from ydata-profiling) (1.9.3)\n",
            "Requirement already satisfied: pandas!=1.4.0,<2.1,>1.1 in /workspace/.pip-modules/lib/python3.8/site-packages (from ydata-profiling) (1.4.2)\n",
            "Requirement already satisfied: matplotlib<4,>=3.2 in /workspace/.pip-modules/lib/python3.8/site-packages (from ydata-profiling) (3.3.1)\n",
            "Requirement already satisfied: pydantic<2,>=1.8.1 in /workspace/.pip-modules/lib/python3.8/site-packages (from ydata-profiling) (1.10.19)\n",
            "Requirement already satisfied: PyYAML<6.1,>=5.0.0 in /home/gitpod/.pyenv/versions/3.8.18/lib/python3.8/site-packages (from ydata-profiling) (6.0.2)\n",
            "Requirement already satisfied: jinja2<3.2,>=2.11.1 in /workspace/.pip-modules/lib/python3.8/site-packages (from ydata-profiling) (3.1.1)\n",
            "Requirement already satisfied: visions==0.7.5 in /workspace/.pip-modules/lib/python3.8/site-packages (from visions[type_image_path]==0.7.5->ydata-profiling) (0.7.5)\n",
            "Requirement already satisfied: numpy<1.24,>=1.16.0 in /workspace/.pip-modules/lib/python3.8/site-packages (from ydata-profiling) (1.18.5)\n",
            "Requirement already satisfied: htmlmin==0.1.12 in /workspace/.pip-modules/lib/python3.8/site-packages (from ydata-profiling) (0.1.12)\n",
            "Requirement already satisfied: phik<0.13,>=0.11.1 in /workspace/.pip-modules/lib/python3.8/site-packages (from ydata-profiling) (0.12.4)\n",
            "Requirement already satisfied: requests<3,>=2.24.0 in /home/gitpod/.pyenv/versions/3.8.18/lib/python3.8/site-packages (from ydata-profiling) (2.32.3)\n",
            "Requirement already satisfied: tqdm<5,>=4.48.2 in /workspace/.pip-modules/lib/python3.8/site-packages (from ydata-profiling) (4.67.0)\n",
            "Requirement already satisfied: seaborn<0.13,>=0.10.1 in /workspace/.pip-modules/lib/python3.8/site-packages (from ydata-profiling) (0.11.0)\n",
            "Requirement already satisfied: multimethod<2,>=1.4 in /workspace/.pip-modules/lib/python3.8/site-packages (from ydata-profiling) (1.10)\n",
            "Requirement already satisfied: statsmodels<1,>=0.13.2 in /workspace/.pip-modules/lib/python3.8/site-packages (from ydata-profiling) (0.14.1)\n",
            "Requirement already satisfied: typeguard<3,>=2.13.2 in /workspace/.pip-modules/lib/python3.8/site-packages (from ydata-profiling) (2.13.3)\n",
            "Requirement already satisfied: imagehash==4.3.1 in /workspace/.pip-modules/lib/python3.8/site-packages (from ydata-profiling) (4.3.1)\n",
            "Requirement already satisfied: wordcloud>=1.9.1 in /workspace/.pip-modules/lib/python3.8/site-packages (from ydata-profiling) (1.9.4)\n",
            "Requirement already satisfied: dacite>=1.8 in /workspace/.pip-modules/lib/python3.8/site-packages (from ydata-profiling) (1.8.1)\n",
            "Requirement already satisfied: PyWavelets in /workspace/.pip-modules/lib/python3.8/site-packages (from imagehash==4.3.1->ydata-profiling) (1.4.1)\n",
            "Requirement already satisfied: pillow in /workspace/.pip-modules/lib/python3.8/site-packages (from imagehash==4.3.1->ydata-profiling) (10.4.0)\n",
            "Requirement already satisfied: attrs>=19.3.0 in /home/gitpod/.pyenv/versions/3.8.18/lib/python3.8/site-packages (from visions==0.7.5->visions[type_image_path]==0.7.5->ydata-profiling) (24.2.0)\n",
            "Requirement already satisfied: networkx>=2.4 in /workspace/.pip-modules/lib/python3.8/site-packages (from visions==0.7.5->visions[type_image_path]==0.7.5->ydata-profiling) (3.1)\n",
            "Requirement already satisfied: tangled-up-in-unicode>=0.0.4 in /workspace/.pip-modules/lib/python3.8/site-packages (from visions==0.7.5->visions[type_image_path]==0.7.5->ydata-profiling) (0.2.0)\n",
            "Requirement already satisfied: MarkupSafe>=2.0 in /workspace/.pip-modules/lib/python3.8/site-packages (from jinja2<3.2,>=2.11.1->ydata-profiling) (2.0.1)\n",
            "Requirement already satisfied: certifi>=2020.06.20 in /home/gitpod/.pyenv/versions/3.8.18/lib/python3.8/site-packages (from matplotlib<4,>=3.2->ydata-profiling) (2024.8.30)\n",
            "Requirement already satisfied: cycler>=0.10 in /workspace/.pip-modules/lib/python3.8/site-packages (from matplotlib<4,>=3.2->ydata-profiling) (0.12.1)\n",
            "Requirement already satisfied: kiwisolver>=1.0.1 in /workspace/.pip-modules/lib/python3.8/site-packages (from matplotlib<4,>=3.2->ydata-profiling) (1.4.7)\n",
            "Requirement already satisfied: pyparsing!=2.0.4,!=2.1.2,!=2.1.6,>=2.0.3 in /workspace/.pip-modules/lib/python3.8/site-packages (from matplotlib<4,>=3.2->ydata-profiling) (3.1.4)\n",
            "Requirement already satisfied: python-dateutil>=2.1 in /home/gitpod/.pyenv/versions/3.8.18/lib/python3.8/site-packages (from matplotlib<4,>=3.2->ydata-profiling) (2.9.0.post0)\n",
            "Requirement already satisfied: pytz>=2020.1 in /home/gitpod/.pyenv/versions/3.8.18/lib/python3.8/site-packages (from pandas!=1.4.0,<2.1,>1.1->ydata-profiling) (2024.2)\n",
            "Requirement already satisfied: joblib>=0.14.1 in /workspace/.pip-modules/lib/python3.8/site-packages (from phik<0.13,>=0.11.1->ydata-profiling) (1.4.2)\n",
            "Requirement already satisfied: typing-extensions>=4.2.0 in /home/gitpod/.pyenv/versions/3.8.18/lib/python3.8/site-packages (from pydantic<2,>=1.8.1->ydata-profiling) (4.12.2)\n",
            "Requirement already satisfied: charset-normalizer<4,>=2 in /home/gitpod/.pyenv/versions/3.8.18/lib/python3.8/site-packages (from requests<3,>=2.24.0->ydata-profiling) (3.4.0)\n",
            "Requirement already satisfied: idna<4,>=2.5 in /home/gitpod/.pyenv/versions/3.8.18/lib/python3.8/site-packages (from requests<3,>=2.24.0->ydata-profiling) (3.10)\n",
            "Requirement already satisfied: urllib3<3,>=1.21.1 in /home/gitpod/.pyenv/versions/3.8.18/lib/python3.8/site-packages (from requests<3,>=2.24.0->ydata-profiling) (2.2.3)\n",
            "Requirement already satisfied: patsy>=0.5.4 in /workspace/.pip-modules/lib/python3.8/site-packages (from statsmodels<1,>=0.13.2->ydata-profiling) (1.0.1)\n",
            "Requirement already satisfied: packaging>=21.3 in /home/gitpod/.pyenv/versions/3.8.18/lib/python3.8/site-packages (from statsmodels<1,>=0.13.2->ydata-profiling) (24.2)\n",
            "Requirement already satisfied: six>=1.5 in /home/gitpod/.pyenv/versions/3.8.18/lib/python3.8/site-packages (from python-dateutil>=2.1->matplotlib<4,>=3.2->ydata-profiling) (1.16.0)\n",
            "Note: you may need to restart the kernel to use updated packages.\n"
          ]
        }
      ],
      "source": [
        "pip install ydata-profiling\n"
      ]
    },
    {
      "cell_type": "code",
      "execution_count": 6,
      "metadata": {},
      "outputs": [
        {
          "data": {
            "application/vnd.jupyter.widget-view+json": {
              "model_id": "d8ef14898a07452998dee347c0597c8e",
              "version_major": 2,
              "version_minor": 0
            },
            "text/plain": [
              "Summarize dataset:   0%|          | 0/5 [00:00<?, ?it/s]"
            ]
          },
          "metadata": {},
          "output_type": "display_data"
        },
        {
          "data": {
            "application/vnd.jupyter.widget-view+json": {
              "model_id": "d1679b651fd2467ea065de55cbe4d075",
              "version_major": 2,
              "version_minor": 0
            },
            "text/plain": [
              "Generate report structure:   0%|          | 0/1 [00:00<?, ?it/s]"
            ]
          },
          "metadata": {},
          "output_type": "display_data"
        }
      ],
      "source": [
        "from ydata_profiling import ProfileReport\n",
        "import pandas as pd\n",
        "\n",
        "df_movies = pd.read_csv('encoded_movies.csv')  \n",
        "pandas_report = ProfileReport(df=df_movies, minimal=True)\n",
        "pandas_report.to_notebook_iframe()"
      ]
    },
    {
      "cell_type": "markdown",
      "metadata": {},
      "source": [
        "---"
      ]
    },
    {
      "cell_type": "markdown",
      "metadata": {},
      "source": [
        "# Correlation Study"
      ]
    },
    {
      "cell_type": "markdown",
      "metadata": {},
      "source": [
        "Subset data"
      ]
    },
    {
      "cell_type": "code",
      "execution_count": null,
      "metadata": {},
      "outputs": [],
      "source": [
        "\n",
        "relevant_columns = ['budget', 'revenue', 'original_language_encoded','genre'] \n",
        "df_subset = df_movies[relevant_columns]\n",
        "\n",
        "\n",
        "print(df_subset.head())"
      ]
    },
    {
      "cell_type": "markdown",
      "metadata": {},
      "source": [
        "Calculate the Correlation Matrix"
      ]
    },
    {
      "cell_type": "code",
      "execution_count": null,
      "metadata": {},
      "outputs": [],
      "source": [
        "correlation_matrix = df_subset.corr()\n",
        "\n",
        "# Print the correlation matrix to inspect the values\n",
        "print(\"Correlation Matrix:\")\n",
        "print(correlation_matrix)\n",
        "\n",
        "# Focus on the correlation with 'revenue'\n",
        "correlation_with_revenue = correlation_matrix['revenue']\n",
        "print(\"\\nCorrelation with Revenue:\")\n",
        "print(correlation_with_revenue)"
      ]
    },
    {
      "cell_type": "markdown",
      "metadata": {},
      "source": [
        "Visualize the Correlation"
      ]
    },
    {
      "cell_type": "code",
      "execution_count": null,
      "metadata": {},
      "outputs": [],
      "source": [
        "import seaborn as sns\n",
        "import matplotlib.pyplot as plt\n",
        "\n",
        "\n",
        "plt.figure(figsize=(10, 8))\n",
        "sns.heatmap(correlation_matrix, annot=True, cmap='coolwarm', vmin=-1, vmax=1, linewidths=0.5)\n",
        "plt.title(\"Correlation Heatmap: Budget, Language, Genre vs Revenue\")\n",
        "plt.show()"
      ]
    },
    {
      "cell_type": "markdown",
      "metadata": {},
      "source": [
        "Barplot of Correlation with Revenue"
      ]
    },
    {
      "cell_type": "code",
      "execution_count": null,
      "metadata": {},
      "outputs": [],
      "source": [
        "plt.figure(figsize=(8, 6))\n",
        "sns.barplot(x=correlation_with_revenue.index, y=correlation_with_revenue.values, palette='coolwarm')\n",
        "plt.title(\"Correlation with Revenue\")\n",
        "plt.xticks(rotation=90)\n",
        "plt.show()"
      ]
    },
    {
      "cell_type": "markdown",
      "metadata": {},
      "source": [
        "---"
      ]
    },
    {
      "cell_type": "markdown",
      "metadata": {},
      "source": [
        "# EDA on selected variables"
      ]
    },
    {
      "cell_type": "code",
      "execution_count": null,
      "metadata": {},
      "outputs": [],
      "source": [
        "\n",
        "columns_to_keep = ['genre_id', 'original_language_encoded', 'budget', 'revenue']\n",
        "df_movies_filtered = df_movies[columns_to_keep]\n",
        "\n",
        "vars_to_study = ['budget', 'original_language_encoded', 'genre_id']  \n",
        "df_eda = df_movies_filtered[vars_to_study + ['revenue']]\n",
        "print(df_eda.head()) "
      ]
    },
    {
      "cell_type": "markdown",
      "metadata": {},
      "source": [
        "---"
      ]
    },
    {
      "cell_type": "markdown",
      "metadata": {},
      "source": [
        "## Variables Distribution by Churn"
      ]
    },
    {
      "cell_type": "markdown",
      "metadata": {},
      "source": [
        "We plot the distribution (numerical and categorical) "
      ]
    },
    {
      "cell_type": "code",
      "execution_count": null,
      "metadata": {},
      "outputs": [],
      "source": []
    },
    {
      "cell_type": "markdown",
      "metadata": {},
      "source": [
        "---"
      ]
    },
    {
      "cell_type": "markdown",
      "metadata": {},
      "source": [
        "# Conclusions and Next steps"
      ]
    },
    {
      "cell_type": "markdown",
      "metadata": {},
      "source": [
        "The correlations and plots interpretation converge. \n",
        "* A churned customer typically has a month-to-month contract.\n",
        "* A churned customer typically has fiber optic.\n",
        "* A churned customer typically doesn't have tech support.\n",
        "* A churned customer doesn't have online security.\n",
        "* A churned customer typically has low tenure levels."
      ]
    },
    {
      "cell_type": "markdown",
      "metadata": {},
      "source": [
        "* You may add as many sections as you want, as long as it supports your project workflow.\n",
        "* All notebook's cells should be run top-down (you can't create a dynamic wherein a given point you need to go back to a previous cell to execute some task, like go back to a previous cell and refresh a variable content)"
      ]
    },
    {
      "cell_type": "markdown",
      "metadata": {},
      "source": [
        "---"
      ]
    },
    {
      "cell_type": "markdown",
      "metadata": {
        "id": "ltNetd085qHf"
      },
      "source": [
        "# Push files to Repo"
      ]
    },
    {
      "cell_type": "markdown",
      "metadata": {},
      "source": [
        "* In case you don't need to push files to Repo, you may replace this section with \"Conclusions and Next Steps\" and state your conclusions and next steps."
      ]
    },
    {
      "cell_type": "code",
      "execution_count": null,
      "metadata": {
        "id": "aKlnIozA4eQO",
        "outputId": "fd09bc1f-adb1-4511-f6ce-492a6af570c0"
      },
      "outputs": [],
      "source": [
        "import os\n",
        "try:\n",
        "  # create here your folder\n",
        "  # os.makedirs(name='')\n",
        "except Exception as e:\n",
        "  print(e)\n"
      ]
    }
  ],
  "metadata": {
    "accelerator": "GPU",
    "colab": {
      "name": "Data Practitioner Jupyter Notebook.ipynb",
      "provenance": [],
      "toc_visible": true
    },
    "interpreter": {
      "hash": "8b8334dab9339717f727a1deaf837b322d7a41c20d15cc86be99a8e69ceec8ce"
    },
    "kernelspec": {
      "display_name": "Python 3.8.12 64-bit ('3.8.12': pyenv)",
      "name": "python3"
    },
    "language_info": {
      "codemirror_mode": {
        "name": "ipython",
        "version": 3
      },
      "file_extension": ".py",
      "mimetype": "text/x-python",
      "name": "python",
      "nbconvert_exporter": "python",
      "pygments_lexer": "ipython3",
      "version": "3.8.18"
    },
    "orig_nbformat": 2
  },
  "nbformat": 4,
  "nbformat_minor": 2
}
