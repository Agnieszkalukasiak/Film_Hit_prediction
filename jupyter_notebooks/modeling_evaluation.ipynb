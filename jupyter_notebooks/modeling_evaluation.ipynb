{
 "cells": [
  {
   "cell_type": "markdown",
   "metadata": {},
   "source": [
    "# Classification"
   ]
  },
  {
   "cell_type": "markdown",
   "metadata": {},
   "source": [
    "## Objectives\n",
    "\n",
    "*  Fit and evaluate a classification model to predict if a prospect will churn or not.\n",
    "\n",
    "## Inputs\n",
    "\n",
    "* outputs/datasets/collection/TelcoCustomerChurn.csv\n",
    "* Instructions on which variables to use for data cleaning and feature engineering. They are found in each respective notebook.\n",
    "\n",
    "## Outputs\n",
    "\n",
    "* Train set (features and target)\n",
    "* Test set (features and target)\n",
    "* Data cleaning and Feature Engineering pipeline\n",
    "* Modeling pipeline\n",
    "* Feature importance plot\n",
    "\n"
   ]
  },
  {
   "cell_type": "markdown",
   "metadata": {},
   "source": [
    "---"
   ]
  },
  {
   "cell_type": "markdown",
   "metadata": {},
   "source": [
    "# Change working directory"
   ]
  },
  {
   "cell_type": "markdown",
   "metadata": {},
   "source": [
    "Change the working directory from its current folder to its parent folder\n"
   ]
  },
  {
   "cell_type": "code",
   "execution_count": 25,
   "metadata": {},
   "outputs": [
    {
     "data": {
      "text/plain": [
       "'/workspace/Film_Hit_prediction'"
      ]
     },
     "execution_count": 25,
     "metadata": {},
     "output_type": "execute_result"
    }
   ],
   "source": [
    "import os\n",
    "current_dir = os.getcwd()\n",
    "current_dir"
   ]
  },
  {
   "cell_type": "markdown",
   "metadata": {},
   "source": [
    "Make the parent of the current directory the new current directory.\n"
   ]
  },
  {
   "cell_type": "code",
   "execution_count": 26,
   "metadata": {},
   "outputs": [
    {
     "name": "stdout",
     "output_type": "stream",
     "text": [
      "You set a new current directory\n"
     ]
    }
   ],
   "source": [
    "os.chdir(os.path.dirname(current_dir))\n",
    "print(\"You set a new current directory\")"
   ]
  },
  {
   "cell_type": "markdown",
   "metadata": {},
   "source": [
    "Confirm the new current directory"
   ]
  },
  {
   "cell_type": "code",
   "execution_count": 27,
   "metadata": {},
   "outputs": [
    {
     "data": {
      "text/plain": [
       "'/workspace'"
      ]
     },
     "execution_count": 27,
     "metadata": {},
     "output_type": "execute_result"
    }
   ],
   "source": [
    "current_dir = os.getcwd()\n",
    "current_dir"
   ]
  },
  {
   "cell_type": "markdown",
   "metadata": {},
   "source": [
    "---"
   ]
  },
  {
   "cell_type": "markdown",
   "metadata": {},
   "source": [
    "# Load Data "
   ]
  },
  {
   "cell_type": "markdown",
   "metadata": {},
   "source": [
    "Load Data"
   ]
  },
  {
   "cell_type": "markdown",
   "metadata": {},
   "source": []
  },
  {
   "cell_type": "code",
   "execution_count": 28,
   "metadata": {},
   "outputs": [
    {
     "name": "stdout",
     "output_type": "stream",
     "text": [
      "Dataset shapes:\n",
      "X_train shape: (813, 1354)\n",
      "y_train shape: (813,)\n",
      "X_test shape: (3284, 1354)\n",
      "y_test shape: (3284,)\n"
     ]
    }
   ],
   "source": [
    "import pandas as pd\n",
    "import pickle\n",
    "\n",
    "# Load the splits for modeling\n",
    "X_train = pd.read_pickle('/workspace/Film_Hit_prediction/jupyter_notebooks/outputs/engineered/X_train.pkl')\n",
    "X_test = pd.read_pickle('/workspace/Film_Hit_prediction/jupyter_notebooks/outputs/engineered/X_test.pkl')\n",
    "y_train = pd.read_pickle('/workspace/Film_Hit_prediction/jupyter_notebooks/outputs/engineered/y_train.pkl')\n",
    "y_test = pd.read_pickle('/workspace/Film_Hit_prediction/jupyter_notebooks/outputs/engineered/y_test.pkl')\n",
    "\n",
    "\n",
    "print(\"Dataset shapes:\")\n",
    "print(f\"X_train shape: {X_train.shape}\")\n",
    "print(f\"y_train shape: {y_train.shape}\")\n",
    "print(f\"X_test shape: {X_test.shape}\")\n",
    "print(f\"y_test shape: {y_test.shape}\")\n"
   ]
  },
  {
   "cell_type": "markdown",
   "metadata": {},
   "source": [
    "---"
   ]
  },
  {
   "cell_type": "markdown",
   "metadata": {},
   "source": [
    "# Step 2: ML Pipeline with all data"
   ]
  },
  {
   "cell_type": "markdown",
   "metadata": {},
   "source": [
    "## ML Pipeline for Modelling and Hyperparameter Optimisation"
   ]
  },
  {
   "cell_type": "code",
   "execution_count": 29,
   "metadata": {},
   "outputs": [],
   "source": [
    "from sklearn.linear_model import LinearRegression, Ridge, Lasso\n",
    "from sklearn.ensemble import RandomForestRegressor, GradientBoostingRegressor\n",
    "from sklearn.model_selection import GridSearchCV\n",
    "from sklearn.metrics import mean_squared_error, r2_score, mean_absolute_error\n",
    "\n",
    "# Define models\n",
    "\n",
    "models = {\n",
    "    'Linear Regression': {\n",
    "        'model': LinearRegression(),\n",
    "        'params': {}\n",
    "    },\n",
    "    'Ridge': {\n",
    "        'model': Ridge(),\n",
    "        'params': {\n",
    "            'alpha': [0.1, 1.0, 10.0]\n",
    "        }\n",
    "    },\n",
    "    'Lasso': {\n",
    "        'model': Lasso(),\n",
    "        'params': {\n",
    "            'alpha': [0.1, 1.0, 10.0]\n",
    "        }\n",
    "    },\n",
    "    'Random Forest': {\n",
    "        'model': RandomForestRegressor(random_state=42),\n",
    "        'params': {\n",
    "            'n_estimators': [100, 200],\n",
    "            'max_depth': [10, 20, None],\n",
    "            'min_samples_split': [2, 5],\n",
    "        }\n",
    "    },\n",
    " \n",
    "}\n"
   ]
  },
  {
   "cell_type": "markdown",
   "metadata": {},
   "source": [
    "# Set up and train model"
   ]
  },
  {
   "cell_type": "code",
   "execution_count": 30,
   "metadata": {},
   "outputs": [
    {
     "name": "stdout",
     "output_type": "stream",
     "text": [
      "\n",
      "Training Linear Regression...\n",
      "\n",
      "Training Ridge...\n",
      "\n",
      "Training Lasso...\n",
      "\n",
      "Training Random Forest...\n"
     ]
    }
   ],
   "source": [
    "\n",
    "\n",
    "results = {}\n",
    "best_models = {}\n",
    "\n",
    "for name, model_info in models.items():\n",
    "    print(f\"\\nTraining {name}...\")\n",
    "\n",
    "    # GridSearchCV performs the hyperparameter optimization\n",
    "    grid_search = GridSearchCV(\n",
    "        model_info['model'],\n",
    "        model_info['params'],\n",
    "        cv=5,\n",
    "        scoring='neg_mean_squared_error',\n",
    "        n_jobs= 2\n",
    "    )\n",
    "    \n",
    "    grid_search.fit(X_train, y_train)\n"
   ]
  },
  {
   "cell_type": "markdown",
   "metadata": {},
   "source": [
    "# Train Models and Evaluate Performance"
   ]
  },
  {
   "cell_type": "code",
   "execution_count": 31,
   "metadata": {},
   "outputs": [
    {
     "name": "stdout",
     "output_type": "stream",
     "text": [
      "\n",
      "Training Linear Regression...\n",
      "\n",
      "Results for Linear Regression:\n",
      "RMSE: 62979898174.27\n",
      "R2 Score: -3966467574041311444992.00\n",
      "Best Parameters: {}\n",
      "\n",
      "Training Ridge...\n",
      "\n",
      "Results for Ridge:\n",
      "RMSE: 0.71\n",
      "R2 Score: 0.50\n",
      "Best Parameters: {'alpha': 10.0}\n",
      "\n",
      "Training Lasso...\n",
      "\n",
      "Results for Lasso:\n",
      "RMSE: 0.64\n",
      "R2 Score: 0.59\n",
      "Best Parameters: {'alpha': 0.1}\n",
      "\n",
      "Training Random Forest...\n",
      "\n",
      "Results for Random Forest:\n",
      "RMSE: 0.59\n",
      "R2 Score: 0.66\n",
      "Best Parameters: {'max_depth': None, 'min_samples_split': 2, 'n_estimators': 200}\n"
     ]
    }
   ],
   "source": [
    "import numpy as np\n",
    "from sklearn.metrics import mean_squared_error, r2_score\n",
    "import joblib\n",
    "\n",
    "results = {}\n",
    "best_models = {}\n",
    "\n",
    "for name, model_info in models.items():\n",
    "    print(f\"\\nTraining {name}...\")\n",
    "    \n",
    "    # GridSearchCV performs the hyperparameter optimization\n",
    "    grid_search = GridSearchCV(\n",
    "        model_info['model'],\n",
    "        model_info['params'],\n",
    "        cv=5,\n",
    "        scoring='neg_mean_squared_error',\n",
    "        n_jobs=2\n",
    "    )\n",
    "    \n",
    "    # Fit the model\n",
    "    grid_search.fit(X_train, y_train)\n",
    "    \n",
    "    # Store the best model and make predictions\n",
    "    best_models[name] = grid_search.best_estimator_\n",
    "    y_pred = grid_search.predict(X_test)\n",
    "    \n",
    "    # Calculate metrics\n",
    "    mse = mean_squared_error(y_test, y_pred)\n",
    "    rmse = np.sqrt(mse)\n",
    "    r2 = r2_score(y_test, y_pred)\n",
    "    \n",
    "    # Store results\n",
    "    results[name] = {\n",
    "        'MSE': mse,\n",
    "        'RMSE': rmse,\n",
    "        'R2 Score': r2,\n",
    "        'Best Parameters': grid_search.best_params_\n",
    "    }\n",
    "    \n",
    "    # Print results\n",
    "    print(f\"\\nResults for {name}:\")\n",
    "    print(f\"RMSE: {rmse:.2f}\")\n",
    "    print(f\"R2 Score: {r2:.2f}\")\n",
    "    print(f\"Best Parameters: {grid_search.best_params_}\")"
   ]
  },
  {
   "cell_type": "markdown",
   "metadata": {},
   "source": [
    "# Save Best Performing Model"
   ]
  },
  {
   "cell_type": "code",
   "execution_count": 32,
   "metadata": {},
   "outputs": [
    {
     "name": "stdout",
     "output_type": "stream",
     "text": [
      "Best model saved successfully!\n"
     ]
    }
   ],
   "source": [
    "import os\n",
    "import joblib\n",
    "\n",
    "best_model = None\n",
    "best_score = float('-inf')\n",
    "\n",
    "# Find the best model based on R2 score\n",
    "for name, metrics in results.items():\n",
    "    if metrics['R2 Score'] > best_score:\n",
    "        best_score = metrics['R2 Score']\n",
    "        best_model = best_models[name]\n",
    "\n",
    "\n",
    "# Save the best model using joblib\n",
    "joblib.dump(best_model, '/workspace/Film_Hit_prediction/jupyter_notebooks/outputs/models/film_revenue_model.joblib')\n",
    "\n",
    "print(\"Best model saved successfully!\")\n"
   ]
  },
  {
   "cell_type": "markdown",
   "metadata": {},
   "source": [
    "## Assess feature importance"
   ]
  },
  {
   "cell_type": "code",
   "execution_count": 33,
   "metadata": {},
   "outputs": [
    {
     "name": "stdout",
     "output_type": "stream",
     "text": [
      "Loaded model type: <class 'sklearn.ensemble._forest.RandomForestRegressor'>\n",
      "\n",
      "Top 10 Most Important Features:\n",
      "                     Feature  Importance\n",
      "1239                  budget    0.596879\n",
      "487               popularity    0.176497\n",
      "399                  runtime    0.064591\n",
      "838        budget_per_minute    0.032197\n",
      "391   company_DreamWorks SKG    0.012953\n",
      "1059       other_actor_count    0.009752\n",
      "1240    other_producer_count    0.006264\n",
      "466        company_Lucasfilm    0.004710\n",
      "469     other_director_count    0.003148\n",
      "492                    Drama    0.002872\n"
     ]
    },
    {
     "data": {
      "image/png": "[encoded data removed]",
      "text/plain": [
       "<Figure size 1200x600 with 1 Axes>"
      ]
     },
     "metadata": {},
     "output_type": "display_data"
    }
   ],
   "source": [
    "import joblib\n",
    "import pandas as pd\n",
    "import matplotlib.pyplot as plt\n",
    "\n",
    "# Load the saved Random Forest model\n",
    "model_path = '/workspace/Film_Hit_prediction/jupyter_notebooks/outputs/models/film_revenue_model.joblib'\n",
    "loaded_model = joblib.load(model_path)\n",
    "\n",
    "print(\"Loaded model type:\", type(loaded_model))\n",
    "\n",
    "\n",
    "# Create a DataFrame for feature importance\n",
    "feature_importance = pd.DataFrame({\n",
    "    'Feature': X_train.columns,\n",
    "    'Importance': loaded_model.feature_importances_\n",
    "})\n",
    "\n",
    "# Sort features by importance in descending order\n",
    "feature_importance = feature_importance.sort_values(by='Importance', ascending=False)\n",
    "\n",
    "# Print top 10 most important features\n",
    "print(\"\\nTop 10 Most Important Features:\")\n",
    "print(feature_importance.head(10))\n",
    "\n",
    "# Plot the top 10 feature importance\n",
    "plt.figure(figsize=(12, 6))\n",
    "plt.bar(feature_importance['Feature'][:10], feature_importance['Importance'][:10])\n",
    "plt.xticks(rotation=45, ha='right')\n",
    "plt.title('Top 10 Feature Importance for Revenue Prediction')\n",
    "plt.xlabel('Features')\n",
    "plt.ylabel('Importance Score')\n",
    "plt.tight_layout()\n",
    "plt.show()\n"
   ]
  },
  {
   "cell_type": "markdown",
   "metadata": {},
   "source": [
    "# Prediction Model\n"
   ]
  },
  {
   "cell_type": "markdown",
   "metadata": {},
   "source": [
    "Create a function to make predictions for new movies based on parameters:\n",
    "-  budget (float): Movie budget in dollars\n",
    "- language (str): Original language (e.g., 'en' for English)\n",
    "- genres (list): List of genres (e.g., ['Action', 'Adventure'])\n",
    "    \n",
    " Returns:\n",
    "- float: Predicted revenue and profit"
   ]
  },
  {
   "cell_type": "markdown",
   "metadata": {},
   "source": [
    "New model"
   ]
  },
  {
   "cell_type": "code",
   "execution_count": 34,
   "metadata": {},
   "outputs": [
    {
     "name": "stdout",
     "output_type": "stream",
     "text": [
      "Initializing prediction system...\n",
      "Loading models and data...\n",
      "Loading revenue prediction model...\n",
      "Model loaded successfully!\n",
      "Loading training and test data...\n",
      "Loading encoders...\n",
      "Loading feature engineering data...\n",
      "All models and data loaded successfully!\n"
     ]
    }
   ],
   "source": [
    "import pandas as pd\n",
    "import numpy as np\n",
    "import pickle\n",
    "import joblib\n",
    "from sklearn.preprocessing import StandardScaler\n",
    "\n",
    "\n",
    "# First load all necessary models and data\n",
    "def load_models_and_data():\n",
    "    \"\"\"\n",
    "    Load all necessary models, encoders, and data files\n",
    "    \"\"\"\n",
    "    try:\n",
    "        print(\"Loading models and data...\")\n",
    "        \n",
    "        # Load the trained model\n",
    "        print(\"Loading revenue prediction model...\")\n",
    "        model = joblib.load('/workspace/Film_Hit_prediction/jupyter_notebooks/outputs/models/film_revenue_model.joblib')\n",
    "        print(\"Model loaded successfully!\")\n",
    "        \n",
    "        # Load the training and test data\n",
    "        print(\"Loading training and test data...\")\n",
    "        with open('/workspace/Film_Hit_prediction/jupyter_notebooks/outputs/engineered/train_df_engineered.pkl', 'rb') as f:\n",
    "            train_df = pickle.load(f)\n",
    "            \n",
    "        with open('/workspace/Film_Hit_prediction/jupyter_notebooks/outputs/engineered/test_df_engineered.pkl', 'rb') as f:\n",
    "            test_df = pickle.load(f)\n",
    "            \n",
    "        # Load encoders and filters\n",
    "        print(\"Loading encoders...\")\n",
    "        with open('/workspace/Film_Hit_prediction/jupyter_notebooks/outputs/cleaned/encoders_and_filters.pkl', 'rb') as f:\n",
    "            encoders = pickle.load(f)\n",
    "\n",
    "        # Load feature engineering data\n",
    "        print(\"Loading feature engineering data...\")\n",
    "        with open('/workspace/Film_Hit_prediction/jupyter_notebooks/outputs/engineered/feature_engineering_data.pkl', 'rb') as f:\n",
    "            eng_data = pickle.load(f)\n",
    "\n",
    "        with open('/workspace/Film_Hit_prediction/jupyter_notebooks/outputs/engineered/all_features.pkl', 'rb') as f:\n",
    "            all_features = pickle.load(f)\n",
    "            features = {col: 0 for col in all_features}\n",
    "\n",
    "        with open('/workspace/Film_Hit_prediction/jupyter_notebooks/outputs/engineered/feature_scaler.pkl', 'rb') as f:\n",
    "            scaler = pickle.load(f)\n",
    "            \n",
    "        print(\"All models and data loaded successfully!\")\n",
    "        \n",
    "        return {\n",
    "            'train_df': train_df,\n",
    "            'test_df': test_df,\n",
    "            'encoders': encoders,\n",
    "            'eng_data': eng_data,\n",
    "            'model': model,\n",
    "            'feature_names': train_df.columns\n",
    "        }\n",
    "    except Exception as e:\n",
    "        print(f\"Error loading models and data: {str(e)}\")\n",
    "        print(\"Error details:\")\n",
    "        import traceback\n",
    "        traceback.print_exc()\n",
    "        return None\n",
    "    \n",
    "    # Load all models and data once\n",
    "print(\"Initializing prediction system...\")\n",
    "MODELS_AND_DATA = load_models_and_data()"
   ]
  },
  {
   "cell_type": "code",
   "execution_count": 35,
   "metadata": {},
   "outputs": [
    {
     "name": "stdout",
     "output_type": "stream",
     "text": [
      "Number of features: 1355\n",
      "\n",
      "Important numeric features shape: (1, 4)\n",
      "Error in prediction: X has 1355 features, but StandardScaler is expecting 156 features as input.\n",
      "Error details: ValueError\n"
     ]
    },
    {
     "name": "stderr",
     "output_type": "stream",
     "text": [
      "Traceback (most recent call last):\n",
      "  File \"/tmp/ipykernel_1250/829027248.py\", line 124, in predict_movie_revenue\n",
      "    pred_df = pd.DataFrame(scaler.transform(pred_df), columns=feature_names)\n",
      "  File \"/workspace/.pip-modules/lib/python3.8/site-packages/sklearn/preprocessing/_data.py\", line 883, in transform\n",
      "    X = self._validate_data(X, reset=False,\n",
      "  File \"/workspace/.pip-modules/lib/python3.8/site-packages/sklearn/base.py\", line 437, in _validate_data\n",
      "    self._check_n_features(X, reset=reset)\n",
      "  File \"/workspace/.pip-modules/lib/python3.8/site-packages/sklearn/base.py\", line 365, in _check_n_features\n",
      "    raise ValueError(\n",
      "ValueError: X has 1355 features, but StandardScaler is expecting 156 features as input.\n"
     ]
    }
   ],
   "source": [
    "import pandas as pd\n",
    "import numpy as np\n",
    "import pickle\n",
    "import joblib\n",
    "from sklearn.preprocessing import StandardScaler\n",
    "\n",
    "\n",
    "def predict_movie_revenue(\n",
    "    budget,\n",
    "    runtime,\n",
    "    genres,  # list of genres\n",
    "    language,\n",
    "    production_company,\n",
    "    production_country,\n",
    "    actor1,\n",
    "    actor2,\n",
    "    crew_director,\n",
    "    crew_writer,\n",
    "    crew_producer\n",
    "):\n",
    "    try:\n",
    "        if MODELS_AND_DATA is None:\n",
    "            raise ValueError(\"Models and data not properly loaded\")\n",
    "            \n",
    "        # Unpack models and data\n",
    "        train_df = MODELS_AND_DATA['train_df']\n",
    "        encoders = MODELS_AND_DATA['encoders']\n",
    "        eng_data = MODELS_AND_DATA['eng_data']\n",
    "        model = MODELS_AND_DATA['model']\n",
    "        feature_names = MODELS_AND_DATA['feature_names']\n",
    "        scaler = eng_data['scaler']\n",
    "        \n",
    "        print(f\"Number of features: {len(feature_names)}\")\n",
    "        \n",
    "\n",
    "        # Load the full list of features\n",
    "        with open('/workspace/Film_Hit_prediction/jupyter_notebooks/outputs/engineered/all_features.pkl', 'rb') as f:\n",
    "            all_features = pickle.load(f)\n",
    "\n",
    "        # Initialize features dictionary with all features set to 0 by default\n",
    "        features = {col: 0 for col in all_features}\n",
    "        \n",
    "        # Most important numeric features first\n",
    "        features['budget'] = budget\n",
    "        features['popularity'] = 0  # Default value for new movies\n",
    "        features['runtime'] = runtime\n",
    "        features['budget_per_minute'] = budget / runtime if runtime > 0 else 0\n",
    "\n",
    "        # Set actor features\n",
    "        if f'cast_{actor1}' in features:\n",
    "            features[f'cast_{actor1}'] = 1\n",
    "\n",
    "        if f'cast_{actor2}' in features:\n",
    "            features[f'cast_{actor2}'] = 1\n",
    "\n",
    "        # Update 'other_actor_count' if the actors are not in the top list\n",
    "        features['other_actor_count'] = 2 - sum(features[f'cast_{actor}'] for actor in [actor1, actor2] if f'cast_{actor}' in features)\n",
    "        \n",
    "        # Set director features\n",
    "        if f'crew_director_{crew_director}' in features:\n",
    "            features[f'crew_director_{crew_director}'] = 1\n",
    "            features['other_director_count'] = 0\n",
    "        else:\n",
    "            features['other_director_count'] = 1\n",
    "\n",
    "        # Set writer features\n",
    "        if f'crew_writer_{crew_writer}' in features:\n",
    "            features[f'crew_writer_{crew_writer}'] = 1\n",
    "            features['other_writer_count'] = 0\n",
    "        else:\n",
    "            features['other_writer_count'] = 1\n",
    "        \n",
    "        # Set producer features\n",
    "        if f'crew_producer_{crew_producer}' in features:\n",
    "            features[f'crew_producer_{crew_producer}'] = 1\n",
    "            features['other_producer_count'] = 0\n",
    "        else:\n",
    "            features['other_producer_count'] = 1\n",
    "\n",
    "        if f'company_{production_company}' in features:\n",
    "            features[f'company_{production_company}'] = 1\n",
    "        else:\n",
    "            features['other_company_count'] = 1 \n",
    "\n",
    "        genre_columns = [\n",
    "            'Action', 'Adventure', 'Animation', 'Comedy', 'Crime',\n",
    "            'Documentary', 'Drama', 'Family', 'Fantasy', 'History',\n",
    "            'Horror', 'Music', 'Mystery', 'Romance', 'Science Fiction',\n",
    "            'TV Movie', 'Thriller', 'War', 'Western'\n",
    "        ]\n",
    "        \n",
    "        # Ensure at least one genre is provided\n",
    "        if not genres:\n",
    "            raise ValueError(\"At least one genre must be provided.\")\n",
    "\n",
    "        # Set genre features by checking against the predefined genre columns\n",
    "        for genre in genre_columns:\n",
    "            features[genre] = 1 if genre in genres else 0\n",
    "        \n",
    "        # language\n",
    "        features['language_encoded'] = encoders['language_encoder'].transform([language])[0]\n",
    "        features['is_english'] = 1 if language == 'en' else 0\n",
    "        \n",
    "        \n",
    "    \n",
    "            \n",
    "        \n",
    "        # Create DataFrame with all features\n",
    "        pred_df = pd.DataFrame([features])\n",
    "        \n",
    "        # Ensure column order matches training data\n",
    "        pred_df = pred_df.reindex(columns=feature_names, fill_value=0)\n",
    "        \n",
    "        # Most important features to be scaled\n",
    "        important_numeric_features = [\n",
    "            'budget',\n",
    "            'popularity',\n",
    "            'runtime',\n",
    "            'budget_per_minute'\n",
    "        ]\n",
    "        \n",
    "        print(\"\\nImportant numeric features shape:\", pred_df[important_numeric_features].shape)\n",
    "        # Scale the numeric features\n",
    "        pred_df = pd.DataFrame(scaler.transform(pred_df), columns=feature_names)\n",
    "\n",
    "        \n",
    "        # Make prediction\n",
    "        predicted_revenue = model.predict(pred_df)[0]\n",
    "        \n",
    "        print(\"\\nPrediction successful!\")\n",
    "        return predicted_revenue\n",
    "        \n",
    "    except Exception as e:\n",
    "        print(f\"Error in prediction: {str(e)}\")\n",
    "        print(f\"Error details: {type(e).__name__}\")\n",
    "        import traceback\n",
    "        traceback.print_exc()\n",
    "        return None\n",
    "\n",
    "# Example usage\n",
    "if __name__ == \"__main__\":\n",
    "    test_movie = {\n",
    "        'budget': 150000000,\n",
    "        'runtime': 120,\n",
    "        'genres': ['Action'],\n",
    "        'language': 'en',\n",
    "        'production_company': 'Marvel Studios',\n",
    "        'production_country': 'US',\n",
    "        'actor1': 'Chris Hemsworth',\n",
    "        'actor2': 'Robert Downey Jr.',\n",
    "        'crew_director': 'Joss Whedon',\n",
    "        'crew_writer': 'Joss Whedon',\n",
    "        'crew_producer': 'Kevin Feige'\n",
    "    }\n",
    "    \n",
    "    prediction = predict_movie_revenue(**test_movie)\n",
    "    \n",
    "    if prediction is not None:\n",
    "        print(f\"\\nPredicted Revenue: ${prediction:,.2f}\")"
   ]
  },
  {
   "cell_type": "code",
   "execution_count": 43,
   "metadata": {},
   "outputs": [
    {
     "name": "stdout",
     "output_type": "stream",
     "text": [
      "Type of loaded object: <class 'list'>\n",
      "Column names: [0]\n",
      "['budget', 'revenue', 'popularity', 'budget_per_minute', 'cast_Stan Lee_pop_weight']\n"
     ]
    }
   ],
   "source": [
    "import pandas as pd\n",
    "\n",
    "# Load the data from the pickle file\n",
    "with open(\"/workspace/Film_Hit_prediction/jupyter_notebooks/outputs/engineered/all_features.pkl\", \"rb\") as f:\n",
    "    data = pickle.load(f) \n",
    "\n",
    "# Check the type of the loaded object\n",
    "print(\"Type of loaded object:\", type(data)) \n",
    "\n",
    "# If data is a list, try to convert it to a DataFrame \n",
    "if isinstance(data, list):\n",
    "    try:\n",
    "        df = pd.DataFrame(data) \n",
    "    except Exception as e:\n",
    "        print(f\"Error converting data to DataFrame: {e}\")\n",
    "        df = None \n",
    "else:\n",
    "    df = data \n",
    "\n",
    "# Print the column names if df is a DataFrame\n",
    "if isinstance(df, pd.DataFrame):\n",
    "    print(\"Column names:\", df.columns.tolist())\n",
    "\n",
    "    print(data[:5])  # Print the first 5 elements of the list\n",
    "\n",
    "if isinstance(data, list) and len(data) > 0 and isinstance(data[0], list):\n",
    "    print(\"Length of the first inner list:\", len(data[0])) "
   ]
  },
  {
   "cell_type": "code",
   "execution_count": 45,
   "metadata": {},
   "outputs": [
    {
     "name": "stdout",
     "output_type": "stream",
     "text": [
      "Type of loaded object: <class 'list'>\n",
      "Number of features: 1\n"
     ]
    }
   ],
   "source": [
    "import pandas as pd\n",
    "\n",
    "# Load the data from the pickle file\n",
    "with open(\"/workspace/Film_Hit_prediction/jupyter_notebooks/outputs/engineered/all_features.pkl\", \"rb\") as f:\n",
    "    data = pickle.load(f)\n",
    "\n",
    "# Check the type of the loaded object\n",
    "print(\"Type of loaded object:\", type(data))\n",
    "\n",
    "# If data is a list, try to convert it to a DataFrame\n",
    "if isinstance(data, list):\n",
    "    try:\n",
    "        df = pd.DataFrame(data) \n",
    "    except Exception as e:\n",
    "        print(f\"Error converting data to DataFrame: {e}\")\n",
    "        df = None \n",
    "else:\n",
    "    df = data \n",
    "\n",
    "# Get the number of features (columns) if df is a DataFrame\n",
    "if isinstance(df, pd.DataFrame):\n",
    "    num_features = len(df.columns)\n",
    "    print(f\"Number of features: {num_features}\")\n"
   ]
  },
  {
   "cell_type": "code",
   "execution_count": null,
   "metadata": {},
   "outputs": [],
   "source": []
  },
  {
   "cell_type": "markdown",
   "metadata": {},
   "source": [
    "old modeling"
   ]
  },
  {
   "cell_type": "markdown",
   "metadata": {},
   "source": [
    "Testing"
   ]
  },
  {
   "cell_type": "code",
   "execution_count": 36,
   "metadata": {},
   "outputs": [
    {
     "name": "stdout",
     "output_type": "stream",
     "text": [
      "\n",
      "Testing: {'budget': 2000000, 'language': 'en', 'genres': ['horror']}\n"
     ]
    },
    {
     "ename": "NameError",
     "evalue": "name 'predict_movie_metrix' is not defined",
     "output_type": "error",
     "traceback": [
      "\u001b[0;31m---------------------------------------------------------------------------\u001b[0m",
      "\u001b[0;31mNameError\u001b[0m                                 Traceback (most recent call last)",
      "Cell \u001b[0;32mIn[36], line 9\u001b[0m\n\u001b[1;32m      7\u001b[0m \u001b[38;5;28;01mfor\u001b[39;00m movie \u001b[38;5;129;01min\u001b[39;00m test_cases:\n\u001b[1;32m      8\u001b[0m     \u001b[38;5;28mprint\u001b[39m(\u001b[38;5;124m\"\u001b[39m\u001b[38;5;130;01m\\n\u001b[39;00m\u001b[38;5;124mTesting:\u001b[39m\u001b[38;5;124m\"\u001b[39m, movie)\n\u001b[0;32m----> 9\u001b[0m     result \u001b[38;5;241m=\u001b[39m \u001b[43mpredict_movie_metrix\u001b[49m(movie[\u001b[38;5;124m'\u001b[39m\u001b[38;5;124mbudget\u001b[39m\u001b[38;5;124m'\u001b[39m], movie[\u001b[38;5;124m'\u001b[39m\u001b[38;5;124mlanguage\u001b[39m\u001b[38;5;124m'\u001b[39m], movie[\u001b[38;5;124m'\u001b[39m\u001b[38;5;124mgenres\u001b[39m\u001b[38;5;124m'\u001b[39m])\n",
      "\u001b[0;31mNameError\u001b[0m: name 'predict_movie_metrix' is not defined"
     ]
    }
   ],
   "source": [
    "test_cases = [\n",
    "    {'budget': 2000000, 'language': 'en', 'genres': ['horror']},  # Low budget horror\n",
    "    {'budget': 300000000, 'language': 'en', 'genres': ['action', 'adventure']},  # Blockbuster\n",
    "    {'budget': 90000000, 'language': 'fr', 'genres': ['comedy']},  # Mid-budget foreign\n",
    "]\n",
    "\n",
    "for movie in test_cases:\n",
    "    print(\"\\nTesting:\", movie)\n",
    "    result = predict_movie_metrix(movie['budget'], movie['language'], movie['genres'])"
   ]
  },
  {
   "cell_type": "markdown",
   "metadata": {},
   "source": [
    "# Evaluation\n"
   ]
  },
  {
   "cell_type": "markdown",
   "metadata": {},
   "source": [
    "Load model"
   ]
  },
  {
   "cell_type": "code",
   "execution_count": null,
   "metadata": {},
   "outputs": [],
   "source": [
    "import joblib\n",
    "\n",
    "model_path = \"/workspace/Film_Hit_prediction/outputs/models/\"  \n",
    "\n",
    "model = joblib.load(model_path + 'movie_revenue_predictor.joblib')\n",
    "\n",
    "print(\"Model loaded:\", type(model))"
   ]
  },
  {
   "cell_type": "markdown",
   "metadata": {},
   "source": [
    "Make predictions on test data "
   ]
  },
  {
   "cell_type": "code",
   "execution_count": null,
   "metadata": {},
   "outputs": [],
   "source": [
    "from sklearn.metrics import r2_score, mean_absolute_error, mean_squared_error\n",
    "import numpy as np\n",
    "\n",
    "# Define Genres\n",
    "all_genres = ['Action', 'Adventure', 'Animation', 'Comedy', 'Crime',\n",
    "              'Documentary', 'Drama', 'Family', 'Fantasy', 'History',\n",
    "              'Horror', 'Music', 'Mystery', 'Romance', 'Science Fiction',\n",
    "              'TV Movie', 'Thriller', 'War', 'Western', 'Foreign']\n",
    "\n",
    "\n",
    "#Evaluation\n",
    "test_predictions = []\n",
    "test_profit = []\n",
    "\n",
    "# Get predictions for test set\n",
    "y_pred = model.predict(X_test_final)\n",
    "test_predictions = y_pred.tolist()\n",
    "\n",
    "\n",
    "#Caluclate metrics\n",
    "\n",
    "print(\"Revenue Prediction Metrics:\")\n",
    "print(f\"R2 Score: {r2_score(y_test_final, test_predictions):.3f}\")\n",
    "print(f\"MAE: ${mean_absolute_error(y_test_final, test_predictions):,.2f}\")\n",
    "print(f\"RMSE: ${mean_squared_error(y_test_final, test_predictions, squared=False):,.2f}\")\n",
    "\n",
    "\n"
   ]
  },
  {
   "cell_type": "markdown",
   "metadata": {},
   "source": [
    "Vizualization predictions vs actual values"
   ]
  },
  {
   "cell_type": "code",
   "execution_count": null,
   "metadata": {},
   "outputs": [],
   "source": [
    "\n",
    "import matplotlib.pyplot as plt\n",
    "import seaborn as sns\n",
    "\n",
    "# scatter plot\n",
    "plt.figure(figsize=(10, 6))\n",
    "plt.scatter(y_test_final, y_pred, alpha=0.5)\n",
    "plt.plot([y_test_final.min(), y_test_final.max()], [y_test_final.min(), y_test_final.max()], 'r--', lw=2)\n",
    "\n",
    "plt.xlabel('Actual Revenue')\n",
    "plt.ylabel('Predicted Revenue')\n",
    "plt.title('Predicted vs Actual Movie Revenue')\n",
    "\n",
    "# correlation coefficient\n",
    "correlation = np.corrcoef(y_test_final.squeeze(), y_pred)[0,1]\n",
    "plt.text(0.05, 0.95, f'Correlation: {correlation:.2f}', transform=plt.gca().transAxes)\n",
    "\n",
    "plt.tight_layout()\n",
    "plt.show()"
   ]
  },
  {
   "cell_type": "markdown",
   "metadata": {},
   "source": [
    "Residual Analysis"
   ]
  },
  {
   "cell_type": "markdown",
   "metadata": {},
   "source": [
    "verify size "
   ]
  },
  {
   "cell_type": "markdown",
   "metadata": {},
   "source": [
    "Match sizes"
   ]
  },
  {
   "cell_type": "code",
   "execution_count": null,
   "metadata": {},
   "outputs": [],
   "source": [
    "print(\"Training set shape:\", X_train_final.shape)\n",
    "print(\"Test set shape:\", X_test_final.shape)\n",
    "print(\"y_train shape:\", y_train_final.shape)\n",
    "print(\"y_test shape:\", y_test_final.shape)\n",
    "print(\"y_pred shape:\", y_pred.shape)"
   ]
  },
  {
   "cell_type": "code",
   "execution_count": null,
   "metadata": {},
   "outputs": [],
   "source": [
    "print([var for var in globals() if 'y_' in var])"
   ]
  },
  {
   "cell_type": "markdown",
   "metadata": {},
   "source": [
    "plot"
   ]
  },
  {
   "cell_type": "code",
   "execution_count": null,
   "metadata": {},
   "outputs": [],
   "source": [
    "import matplotlib.pyplot as plt\n",
    "import seaborn as sns\n",
    "\n",
    "residuals = y_test_final.values.ravel() - y_pred\n",
    "\n",
    "plt.figure(figsize=(15, 5))\n",
    "plt.subplot(1, 2, 1)\n",
    "plt.scatter(y_pred, residuals)\n",
    "plt.axhline(y=0, color='r', linestyle='--')\n",
    "plt.xlabel('Predicted Values')\n",
    "plt.ylabel('Residuals')\n",
    "plt.title('Residual Plot')\n",
    "\n",
    "plt.subplot(1, 2, 2)\n",
    "sns.histplot(residuals, kde=True)\n",
    "plt.title('Distribution of Residuals')\n",
    "plt.show()"
   ]
  },
  {
   "cell_type": "markdown",
   "metadata": {},
   "source": [
    "Learning Curves"
   ]
  },
  {
   "cell_type": "code",
   "execution_count": null,
   "metadata": {},
   "outputs": [],
   "source": [
    "from sklearn.model_selection import learning_curve \n",
    "\n",
    "train_sizes, train_scores, test_scores = learning_curve(\n",
    "    model, \n",
    "    X_train_final.values, \n",
    "    y_train_final.values,\n",
    "    cv=5, \n",
    "    n_jobs=-1, \n",
    "    train_sizes=np.linspace(0.1, 1.0, 10)\n",
    ")\n",
    "\n",
    "plt.figure(figsize=(10, 6))\n",
    "plt.plot(train_sizes, train_scores.mean(axis=1), label='Training score')\n",
    "plt.plot(train_sizes, test_scores.mean(axis=1), label='Cross-validation score')\n",
    "plt.xlabel('Training Size')\n",
    "plt.ylabel('Score')\n",
    "plt.title('Learning Curves')\n",
    "plt.legend()\n",
    "plt.show()"
   ]
  },
  {
   "cell_type": "code",
   "execution_count": null,
   "metadata": {},
   "outputs": [],
   "source": [
    "print(\"\\nModel Evaluation Metrics:\")\n",
    "print(f\"R² Score: {r2_score(y_test_final, y_pred):.3f}\")\n",
    "print(f\"MAE: ${mean_absolute_error(y_test_final, y_pred):.2f}\")\n",
    "print(f\"RMSE: ${np.sqrt(mean_squared_error(y_test_final, y_pred)):.2f}\")"
   ]
  }
 ],
 "metadata": {
  "kernelspec": {
   "display_name": "Python 3",
   "language": "python",
   "name": "python3"
  },
  "language_info": {
   "codemirror_mode": {
    "name": "ipython",
    "version": 3
   },
   "file_extension": ".py",
   "mimetype": "text/x-python",
   "name": "python",
   "nbconvert_exporter": "python",
   "pygments_lexer": "ipython3",
   "version": "3.8.18"
  }
 },
 "nbformat": 4,
 "nbformat_minor": 2
}
