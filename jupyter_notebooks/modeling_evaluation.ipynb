{
 "cells": [
  {
   "cell_type": "markdown",
   "metadata": {},
   "source": [
    "# Classification"
   ]
  },
  {
   "cell_type": "markdown",
   "metadata": {},
   "source": [
    "## Objectives\n",
    "\n",
    "*  Fit and evaluate a classification model to predict if a prospect will churn or not.\n",
    "\n",
    "## Inputs\n",
    "\n",
    "* outputs/datasets/collection/TelcoCustomerChurn.csv\n",
    "* Instructions on which variables to use for data cleaning and feature engineering. They are found in each respective notebook.\n",
    "\n",
    "## Outputs\n",
    "\n",
    "* Train set (features and target)\n",
    "* Test set (features and target)\n",
    "* Data cleaning and Feature Engineering pipeline\n",
    "* Modeling pipeline\n",
    "* Feature importance plot\n",
    "\n"
   ]
  },
  {
   "cell_type": "markdown",
   "metadata": {},
   "source": [
    "---"
   ]
  },
  {
   "cell_type": "markdown",
   "metadata": {},
   "source": [
    "# Change working directory"
   ]
  },
  {
   "cell_type": "markdown",
   "metadata": {},
   "source": [
    "Change the working directory from its current folder to its parent folder\n"
   ]
  },
  {
   "cell_type": "code",
   "execution_count": 1,
   "metadata": {},
   "outputs": [
    {
     "data": {
      "text/plain": [
       "'/workspace/Film_Hit_prediction/jupyter_notebooks'"
      ]
     },
     "execution_count": 1,
     "metadata": {},
     "output_type": "execute_result"
    }
   ],
   "source": [
    "import os\n",
    "current_dir = os.getcwd()\n",
    "current_dir"
   ]
  },
  {
   "cell_type": "markdown",
   "metadata": {},
   "source": [
    "Make the parent of the current directory the new current directory.\n"
   ]
  },
  {
   "cell_type": "code",
   "execution_count": 2,
   "metadata": {},
   "outputs": [
    {
     "name": "stdout",
     "output_type": "stream",
     "text": [
      "You set a new current directory\n"
     ]
    }
   ],
   "source": [
    "os.chdir(os.path.dirname(current_dir))\n",
    "print(\"You set a new current directory\")"
   ]
  },
  {
   "cell_type": "markdown",
   "metadata": {},
   "source": [
    "Confirm the new current directory"
   ]
  },
  {
   "cell_type": "code",
   "execution_count": 3,
   "metadata": {},
   "outputs": [
    {
     "data": {
      "text/plain": [
       "'/workspace/Film_Hit_prediction'"
      ]
     },
     "execution_count": 3,
     "metadata": {},
     "output_type": "execute_result"
    }
   ],
   "source": [
    "current_dir = os.getcwd()\n",
    "current_dir"
   ]
  },
  {
   "cell_type": "markdown",
   "metadata": {},
   "source": [
    "---"
   ]
  },
  {
   "cell_type": "markdown",
   "metadata": {},
   "source": [
    "# Load Data "
   ]
  },
  {
   "cell_type": "markdown",
   "metadata": {},
   "source": [
    "Load Data"
   ]
  },
  {
   "cell_type": "markdown",
   "metadata": {},
   "source": []
  },
  {
   "cell_type": "code",
   "execution_count": 4,
   "metadata": {},
   "outputs": [
    {
     "name": "stdout",
     "output_type": "stream",
     "text": [
      "Dataset shapes:\n",
      "X_train shape: (3284, 269)\n",
      "y_train shape: (3284,)\n",
      "X_test shape: (813, 269)\n",
      "y_test shape: (813,)\n"
     ]
    }
   ],
   "source": [
    "import pandas as pd\n",
    "import pickle\n",
    "\n",
    "# Load the splits for modeling\n",
    "X_train = pd.read_pickle('/workspace/Film_Hit_prediction/jupyter_notebooks/outputs/engineered/X_train.pkl')\n",
    "X_test = pd.read_pickle('/workspace/Film_Hit_prediction/jupyter_notebooks/outputs/engineered/X_test.pkl')\n",
    "y_train = pd.read_pickle('/workspace/Film_Hit_prediction/jupyter_notebooks/outputs/engineered/y_train.pkl')\n",
    "y_test = pd.read_pickle('/workspace/Film_Hit_prediction/jupyter_notebooks/outputs/engineered/y_test.pkl')\n",
    "\n",
    "\n",
    "print(\"Dataset shapes:\")\n",
    "print(f\"X_train shape: {X_train.shape}\")\n",
    "print(f\"y_train shape: {y_train.shape}\")\n",
    "print(f\"X_test shape: {X_test.shape}\")\n",
    "print(f\"y_test shape: {y_test.shape}\")\n"
   ]
  },
  {
   "cell_type": "code",
   "execution_count": 5,
   "metadata": {},
   "outputs": [
    {
     "name": "stdout",
     "output_type": "stream",
     "text": [
      "Current split ratio:\n",
      "Training samples: 3284 (80.16%)\n",
      "Test samples: 813 (19.84%)\n"
     ]
    }
   ],
   "source": [
    "print(\"Current split ratio:\")\n",
    "print(f\"Training samples: {X_train.shape[0]} ({X_train.shape[0]/(X_train.shape[0] + X_test.shape[0]):.2%})\")\n",
    "print(f\"Test samples: {X_test.shape[0]} ({X_test.shape[0]/(X_train.shape[0] + X_test.shape[0]):.2%})\")"
   ]
  },
  {
   "cell_type": "markdown",
   "metadata": {},
   "source": [
    "---"
   ]
  },
  {
   "cell_type": "markdown",
   "metadata": {},
   "source": [
    "# Step 2: ML Pipeline with all data"
   ]
  },
  {
   "cell_type": "markdown",
   "metadata": {},
   "source": [
    "## ML Pipeline for Modelling and Hyperparameter Optimisation"
   ]
  },
  {
   "cell_type": "code",
   "execution_count": 6,
   "metadata": {},
   "outputs": [],
   "source": [
    "from sklearn.linear_model import LinearRegression, Ridge, Lasso\n",
    "from sklearn.ensemble import RandomForestRegressor, GradientBoostingRegressor\n",
    "from sklearn.model_selection import GridSearchCV\n",
    "from sklearn.metrics import mean_squared_error, r2_score, mean_absolute_error\n",
    "from sklearn.preprocessing import RobustScaler\n",
    "\n",
    "# Define models\n",
    "\n",
    "models = {\n",
    "    'Linear Regression': {\n",
    "        'model': LinearRegression(),\n",
    "        'params': {}\n",
    "    },\n",
    "    'Ridge': {\n",
    "        'model': Ridge(random_state=42),\n",
    "        'params': {\n",
    "            'alpha': [0.01, 0.1, 1.0, 10.0, 100.0],\n",
    "            'solver': ['auto', 'svd', 'cholesky']\n",
    "        }\n",
    "    },\n",
    "    'Lasso': {\n",
    "        'model': Lasso(random_state=42),  \n",
    "        'params': {\n",
    "            'alpha': [0.1 ],  \n",
    "            'max_iter': [500],\n",
    "            'tol': [0.1], \n",
    "            'selection': ['cyclic'],  \n",
    "        }\n",
    "    },\n",
    "    'Random Forest': {\n",
    "        'model': RandomForestRegressor(random_state=42),\n",
    "        'params': {\n",
    "            'n_estimators': [100, 200],\n",
    "            'max_depth': [10, 20, None],\n",
    "            'min_samples_split': [2, 5],\n",
    "            'n_jobs': [-1]\n",
    "        }\n",
    "    },\n",
    " \n",
    "}\n"
   ]
  },
  {
   "cell_type": "markdown",
   "metadata": {},
   "source": [
    "# Set up and train model"
   ]
  },
  {
   "cell_type": "code",
   "execution_count": 7,
   "metadata": {},
   "outputs": [
    {
     "name": "stdout",
     "output_type": "stream",
     "text": [
      "\n",
      "==================================================\n",
      "\n",
      "Training Linear Regression...\n",
      "Fitting 3 folds for each of 1 candidates, totalling 3 fits\n",
      "[CV] END .................................................... total time=   0.7s\n",
      "[CV] END .................................................... total time=   0.5s\n",
      "[CV] END .................................................... total time=   0.6s\n",
      "\n",
      "==================================================\n",
      "\n",
      "Training Ridge...\n",
      "Fitting 3 folds for each of 15 candidates, totalling 45 fits\n",
      "[CV] END ............................alpha=0.01, solver=auto; total time=   0.3s\n",
      "[CV] END ............................alpha=0.01, solver=auto; total time=   0.4s\n",
      "[CV] END ............................alpha=0.01, solver=auto; total time=   0.4s\n",
      "[CV] END .............................alpha=0.01, solver=svd; total time=   0.9s\n",
      "[CV] END .............................alpha=0.01, solver=svd; total time=   0.7s\n",
      "[CV] END .............................alpha=0.01, solver=svd; total time=   0.8s\n",
      "[CV] END ........................alpha=0.01, solver=cholesky; total time=   0.4s\n",
      "[CV] END ........................alpha=0.01, solver=cholesky; total time=   0.3s\n",
      "[CV] END ........................alpha=0.01, solver=cholesky; total time=   0.4s\n",
      "[CV] END .............................alpha=0.1, solver=auto; total time=   0.6s\n",
      "[CV] END .............................alpha=0.1, solver=auto; total time=   0.3s\n",
      "[CV] END .............................alpha=0.1, solver=auto; total time=   0.4s\n",
      "[CV] END ..............................alpha=0.1, solver=svd; total time=   0.7s\n",
      "[CV] END ..............................alpha=0.1, solver=svd; total time=   0.9s\n",
      "[CV] END ..............................alpha=0.1, solver=svd; total time=   0.8s\n",
      "[CV] END .........................alpha=0.1, solver=cholesky; total time=   0.4s\n",
      "[CV] END .........................alpha=0.1, solver=cholesky; total time=   0.3s\n",
      "[CV] END .........................alpha=0.1, solver=cholesky; total time=   0.4s\n",
      "[CV] END .............................alpha=1.0, solver=auto; total time=   0.5s\n",
      "[CV] END .............................alpha=1.0, solver=auto; total time=   0.5s\n",
      "[CV] END .............................alpha=1.0, solver=auto; total time=   0.3s\n",
      "[CV] END ..............................alpha=1.0, solver=svd; total time=   0.9s\n",
      "[CV] END ..............................alpha=1.0, solver=svd; total time=   0.9s\n",
      "[CV] END ..............................alpha=1.0, solver=svd; total time=   1.0s\n",
      "[CV] END .........................alpha=1.0, solver=cholesky; total time=   0.4s\n",
      "[CV] END .........................alpha=1.0, solver=cholesky; total time=   0.4s\n",
      "[CV] END .........................alpha=1.0, solver=cholesky; total time=   0.3s\n",
      "[CV] END ............................alpha=10.0, solver=auto; total time=   0.7s\n",
      "[CV] END ............................alpha=10.0, solver=auto; total time=   0.3s\n",
      "[CV] END ............................alpha=10.0, solver=auto; total time=   0.4s\n",
      "[CV] END .............................alpha=10.0, solver=svd; total time=   0.7s\n",
      "[CV] END .............................alpha=10.0, solver=svd; total time=   0.8s\n",
      "[CV] END .............................alpha=10.0, solver=svd; total time=   0.8s\n",
      "[CV] END ........................alpha=10.0, solver=cholesky; total time=   0.3s\n",
      "[CV] END ........................alpha=10.0, solver=cholesky; total time=   0.6s\n",
      "[CV] END ........................alpha=10.0, solver=cholesky; total time=   0.6s\n",
      "[CV] END ...........................alpha=100.0, solver=auto; total time=   0.3s\n",
      "[CV] END ...........................alpha=100.0, solver=auto; total time=   0.6s\n",
      "[CV] END ...........................alpha=100.0, solver=auto; total time=   0.3s\n",
      "[CV] END ............................alpha=100.0, solver=svd; total time=   0.9s\n",
      "[CV] END ............................alpha=100.0, solver=svd; total time=   1.0s\n",
      "[CV] END ............................alpha=100.0, solver=svd; total time=   0.9s\n",
      "[CV] END .......................alpha=100.0, solver=cholesky; total time=   0.5s\n",
      "[CV] END .......................alpha=100.0, solver=cholesky; total time=   0.4s\n",
      "[CV] END .......................alpha=100.0, solver=cholesky; total time=   0.3s\n",
      "\n",
      "==================================================\n",
      "\n",
      "Training Lasso...\n",
      "Fitting 3 folds for each of 1 candidates, totalling 3 fits\n"
     ]
    },
    {
     "name": "stderr",
     "output_type": "stream",
     "text": [
      "/workspace/.pip-modules/lib/python3.8/site-packages/sklearn/linear_model/_coordinate_descent.py:530: ConvergenceWarning: Objective did not converge. You might want to increase the number of iterations. Duality gap: 6.252590539046583e+18, tolerance: 5.67584574577462e+18\n",
      "  model = cd_fast.enet_coordinate_descent(\n"
     ]
    },
    {
     "name": "stdout",
     "output_type": "stream",
     "text": [
      "[CV] END .alpha=0.1, max_iter=500, selection=cyclic, tol=0.1; total time=   5.8s\n"
     ]
    },
    {
     "name": "stderr",
     "output_type": "stream",
     "text": [
      "/workspace/.pip-modules/lib/python3.8/site-packages/sklearn/linear_model/_coordinate_descent.py:530: ConvergenceWarning: Objective did not converge. You might want to increase the number of iterations. Duality gap: 8.153928139691237e+18, tolerance: 6.982214786800402e+18\n",
      "  model = cd_fast.enet_coordinate_descent(\n"
     ]
    },
    {
     "name": "stdout",
     "output_type": "stream",
     "text": [
      "[CV] END .alpha=0.1, max_iter=500, selection=cyclic, tol=0.1; total time=   5.6s\n"
     ]
    },
    {
     "name": "stderr",
     "output_type": "stream",
     "text": [
      "/workspace/.pip-modules/lib/python3.8/site-packages/sklearn/linear_model/_coordinate_descent.py:530: ConvergenceWarning: Objective did not converge. You might want to increase the number of iterations. Duality gap: 7.856288922885383e+18, tolerance: 6.580600584278111e+18\n",
      "  model = cd_fast.enet_coordinate_descent(\n"
     ]
    },
    {
     "name": "stdout",
     "output_type": "stream",
     "text": [
      "[CV] END .alpha=0.1, max_iter=500, selection=cyclic, tol=0.1; total time=   5.7s\n"
     ]
    },
    {
     "name": "stderr",
     "output_type": "stream",
     "text": [
      "/workspace/.pip-modules/lib/python3.8/site-packages/sklearn/linear_model/_coordinate_descent.py:530: ConvergenceWarning: Objective did not converge. You might want to increase the number of iterations. Duality gap: 1.2071524145906051e+19, tolerance: 9.619486165716603e+18\n",
      "  model = cd_fast.enet_coordinate_descent(\n"
     ]
    },
    {
     "name": "stdout",
     "output_type": "stream",
     "text": [
      "\n",
      "==================================================\n",
      "\n",
      "Training Random Forest...\n",
      "Fitting 3 folds for each of 12 candidates, totalling 36 fits\n",
      "[CV] END max_depth=10, min_samples_split=2, n_estimators=100, n_jobs=-1; total time=   0.8s\n",
      "[CV] END max_depth=10, min_samples_split=2, n_estimators=100, n_jobs=-1; total time=   0.8s\n",
      "[CV] END max_depth=10, min_samples_split=2, n_estimators=100, n_jobs=-1; total time=   0.8s\n",
      "[CV] END max_depth=10, min_samples_split=2, n_estimators=200, n_jobs=-1; total time=   1.5s\n",
      "[CV] END max_depth=10, min_samples_split=2, n_estimators=200, n_jobs=-1; total time=   1.6s\n",
      "[CV] END max_depth=10, min_samples_split=2, n_estimators=200, n_jobs=-1; total time=   1.6s\n",
      "[CV] END max_depth=10, min_samples_split=5, n_estimators=100, n_jobs=-1; total time=   0.7s\n",
      "[CV] END max_depth=10, min_samples_split=5, n_estimators=100, n_jobs=-1; total time=   0.7s\n",
      "[CV] END max_depth=10, min_samples_split=5, n_estimators=100, n_jobs=-1; total time=   0.8s\n",
      "[CV] END max_depth=10, min_samples_split=5, n_estimators=200, n_jobs=-1; total time=   1.5s\n",
      "[CV] END max_depth=10, min_samples_split=5, n_estimators=200, n_jobs=-1; total time=   1.5s\n",
      "[CV] END max_depth=10, min_samples_split=5, n_estimators=200, n_jobs=-1; total time=   1.5s\n",
      "[CV] END max_depth=20, min_samples_split=2, n_estimators=100, n_jobs=-1; total time=   1.1s\n",
      "[CV] END max_depth=20, min_samples_split=2, n_estimators=100, n_jobs=-1; total time=   1.2s\n",
      "[CV] END max_depth=20, min_samples_split=2, n_estimators=100, n_jobs=-1; total time=   1.2s\n",
      "[CV] END max_depth=20, min_samples_split=2, n_estimators=200, n_jobs=-1; total time=   2.3s\n",
      "[CV] END max_depth=20, min_samples_split=2, n_estimators=200, n_jobs=-1; total time=   2.4s\n",
      "[CV] END max_depth=20, min_samples_split=2, n_estimators=200, n_jobs=-1; total time=   2.3s\n",
      "[CV] END max_depth=20, min_samples_split=5, n_estimators=100, n_jobs=-1; total time=   1.1s\n",
      "[CV] END max_depth=20, min_samples_split=5, n_estimators=100, n_jobs=-1; total time=   1.1s\n",
      "[CV] END max_depth=20, min_samples_split=5, n_estimators=100, n_jobs=-1; total time=   1.1s\n",
      "[CV] END max_depth=20, min_samples_split=5, n_estimators=200, n_jobs=-1; total time=   2.1s\n",
      "[CV] END max_depth=20, min_samples_split=5, n_estimators=200, n_jobs=-1; total time=   2.3s\n",
      "[CV] END max_depth=20, min_samples_split=5, n_estimators=200, n_jobs=-1; total time=   2.1s\n",
      "[CV] END max_depth=None, min_samples_split=2, n_estimators=100, n_jobs=-1; total time=   1.3s\n",
      "[CV] END max_depth=None, min_samples_split=2, n_estimators=100, n_jobs=-1; total time=   1.3s\n",
      "[CV] END max_depth=None, min_samples_split=2, n_estimators=100, n_jobs=-1; total time=   1.2s\n",
      "[CV] END max_depth=None, min_samples_split=2, n_estimators=200, n_jobs=-1; total time=   2.6s\n",
      "[CV] END max_depth=None, min_samples_split=2, n_estimators=200, n_jobs=-1; total time=   2.6s\n",
      "[CV] END max_depth=None, min_samples_split=2, n_estimators=200, n_jobs=-1; total time=   2.4s\n",
      "[CV] END max_depth=None, min_samples_split=5, n_estimators=100, n_jobs=-1; total time=   1.1s\n",
      "[CV] END max_depth=None, min_samples_split=5, n_estimators=100, n_jobs=-1; total time=   1.1s\n",
      "[CV] END max_depth=None, min_samples_split=5, n_estimators=100, n_jobs=-1; total time=   1.2s\n",
      "[CV] END max_depth=None, min_samples_split=5, n_estimators=200, n_jobs=-1; total time=   2.3s\n",
      "[CV] END max_depth=None, min_samples_split=5, n_estimators=200, n_jobs=-1; total time=   2.5s\n",
      "[CV] END max_depth=None, min_samples_split=5, n_estimators=200, n_jobs=-1; total time=   2.2s\n"
     ]
    }
   ],
   "source": [
    "import numpy as np\n",
    "from sklearn.metrics import mean_squared_error, r2_score\n",
    "import joblib\n",
    "\n",
    "results = {}\n",
    "best_models = {}\n",
    "\n",
    "for name, model_info in models.items():\n",
    "    print(f\"\\n{'='*50}\")\n",
    "    print(f\"\\nTraining {name}...\")\n",
    "\n",
    "    # GridSearchCV performs the hyperparameter optimization\n",
    "    grid_search = GridSearchCV(\n",
    "        model_info['model'],\n",
    "        model_info['params'],\n",
    "        cv=3,\n",
    "        scoring='neg_mean_squared_error',\n",
    "        n_jobs= 1 ,\n",
    "        verbose=2\n",
    "    )\n",
    "    \n",
    "    # Fit the model\n",
    "    grid_search.fit(X_train, y_train.ravel())\n",
    "    best_models[name] = grid_search.best_estimator_\n"
   ]
  },
  {
   "cell_type": "markdown",
   "metadata": {},
   "source": [
    "# Evaluate Performance"
   ]
  },
  {
   "cell_type": "code",
   "execution_count": 8,
   "metadata": {},
   "outputs": [
    {
     "name": "stdout",
     "output_type": "stream",
     "text": [
      "\n",
      "Training Linear Regression...\n",
      "\n",
      "Results for Linear Regression:\n",
      "RMSE: 99064097.67\n",
      "R2 Score: 0.66\n",
      "Best Parameters: {'max_depth': None, 'min_samples_split': 5, 'n_estimators': 200, 'n_jobs': -1}\n",
      "\n",
      "Training Ridge...\n",
      "\n",
      "Results for Ridge:\n",
      "RMSE: 98681577.29\n",
      "R2 Score: 0.66\n",
      "Best Parameters: {'max_depth': None, 'min_samples_split': 5, 'n_estimators': 200, 'n_jobs': -1}\n",
      "\n",
      "Training Lasso...\n",
      "\n",
      "Results for Lasso:\n",
      "RMSE: 99063578.94\n",
      "R2 Score: 0.66\n",
      "Best Parameters: {'max_depth': None, 'min_samples_split': 5, 'n_estimators': 200, 'n_jobs': -1}\n",
      "\n",
      "Training Random Forest...\n",
      "\n",
      "Results for Random Forest:\n",
      "RMSE: 80251568.30\n",
      "R2 Score: 0.78\n",
      "Best Parameters: {'max_depth': None, 'min_samples_split': 5, 'n_estimators': 200, 'n_jobs': -1}\n"
     ]
    }
   ],
   "source": [
    "import numpy as np\n",
    "from sklearn.metrics import mean_squared_error, r2_score\n",
    "import joblib\n",
    "\n",
    "\n",
    "for name, model in best_models.items():\n",
    "    print(f\"\\nTraining {name}...\")\n",
    "\n",
    "     # Make predictions\n",
    "    y_pred = model.predict(X_test)\n",
    "    \n",
    "    \n",
    "    # Calculate metrics\n",
    "    mse = mean_squared_error(y_test, y_pred)\n",
    "    rmse = np.sqrt(mse)\n",
    "    r2 = r2_score(y_test, y_pred)\n",
    "    \n",
    "    # Store results\n",
    "    results[name] = {\n",
    "        'MSE': mse,\n",
    "        'RMSE': rmse,\n",
    "        'R2 Score': r2,\n",
    "        'Best Parameters': grid_search.best_params_\n",
    "    }\n",
    "    \n",
    "    # Print results\n",
    "    print(f\"\\nResults for {name}:\")\n",
    "    print(f\"RMSE: {rmse:.2f}\")\n",
    "    print(f\"R2 Score: {r2:.2f}\")\n",
    "    print(f\"Best Parameters: {grid_search.best_params_}\")"
   ]
  },
  {
   "cell_type": "markdown",
   "metadata": {},
   "source": [
    "# Save Best Performing Model"
   ]
  },
  {
   "cell_type": "code",
   "execution_count": 9,
   "metadata": {},
   "outputs": [
    {
     "name": "stdout",
     "output_type": "stream",
     "text": [
      "\n",
      "Best performing model: Random Forest\n",
      "Best model RMSE: 80251568.30\n",
      "\n",
      "Best model saved as: film_revenue_model_Random Forest_20250115.joblib\n",
      "Model and scalers saved successfully!\n",
      "Best model saved successfully!\n"
     ]
    }
   ],
   "source": [
    "import os\n",
    "import joblib\n",
    "\n",
    "# 1. First identify the best model\n",
    "best_model_name = min(results, key=lambda x: results[x]['RMSE'])\n",
    "best_model = best_models[best_model_name]\n",
    "\n",
    "print(f\"\\nBest performing model: {best_model_name}\")\n",
    "print(f\"Best model RMSE: {results[best_model_name]['RMSE']:.2f}\")\n",
    "\n",
    "# 2. Set up the save directory\n",
    "save_dir = '/workspace/Film_Hit_prediction/jupyter_notebooks/outputs/models'\n",
    "os.makedirs(save_dir, exist_ok=True)  # Create directory if it doesn't exist\n",
    "\n",
    "# 3. Create the filename with model name and date\n",
    "from datetime import datetime\n",
    "current_date = datetime.now().strftime(\"%Y%m%d\")\n",
    "model_filename = f'film_revenue_model_{best_model_name}_{current_date}.joblib'\n",
    "full_path = os.path.join(save_dir, model_filename)\n",
    "\n",
    "# 4. Save the model\n",
    "joblib.dump(best_model, full_path)\n",
    "\n",
    "print(f\"\\nBest model saved as: {model_filename}\")\n",
    "print(\"Model and scalers saved successfully!\")\n",
    "print(\"Best model saved successfully!\")\n"
   ]
  },
  {
   "cell_type": "markdown",
   "metadata": {},
   "source": [
    "## Assess feature importance"
   ]
  },
  {
   "cell_type": "code",
   "execution_count": 10,
   "metadata": {},
   "outputs": [
    {
     "name": "stdout",
     "output_type": "stream",
     "text": [
      "Loaded model type: <class 'sklearn.ensemble._forest.RandomForestRegressor'>\n",
      "\n",
      "Top 10 Most Important Features:\n",
      "                    Feature  Importance\n",
      "132                  budget    0.596860\n",
      "104              popularity    0.176904\n",
      "73                  runtime    0.067394\n",
      "227       budget_per_minute    0.032615\n",
      "27   company_DreamWorks SKG    0.012313\n",
      "257    other_producer_count    0.009475\n",
      "267       other_actor_count    0.009261\n",
      "195    other_director_count    0.005521\n",
      "245                   Drama    0.003149\n",
      "126         Science Fiction    0.002828\n"
     ]
    },
    {
     "data": {
      "image/png": "[encoded data removed]",
      "text/plain": [
       "<Figure size 1200x600 with 1 Axes>"
      ]
     },
     "metadata": {},
     "output_type": "display_data"
    }
   ],
   "source": [
    "import joblib\n",
    "import pandas as pd\n",
    "import matplotlib.pyplot as plt\n",
    "\n",
    "# Load the saved Random Forest model\n",
    "model_path = '/workspace/Film_Hit_prediction/jupyter_notebooks/outputs/models/film_revenue_model.joblib'\n",
    "loaded_model = joblib.load(model_path)\n",
    "\n",
    "print(\"Loaded model type:\", type(loaded_model))\n",
    "\n",
    "\n",
    "# Create a DataFrame for feature importance\n",
    "feature_importance = pd.DataFrame({\n",
    "    'Feature': X_train.columns,\n",
    "    'Importance': loaded_model.feature_importances_\n",
    "})\n",
    "\n",
    "# Sort features by importance in descending order\n",
    "feature_importance = feature_importance.sort_values(by='Importance', ascending=False)\n",
    "\n",
    "# Print top 10 most important features\n",
    "print(\"\\nTop 10 Most Important Features:\")\n",
    "print(feature_importance.head(10))\n",
    "\n",
    "# Plot the top 10 feature importance\n",
    "plt.figure(figsize=(12, 6))\n",
    "plt.bar(feature_importance['Feature'][:10], feature_importance['Importance'][:10])\n",
    "plt.xticks(rotation=45, ha='right')\n",
    "plt.title('Top 10 Feature Importance for Revenue Prediction')\n",
    "plt.xlabel('Features')\n",
    "plt.ylabel('Importance Score')\n",
    "plt.tight_layout()\n",
    "plt.show()\n"
   ]
  },
  {
   "cell_type": "markdown",
   "metadata": {},
   "source": [
    "# Prediction Model\n"
   ]
  },
  {
   "cell_type": "markdown",
   "metadata": {},
   "source": [
    "Create a function to make predictions for new movies based on parameters:\n",
    "-  budget (float): Movie budget in dollars\n",
    "- language (str): Original language (e.g., 'en' for English)\n",
    "- genres (list): List of genres (e.g., ['Action', 'Adventure'])\n",
    "    \n",
    " Returns:\n",
    "- float: Predicted revenue and profit"
   ]
  },
  {
   "cell_type": "markdown",
   "metadata": {},
   "source": [
    "New model"
   ]
  },
  {
   "cell_type": "code",
   "execution_count": 14,
   "metadata": {},
   "outputs": [],
   "source": [
    "import traceback\n",
    "import pandas as pd\n",
    "import numpy as np\n",
    "\n",
    "\n",
    "def predict_movie_revenue(budget, runtime, genres, language, production_company, \n",
    "                         production_country, actor1, actor2, crew_director, \n",
    "                         crew_writer, crew_producer):\n",
    "    try:\n",
    "        print(\"Loading models and data...\")\n",
    "        \n",
    "        # Load the trained model and existing data (keep your current loading code)\n",
    "        model = joblib.load('/workspace/Film_Hit_prediction/jupyter_notebooks/outputs/models/film_revenue_model_Random Forest_20250115.joblib')\n",
    "        \n",
    "        # Add loading of additional required files\n",
    "        with open('/workspace/Film_Hit_prediction/jupyter_notebooks/outputs/engineered/top_revenue_actors.pkl', 'rb') as f:\n",
    "            actor_data = pickle.load(f)\n",
    "        with open('/workspace/Film_Hit_prediction/jupyter_notebooks/outputs/engineered/top_revenue_directors.pkl', 'rb') as f:\n",
    "            director_data = pickle.load(f)\n",
    "        with open('/workspace/Film_Hit_prediction/jupyter_notebooks/outputs/engineered/top_revenue_writers.pkl', 'rb') as f:\n",
    "            writer_data = pickle.load(f)\n",
    "        with open('/workspace/Film_Hit_prediction/jupyter_notebooks/outputs/engineered/top_revenue_producers.pkl', 'rb') as f:\n",
    "            producer_data = pickle.load(f)\n",
    "        with open('/workspace/Film_Hit_prediction/jupyter_notebooks/outputs/engineered/full_transformation_data.pkl', 'rb') as f:\n",
    "            transform_data = pickle.load(f)\n",
    "        with open('/workspace/Film_Hit_prediction/jupyter_notebooks/outputs/cleaned/encoders_and_filters.pkl', 'rb') as f:\n",
    "            transform_data = pickle.load(f)\n",
    "\n",
    "        # Ensure X_train and X_test are used directly (already loaded)\n",
    "        print(f\"X_train shape: {X_train.shape}\")\n",
    "        print(f\"y_train shape: {y_train.shape}\")\n",
    "\n",
    "        return {\n",
    "            'train_df': train_df,\n",
    "            'test_df': test_df,\n",
    "            'encoders': encoders,\n",
    "            'eng_data': eng_data,\n",
    "            'model': model,\n",
    "            'feature_names': train_df.columns,\n",
    "            'actor_data': actor_data,\n",
    "            'director_data': director_data,\n",
    "            'writer_data': writer_data,\n",
    "            'producer_data': producer_data,\n",
    "            'transform_data': transform_data\n",
    "        }\n",
    "    except Exception as e:\n",
    "        print(f\"Error loading models and data: {str(e)}\")\n",
    "\n",
    "        # Create initial features dictionary\n",
    "        features = {col: 0 for col in transform_data['all_features']}\n",
    "        \n",
    "        # 1. Process budget features\n",
    "        features['budget'] = budget\n",
    "        features['runtime'] = runtime\n",
    "        features['budget_per_minute'] = budget / runtime if runtime > 0 else 0\n",
    "        \n",
    "        # 2. Process genres\n",
    "        for genre in transform_data['genre_columns']:\n",
    "            features[genre] = 1 if genre in genres else 0\n",
    "            \n",
    "        # Process actors\n",
    "        # Example: Define actor_cols (assuming columns in X_train start with 'cast_')\n",
    "        actor_cols = [col for col in X_train.columns if col.startswith('cast_')]\n",
    "        \n",
    "        for col in actor_cols:\n",
    "            actor_name = col.replace('cast_', '')\n",
    "            is_in_movie = actor_name in [actor1, actor2]\n",
    "            features[col] = 1 if is_in_movie else 0\n",
    "            pop_weight_col = f\"{col}_pop_weight\"\n",
    "            if is_in_movie and actor_name in actor_metrics:\n",
    "                features[f\"{col}_pop_weight\"] = actor_metrics[actor_name]['avg_popularity']\n",
    "         \n",
    "                \n",
    "        # 4. Process director\n",
    "        if crew_director:\n",
    "            for col in director_data['columns']:\n",
    "                director_name = col.replace('crew_Director_', '')\n",
    "                if director_name == crew_director:\n",
    "                    features[col] = 1\n",
    "                    if director_name in director_data['metrics']:\n",
    "                        features[f\"{col}_pop_weight\"] = director_data['metrics'][director_name]['avg_popularity']\n",
    "\n",
    "        if not director_found:\n",
    "            for col in director_data['columns']:\n",
    "                features[col] = 0\n",
    "                features[f\"{col}_pop_weight\"] = 0 \n",
    "\n",
    "\n",
    "        # Process producers\n",
    "        if crew_producer:\n",
    "            for col in producer_data['columns']:\n",
    "                producer_name = col.replace('crew_Producer_', '')\n",
    "                if producer_name == crew_producer:\n",
    "                    features[col] = 1\n",
    "                    if producer_name in producer_data['metrics']:\n",
    "                        features[f\"{col}_pop_weight\"] = producer_data['metrics'][producer_name]['avg_popularity']\n",
    "\n",
    "        if not producer_found:\n",
    "            for col in producer_data['columns']:\n",
    "                features[col] = 0\n",
    "                features[f\"{col}_pop_weight\"] = 0                 \n",
    "        \n",
    "        # Process producers\n",
    "        if crew_writer:\n",
    "            for col in writer_data['columns']:\n",
    "                producer_name = col.replace('crew_Writer_', '')\n",
    "                if writer_name == crew_writer:\n",
    "                    features[col] = 1\n",
    "                    if writer_name in writer_data['metrics']:\n",
    "                        features[f\"{col}_pop_weight\"] = writer_data['metrics'][writer_name]['avg_popularity']\n",
    "\n",
    "            if not writer_found:\n",
    "                for col in writer_data['columns']:\n",
    "                    features[col] = 0\n",
    "                    features[f\"{col}_pop_weight\"] = 0 \n",
    "        \n",
    "        \n",
    "        # 6. Create DataFrame\n",
    "        pred_df = pd.DataFrame([features])\n",
    "        \n",
    "        # 7. Scale numerical features\n",
    "        numeric_cols = transform_data['numeric_cols']\n",
    "        pred_df[numeric_cols] = transform_data['feature_scaler'].transform(pred_df[numeric_cols])\n",
    "\n",
    "        # Ensure correct column order\n",
    "        pred_df = pred_df[transform_data['all_features']]\n",
    "        '''\n",
    "        # 8. Ensure all features are present in correct order\n",
    "        for feature in transform_data['all_features']:\n",
    "            if feature not in pred_df.columns:\n",
    "                pred_df[feature] = 0\n",
    "        '''\n",
    "        \n",
    "        # Make prediction\n",
    "        raw_prediction = model.predict(pred_df)[0]\n",
    "        \n",
    "        # Unscale prediction\n",
    "        predicted_revenue = (raw_prediction * transform_data['train_stats']['revenue_std'] + \n",
    "                           transform_data['train_stats']['revenue_mean'])\n",
    "        predicted_revenue = max(0, predicted_revenue)\n",
    "        \n",
    "        return {\n",
    "            'revenue': predicted_revenue,\n",
    "            'profit': predicted_revenue - budget,\n",
    "            'roi': ((predicted_revenue - budget) / budget * 100) if budget > 0 else 0,\n",
    "            'is_profitable': predicted_revenue > budget\n",
    "        }\n",
    "        \n",
    "    except Exception as e:\n",
    "        print(f\"Error in prediction: {str(e)}\")\n",
    "        traceback.print_exc()\n",
    "        return None"
   ]
  },
  {
   "cell_type": "code",
   "execution_count": 15,
   "metadata": {},
   "outputs": [
    {
     "name": "stdout",
     "output_type": "stream",
     "text": [
      "Loading models and data...\n",
      "X_train shape: (3284, 269)\n",
      "y_train shape: (3284,)\n",
      "Error loading models and data: name 'train_df' is not defined\n"
     ]
    },
    {
     "ename": "NameError",
     "evalue": "name 'actor_cols' is not defined",
     "output_type": "error",
     "traceback": [
      "\u001b[0;31m---------------------------------------------------------------------------\u001b[0m",
      "\u001b[0;31mNameError\u001b[0m                                 Traceback (most recent call last)",
      "Cell \u001b[0;32mIn[14], line 32\u001b[0m, in \u001b[0;36mpredict_movie_revenue\u001b[0;34m(budget, runtime, genres, language, production_company, production_country, actor1, actor2, crew_director, crew_writer, crew_producer)\u001b[0m\n\u001b[1;32m     29\u001b[0m     \u001b[38;5;28mprint\u001b[39m(\u001b[38;5;124mf\u001b[39m\u001b[38;5;124m\"\u001b[39m\u001b[38;5;124my_train shape: \u001b[39m\u001b[38;5;132;01m{\u001b[39;00my_train\u001b[38;5;241m.\u001b[39mshape\u001b[38;5;132;01m}\u001b[39;00m\u001b[38;5;124m\"\u001b[39m)\n\u001b[1;32m     31\u001b[0m     \u001b[38;5;28;01mreturn\u001b[39;00m {\n\u001b[0;32m---> 32\u001b[0m         \u001b[38;5;124m'\u001b[39m\u001b[38;5;124mtrain_df\u001b[39m\u001b[38;5;124m'\u001b[39m: \u001b[43mtrain_df\u001b[49m,\n\u001b[1;32m     33\u001b[0m         \u001b[38;5;124m'\u001b[39m\u001b[38;5;124mtest_df\u001b[39m\u001b[38;5;124m'\u001b[39m: test_df,\n\u001b[1;32m     34\u001b[0m         \u001b[38;5;124m'\u001b[39m\u001b[38;5;124mencoders\u001b[39m\u001b[38;5;124m'\u001b[39m: encoders,\n\u001b[1;32m     35\u001b[0m         \u001b[38;5;124m'\u001b[39m\u001b[38;5;124meng_data\u001b[39m\u001b[38;5;124m'\u001b[39m: eng_data,\n\u001b[1;32m     36\u001b[0m         \u001b[38;5;124m'\u001b[39m\u001b[38;5;124mmodel\u001b[39m\u001b[38;5;124m'\u001b[39m: model,\n\u001b[1;32m     37\u001b[0m         \u001b[38;5;124m'\u001b[39m\u001b[38;5;124mfeature_names\u001b[39m\u001b[38;5;124m'\u001b[39m: train_df\u001b[38;5;241m.\u001b[39mcolumns,\n\u001b[1;32m     38\u001b[0m         \u001b[38;5;124m'\u001b[39m\u001b[38;5;124mactor_data\u001b[39m\u001b[38;5;124m'\u001b[39m: actor_data,\n\u001b[1;32m     39\u001b[0m         \u001b[38;5;124m'\u001b[39m\u001b[38;5;124mdirector_data\u001b[39m\u001b[38;5;124m'\u001b[39m: director_data,\n\u001b[1;32m     40\u001b[0m         \u001b[38;5;124m'\u001b[39m\u001b[38;5;124mwriter_data\u001b[39m\u001b[38;5;124m'\u001b[39m: writer_data,\n\u001b[1;32m     41\u001b[0m         \u001b[38;5;124m'\u001b[39m\u001b[38;5;124mproducer_data\u001b[39m\u001b[38;5;124m'\u001b[39m: producer_data,\n\u001b[1;32m     42\u001b[0m         \u001b[38;5;124m'\u001b[39m\u001b[38;5;124mtransform_data\u001b[39m\u001b[38;5;124m'\u001b[39m: transform_data\n\u001b[1;32m     43\u001b[0m     }\n\u001b[1;32m     44\u001b[0m \u001b[38;5;28;01mexcept\u001b[39;00m \u001b[38;5;167;01mException\u001b[39;00m \u001b[38;5;28;01mas\u001b[39;00m e:\n",
      "\u001b[0;31mNameError\u001b[0m: name 'train_df' is not defined",
      "\nDuring handling of the above exception, another exception occurred:\n",
      "\u001b[0;31mNameError\u001b[0m                                 Traceback (most recent call last)",
      "Cell \u001b[0;32mIn[15], line 17\u001b[0m\n\u001b[1;32m      2\u001b[0m \u001b[38;5;28;01mif\u001b[39;00m \u001b[38;5;18m__name__\u001b[39m \u001b[38;5;241m==\u001b[39m \u001b[38;5;124m\"\u001b[39m\u001b[38;5;124m__main__\u001b[39m\u001b[38;5;124m\"\u001b[39m:\n\u001b[1;32m      3\u001b[0m     test_movie \u001b[38;5;241m=\u001b[39m {\n\u001b[1;32m      4\u001b[0m         \u001b[38;5;124m'\u001b[39m\u001b[38;5;124mbudget\u001b[39m\u001b[38;5;124m'\u001b[39m: \u001b[38;5;241m150000000\u001b[39m,\n\u001b[1;32m      5\u001b[0m         \u001b[38;5;124m'\u001b[39m\u001b[38;5;124mruntime\u001b[39m\u001b[38;5;124m'\u001b[39m: \u001b[38;5;241m120\u001b[39m,\n\u001b[0;32m   (...)\u001b[0m\n\u001b[1;32m     14\u001b[0m         \u001b[38;5;124m'\u001b[39m\u001b[38;5;124mcrew_producer\u001b[39m\u001b[38;5;124m'\u001b[39m: \u001b[38;5;124m'\u001b[39m\u001b[38;5;124mKevin Feige\u001b[39m\u001b[38;5;124m'\u001b[39m\n\u001b[1;32m     15\u001b[0m     }\n\u001b[0;32m---> 17\u001b[0m     result \u001b[38;5;241m=\u001b[39m \u001b[43mpredict_movie_revenue\u001b[49m\u001b[43m(\u001b[49m\u001b[38;5;241;43m*\u001b[39;49m\u001b[38;5;241;43m*\u001b[39;49m\u001b[43mtest_movie\u001b[49m\u001b[43m)\u001b[49m\n\u001b[1;32m     19\u001b[0m     \u001b[38;5;28;01mif\u001b[39;00m result \u001b[38;5;129;01mis\u001b[39;00m \u001b[38;5;129;01mnot\u001b[39;00m \u001b[38;5;28;01mNone\u001b[39;00m:\n\u001b[1;32m     20\u001b[0m         \u001b[38;5;28mprint\u001b[39m(\u001b[38;5;124m\"\u001b[39m\u001b[38;5;130;01m\\n\u001b[39;00m\u001b[38;5;124mPredicted Results:\u001b[39m\u001b[38;5;124m\"\u001b[39m)\n",
      "Cell \u001b[0;32mIn[14], line 61\u001b[0m, in \u001b[0;36mpredict_movie_revenue\u001b[0;34m(budget, runtime, genres, language, production_company, production_country, actor1, actor2, crew_director, crew_writer, crew_producer)\u001b[0m\n\u001b[1;32m     56\u001b[0m \u001b[38;5;28;01mfor\u001b[39;00m genre \u001b[38;5;129;01min\u001b[39;00m transform_data[\u001b[38;5;124m'\u001b[39m\u001b[38;5;124mgenre_columns\u001b[39m\u001b[38;5;124m'\u001b[39m]:\n\u001b[1;32m     57\u001b[0m     features[genre] \u001b[38;5;241m=\u001b[39m \u001b[38;5;241m1\u001b[39m \u001b[38;5;28;01mif\u001b[39;00m genre \u001b[38;5;129;01min\u001b[39;00m genres \u001b[38;5;28;01melse\u001b[39;00m \u001b[38;5;241m0\u001b[39m\n\u001b[0;32m---> 61\u001b[0m \u001b[38;5;28;01mfor\u001b[39;00m col \u001b[38;5;129;01min\u001b[39;00m \u001b[43mactor_cols\u001b[49m:\n\u001b[1;32m     62\u001b[0m     actor_name \u001b[38;5;241m=\u001b[39m col\u001b[38;5;241m.\u001b[39mreplace(\u001b[38;5;124m'\u001b[39m\u001b[38;5;124mcast_\u001b[39m\u001b[38;5;124m'\u001b[39m, \u001b[38;5;124m'\u001b[39m\u001b[38;5;124m'\u001b[39m)\n\u001b[1;32m     63\u001b[0m     is_in_movie \u001b[38;5;241m=\u001b[39m actor_name \u001b[38;5;129;01min\u001b[39;00m [actor1, actor2]\n",
      "\u001b[0;31mNameError\u001b[0m: name 'actor_cols' is not defined"
     ]
    }
   ],
   "source": [
    "# Example usage\n",
    "if __name__ == \"__main__\":\n",
    "    test_movie = {\n",
    "        'budget': 150000000,\n",
    "        'runtime': 120,\n",
    "        'genres': ['Action'],\n",
    "        'language': 'en',\n",
    "        'production_company': 'Marvel Studios',\n",
    "        'production_country': 'US',\n",
    "        'actor1': 'Chris Hemsworth',\n",
    "        'actor2': 'Brad Pitt',\n",
    "        'crew_director': 'Joss Whedon',\n",
    "        'crew_writer': 'Joss Whedon',\n",
    "        'crew_producer': 'Kevin Feige'\n",
    "    }\n",
    "    \n",
    "    result = predict_movie_revenue(**test_movie)\n",
    "    \n",
    "    if result is not None:\n",
    "        print(\"\\nPredicted Results:\")\n",
    "        print(f\"\\nPredicted Revenue: ${result['revenue']:,.2f}\")\n",
    "        print(f\"Predicted Profit/Loss: ${result['profit']:,.2f}\")\n",
    "        print(f\"ROI: {result['roi']:.1f}%\")\n",
    "        print(f\"Is Profitable: {'Yes' if result['is_profitable'] else 'No'}\")"
   ]
  },
  {
   "cell_type": "markdown",
   "metadata": {},
   "source": [
    "# Evaluation\n"
   ]
  },
  {
   "cell_type": "markdown",
   "metadata": {},
   "source": [
    "Load model"
   ]
  },
  {
   "cell_type": "code",
   "execution_count": null,
   "metadata": {},
   "outputs": [],
   "source": [
    "import joblib\n",
    "\n",
    "model_path = \"/workspace/Film_Hit_prediction/jupyter_notebooks/outputs/models/\"  \n",
    "model = joblib.load(model_path + 'film_revenue_model.joblib')\n",
    "\n",
    "print(\"Model loaded:\", type(model))\n"
   ]
  },
  {
   "cell_type": "markdown",
   "metadata": {},
   "source": [
    "Make predictions on test data "
   ]
  },
  {
   "cell_type": "code",
   "execution_count": null,
   "metadata": {},
   "outputs": [],
   "source": [
    "import pandas as pd\n",
    "import numpy as np\n",
    "from sklearn.metrics import mean_squared_error, r2_score, mean_absolute_error\n",
    "import pickle\n",
    "import matplotlib.pyplot as plt\n",
    "import seaborn as sns\n",
    "\n",
    "# Load test and train data\n",
    "with open('/workspace/Film_Hit_prediction/jupyter_notebooks/outputs/engineered/y_test.pkl', 'rb') as f:\n",
    "    y_test = pickle.load(f)\n",
    "    \n",
    "with open('/workspace/Film_Hit_prediction/jupyter_notebooks/outputs/engineered/y_train.pkl', 'rb') as f:\n",
    "    y_train = pickle.load(f)\n",
    "\n",
    "# Load X_test if not already loaded\n",
    "with open('/workspace/Film_Hit_prediction/jupyter_notebooks/outputs/engineered/X_test.pkl', 'rb') as f:\n",
    "    X_test = pickle.load(f)\n",
    "\n",
    "# Get predictions\n",
    "y_pred = model.predict(X_test)\n",
    "\n",
    "# Calculate metrics\n",
    "mse = mean_squared_error(y_test, y_pred)\n",
    "rmse = np.sqrt(mse)\n",
    "mae = mean_absolute_error(y_test, y_pred)\n",
    "r2 = r2_score(y_test, y_pred)\n",
    "\n",
    "print(\"\\nModel Evaluation Metrics:\")\n",
    "print(f'Root Mean Squared Error: ${rmse:,.2f}')\n",
    "print(f'Mean Absolute Error: ${mae:,.2f}')\n",
    "print(f'R² Score: {r2:.4f}')\n",
    "\n",
    "# Calculate percentage error\n",
    "mape = np.mean(np.abs((y_test - y_pred) / y_test)) * 100\n",
    "print(f'Mean Absolute Percentage Error: {mape:.2f}%')\n",
    "\n",
    "\n",
    "\n"
   ]
  },
  {
   "cell_type": "markdown",
   "metadata": {},
   "source": [
    "Visualizations"
   ]
  },
  {
   "cell_type": "code",
   "execution_count": null,
   "metadata": {},
   "outputs": [],
   "source": [
    "# Visualization of predictions vs actual\n",
    "plt.figure(figsize=(10, 6))\n",
    "plt.scatter(y_test, y_pred, alpha=0.5)\n",
    "plt.plot([y_test.min(), y_test.max()], [y_test.min(), y_test.max()], 'r--', lw=2)\n",
    "plt.xlabel('Actual Revenue')\n",
    "plt.ylabel('Predicted Revenue')\n",
    "plt.title('Predicted vs Actual Revenue')\n",
    "plt.tight_layout()\n",
    "plt.show()\n",
    "\n",
    "# Residual plot\n",
    "residuals = y_test - y_pred\n",
    "plt.figure(figsize=(10, 6))\n",
    "plt.scatter(y_pred, residuals, alpha=0.5)\n",
    "plt.axhline(y=0, color='r', linestyle='--')\n",
    "plt.xlabel('Predicted Revenue')\n",
    "plt.ylabel('Residuals')\n",
    "plt.title('Residual Plot')\n",
    "plt.tight_layout()\n",
    "plt.show()\n",
    "\n",
    "# Distribution of residuals\n",
    "plt.figure(figsize=(10, 6))\n",
    "sns.histplot(residuals, kde=True)\n",
    "plt.xlabel('Residuals')\n",
    "plt.ylabel('Count')\n",
    "plt.title('Distribution of Residuals')\n",
    "plt.tight_layout()\n",
    "plt.show()"
   ]
  },
  {
   "cell_type": "markdown",
   "metadata": {},
   "source": [
    "Additional analysis"
   ]
  },
  {
   "cell_type": "code",
   "execution_count": null,
   "metadata": {},
   "outputs": [],
   "source": [
    "\n",
    "\n",
    "# Additional analysis\n",
    "print(\"\\nResiduals Analysis:\")\n",
    "print(f\"Mean of residuals: ${residuals.mean():,.2f}\")\n",
    "print(f\"Standard deviation of residuals: ${residuals.std():,.2f}\")\n",
    "print(f\"Skewness of residuals: {residuals.skew():.2f}\")\n",
    "\n",
    "# Sample predictions\n",
    "comparison_df = pd.DataFrame({\n",
    "    'Actual Revenue': y_test,\n",
    "    'Predicted Revenue': y_pred,\n",
    "    'Absolute Error': np.abs(y_test - y_pred),\n",
    "    'Percentage Error': np.abs((y_test - y_pred) / y_test) * 100\n",
    "})\n",
    "\n",
    "print(\"\\nSample Predictions (first 5 movies):\")\n",
    "print(comparison_df.head().to_string())"
   ]
  }
 ],
 "metadata": {
  "kernelspec": {
   "display_name": "Python 3",
   "language": "python",
   "name": "python3"
  },
  "language_info": {
   "codemirror_mode": {
    "name": "ipython",
    "version": 3
   },
   "file_extension": ".py",
   "mimetype": "text/x-python",
   "name": "python",
   "nbconvert_exporter": "python",
   "pygments_lexer": "ipython3",
   "version": "3.8.18"
  }
 },
 "nbformat": 4,
 "nbformat_minor": 2
}
