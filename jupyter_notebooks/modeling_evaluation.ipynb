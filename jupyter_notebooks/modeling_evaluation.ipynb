{
 "cells": [
  {
   "cell_type": "markdown",
   "metadata": {},
   "source": [
    "# Classification"
   ]
  },
  {
   "cell_type": "markdown",
   "metadata": {},
   "source": [
    "## Objectives\n",
    "\n",
    "*  Fit and evaluate a classification model to predict if a prospect will churn or not.\n",
    "\n",
    "## Inputs\n",
    "\n",
    "* outputs/datasets/collection/TelcoCustomerChurn.csv\n",
    "* Instructions on which variables to use for data cleaning and feature engineering. They are found in each respective notebook.\n",
    "\n",
    "## Outputs\n",
    "\n",
    "* Train set (features and target)\n",
    "* Test set (features and target)\n",
    "* Data cleaning and Feature Engineering pipeline\n",
    "* Modeling pipeline\n",
    "* Feature importance plot\n",
    "\n"
   ]
  },
  {
   "cell_type": "markdown",
   "metadata": {},
   "source": [
    "---"
   ]
  },
  {
   "cell_type": "markdown",
   "metadata": {},
   "source": [
    "# Change working directory"
   ]
  },
  {
   "cell_type": "markdown",
   "metadata": {},
   "source": [
    "Change the working directory from its current folder to its parent folder\n"
   ]
  },
  {
   "cell_type": "code",
   "execution_count": 31,
   "metadata": {},
   "outputs": [
    {
     "data": {
      "text/plain": [
       "'/workspace/Film_Hit_prediction'"
      ]
     },
     "execution_count": 31,
     "metadata": {},
     "output_type": "execute_result"
    }
   ],
   "source": [
    "import os\n",
    "current_dir = os.getcwd()\n",
    "current_dir"
   ]
  },
  {
   "cell_type": "markdown",
   "metadata": {},
   "source": [
    "Make the parent of the current directory the new current directory.\n"
   ]
  },
  {
   "cell_type": "code",
   "execution_count": 32,
   "metadata": {},
   "outputs": [
    {
     "name": "stdout",
     "output_type": "stream",
     "text": [
      "You set a new current directory\n"
     ]
    }
   ],
   "source": [
    "os.chdir(os.path.dirname(current_dir))\n",
    "print(\"You set a new current directory\")"
   ]
  },
  {
   "cell_type": "markdown",
   "metadata": {},
   "source": [
    "Confirm the new current directory"
   ]
  },
  {
   "cell_type": "code",
   "execution_count": 33,
   "metadata": {},
   "outputs": [
    {
     "data": {
      "text/plain": [
       "'/workspace'"
      ]
     },
     "execution_count": 33,
     "metadata": {},
     "output_type": "execute_result"
    }
   ],
   "source": [
    "current_dir = os.getcwd()\n",
    "current_dir"
   ]
  },
  {
   "cell_type": "markdown",
   "metadata": {},
   "source": [
    "---"
   ]
  },
  {
   "cell_type": "markdown",
   "metadata": {},
   "source": [
    "# Load Data "
   ]
  },
  {
   "cell_type": "markdown",
   "metadata": {},
   "source": [
    "Load Data"
   ]
  },
  {
   "cell_type": "markdown",
   "metadata": {},
   "source": []
  },
  {
   "cell_type": "code",
   "execution_count": 34,
   "metadata": {},
   "outputs": [
    {
     "name": "stdout",
     "output_type": "stream",
     "text": [
      "Dataset shapes:\n",
      "X_train shape: (3284, 270)\n",
      "y_train shape: (3284,)\n",
      "X_test shape: (813, 270)\n",
      "y_test shape: (813,)\n"
     ]
    }
   ],
   "source": [
    "import pandas as pd\n",
    "import pickle\n",
    "\n",
    "# Load the splits for modeling\n",
    "X_train = pd.read_pickle('/workspace/Film_Hit_prediction/jupyter_notebooks/outputs/engineered/X_train.pkl')\n",
    "X_test = pd.read_pickle('/workspace/Film_Hit_prediction/jupyter_notebooks/outputs/engineered/X_test.pkl')\n",
    "y_train = pd.read_pickle('/workspace/Film_Hit_prediction/jupyter_notebooks/outputs/engineered/y_train.pkl')\n",
    "y_test = pd.read_pickle('/workspace/Film_Hit_prediction/jupyter_notebooks/outputs/engineered/y_test.pkl')\n",
    "\n",
    "\n",
    "print(\"Dataset shapes:\")\n",
    "print(f\"X_train shape: {X_train.shape}\")\n",
    "print(f\"y_train shape: {y_train.shape}\")\n",
    "print(f\"X_test shape: {X_test.shape}\")\n",
    "print(f\"y_test shape: {y_test.shape}\")\n"
   ]
  },
  {
   "cell_type": "code",
   "execution_count": 35,
   "metadata": {},
   "outputs": [
    {
     "name": "stdout",
     "output_type": "stream",
     "text": [
      "Current split ratio:\n",
      "Training samples: 3284 (80.16%)\n",
      "Test samples: 813 (19.84%)\n"
     ]
    }
   ],
   "source": [
    "print(\"Current split ratio:\")\n",
    "print(f\"Training samples: {X_train.shape[0]} ({X_train.shape[0]/(X_train.shape[0] + X_test.shape[0]):.2%})\")\n",
    "print(f\"Test samples: {X_test.shape[0]} ({X_test.shape[0]/(X_train.shape[0] + X_test.shape[0]):.2%})\")"
   ]
  },
  {
   "cell_type": "markdown",
   "metadata": {},
   "source": [
    "---"
   ]
  },
  {
   "cell_type": "markdown",
   "metadata": {},
   "source": [
    "# Step 2: ML Pipeline with all data"
   ]
  },
  {
   "cell_type": "markdown",
   "metadata": {},
   "source": [
    "## ML Pipeline for Modelling and Hyperparameter Optimisation"
   ]
  },
  {
   "cell_type": "code",
   "execution_count": 36,
   "metadata": {},
   "outputs": [],
   "source": [
    "from sklearn.linear_model import LinearRegression, Ridge, Lasso\n",
    "from sklearn.ensemble import RandomForestRegressor, GradientBoostingRegressor\n",
    "from sklearn.model_selection import GridSearchCV\n",
    "from sklearn.metrics import mean_squared_error, r2_score, mean_absolute_error\n",
    "from sklearn.preprocessing import RobustScaler\n",
    "\n",
    "# Define models\n",
    "\n",
    "models = {\n",
    "    'Linear Regression': {\n",
    "        'model': LinearRegression(),\n",
    "        'params': {}\n",
    "    },\n",
    "    'Ridge': {\n",
    "        'model': Ridge(random_state=42),\n",
    "        'params': {\n",
    "            'alpha': [0.01, 0.1, 1.0, 10.0, 100.0],\n",
    "            'solver': ['auto', 'svd', 'cholesky']\n",
    "        }\n",
    "    },\n",
    "    'Lasso': {\n",
    "        'model': Lasso(random_state=42),  \n",
    "        'params': {\n",
    "            'alpha': [0.1 ],  \n",
    "            'max_iter': [500],\n",
    "            'tol': [0.1], \n",
    "            'selection': ['cyclic'],  \n",
    "        }\n",
    "    },\n",
    "    'Random Forest': {\n",
    "        'model': RandomForestRegressor(random_state=42),\n",
    "        'params': {\n",
    "            'n_estimators': [100, 200],\n",
    "            'max_depth': [10, 20, None],\n",
    "            'min_samples_split': [2, 5],\n",
    "            'n_jobs': [-1]\n",
    "        }\n",
    "    },\n",
    " \n",
    "}\n"
   ]
  },
  {
   "cell_type": "markdown",
   "metadata": {},
   "source": [
    "# Set up and train model"
   ]
  },
  {
   "cell_type": "code",
   "execution_count": 37,
   "metadata": {},
   "outputs": [
    {
     "name": "stdout",
     "output_type": "stream",
     "text": [
      "\n",
      "==================================================\n",
      "\n",
      "Training Linear Regression...\n",
      "Fitting 3 folds for each of 1 candidates, totalling 3 fits\n",
      "[CV] END .................................................... total time=   0.6s\n",
      "[CV] END .................................................... total time=   0.5s\n",
      "[CV] END .................................................... total time=   1.0s\n",
      "\n",
      "==================================================\n",
      "\n",
      "Training Ridge...\n",
      "Fitting 3 folds for each of 15 candidates, totalling 45 fits\n",
      "[CV] END ............................alpha=0.01, solver=auto; total time=   0.3s\n",
      "[CV] END ............................alpha=0.01, solver=auto; total time=   0.5s\n",
      "[CV] END ............................alpha=0.01, solver=auto; total time=   0.5s\n",
      "[CV] END .............................alpha=0.01, solver=svd; total time=   1.1s\n",
      "[CV] END .............................alpha=0.01, solver=svd; total time=   1.3s\n",
      "[CV] END .............................alpha=0.01, solver=svd; total time=   0.9s\n",
      "[CV] END ........................alpha=0.01, solver=cholesky; total time=   0.4s\n",
      "[CV] END ........................alpha=0.01, solver=cholesky; total time=   0.6s\n",
      "[CV] END ........................alpha=0.01, solver=cholesky; total time=   0.4s\n",
      "[CV] END .............................alpha=0.1, solver=auto; total time=   0.6s\n",
      "[CV] END .............................alpha=0.1, solver=auto; total time=   0.4s\n",
      "[CV] END .............................alpha=0.1, solver=auto; total time=   0.4s\n",
      "[CV] END ..............................alpha=0.1, solver=svd; total time=   1.0s\n",
      "[CV] END ..............................alpha=0.1, solver=svd; total time=   1.0s\n",
      "[CV] END ..............................alpha=0.1, solver=svd; total time=   1.0s\n",
      "[CV] END .........................alpha=0.1, solver=cholesky; total time=   0.6s\n",
      "[CV] END .........................alpha=0.1, solver=cholesky; total time=   0.4s\n",
      "[CV] END .........................alpha=0.1, solver=cholesky; total time=   0.3s\n",
      "[CV] END .............................alpha=1.0, solver=auto; total time=   0.4s\n",
      "[CV] END .............................alpha=1.0, solver=auto; total time=   0.9s\n",
      "[CV] END .............................alpha=1.0, solver=auto; total time=   0.5s\n",
      "[CV] END ..............................alpha=1.0, solver=svd; total time=   1.1s\n",
      "[CV] END ..............................alpha=1.0, solver=svd; total time=   1.2s\n",
      "[CV] END ..............................alpha=1.0, solver=svd; total time=   1.2s\n",
      "[CV] END .........................alpha=1.0, solver=cholesky; total time=   0.6s\n",
      "[CV] END .........................alpha=1.0, solver=cholesky; total time=   0.3s\n",
      "[CV] END .........................alpha=1.0, solver=cholesky; total time=   0.5s\n",
      "[CV] END ............................alpha=10.0, solver=auto; total time=   0.6s\n",
      "[CV] END ............................alpha=10.0, solver=auto; total time=   0.6s\n",
      "[CV] END ............................alpha=10.0, solver=auto; total time=   0.7s\n",
      "[CV] END .............................alpha=10.0, solver=svd; total time=   1.2s\n",
      "[CV] END .............................alpha=10.0, solver=svd; total time=   1.4s\n",
      "[CV] END .............................alpha=10.0, solver=svd; total time=   0.9s\n",
      "[CV] END ........................alpha=10.0, solver=cholesky; total time=   0.4s\n",
      "[CV] END ........................alpha=10.0, solver=cholesky; total time=   0.4s\n",
      "[CV] END ........................alpha=10.0, solver=cholesky; total time=   0.4s\n",
      "[CV] END ...........................alpha=100.0, solver=auto; total time=   0.4s\n",
      "[CV] END ...........................alpha=100.0, solver=auto; total time=   0.5s\n",
      "[CV] END ...........................alpha=100.0, solver=auto; total time=   0.4s\n",
      "[CV] END ............................alpha=100.0, solver=svd; total time=   1.3s\n",
      "[CV] END ............................alpha=100.0, solver=svd; total time=   1.2s\n",
      "[CV] END ............................alpha=100.0, solver=svd; total time=   1.5s\n",
      "[CV] END .......................alpha=100.0, solver=cholesky; total time=   0.3s\n",
      "[CV] END .......................alpha=100.0, solver=cholesky; total time=   0.4s\n",
      "[CV] END .......................alpha=100.0, solver=cholesky; total time=   0.6s\n",
      "\n",
      "==================================================\n",
      "\n",
      "Training Lasso...\n",
      "Fitting 3 folds for each of 1 candidates, totalling 3 fits\n"
     ]
    },
    {
     "name": "stderr",
     "output_type": "stream",
     "text": [
      "/workspace/.pip-modules/lib/python3.8/site-packages/sklearn/linear_model/_coordinate_descent.py:530: ConvergenceWarning: Objective did not converge. You might want to increase the number of iterations. Duality gap: 6.253091731805863e+18, tolerance: 5.67584574577462e+18\n",
      "  model = cd_fast.enet_coordinate_descent(\n"
     ]
    },
    {
     "name": "stdout",
     "output_type": "stream",
     "text": [
      "[CV] END .alpha=0.1, max_iter=500, selection=cyclic, tol=0.1; total time=   5.0s\n"
     ]
    },
    {
     "name": "stderr",
     "output_type": "stream",
     "text": [
      "/workspace/.pip-modules/lib/python3.8/site-packages/sklearn/linear_model/_coordinate_descent.py:530: ConvergenceWarning: Objective did not converge. You might want to increase the number of iterations. Duality gap: 8.153800904535568e+18, tolerance: 6.982214786800402e+18\n",
      "  model = cd_fast.enet_coordinate_descent(\n"
     ]
    },
    {
     "name": "stdout",
     "output_type": "stream",
     "text": [
      "[CV] END .alpha=0.1, max_iter=500, selection=cyclic, tol=0.1; total time=   5.2s\n"
     ]
    },
    {
     "name": "stderr",
     "output_type": "stream",
     "text": [
      "/workspace/.pip-modules/lib/python3.8/site-packages/sklearn/linear_model/_coordinate_descent.py:530: ConvergenceWarning: Objective did not converge. You might want to increase the number of iterations. Duality gap: 7.856304036011959e+18, tolerance: 6.580600584278111e+18\n",
      "  model = cd_fast.enet_coordinate_descent(\n"
     ]
    },
    {
     "name": "stdout",
     "output_type": "stream",
     "text": [
      "[CV] END .alpha=0.1, max_iter=500, selection=cyclic, tol=0.1; total time=   5.0s\n"
     ]
    },
    {
     "name": "stderr",
     "output_type": "stream",
     "text": [
      "/workspace/.pip-modules/lib/python3.8/site-packages/sklearn/linear_model/_coordinate_descent.py:530: ConvergenceWarning: Objective did not converge. You might want to increase the number of iterations. Duality gap: 1.207138379034676e+19, tolerance: 9.619486165716603e+18\n",
      "  model = cd_fast.enet_coordinate_descent(\n"
     ]
    },
    {
     "name": "stdout",
     "output_type": "stream",
     "text": [
      "\n",
      "==================================================\n",
      "\n",
      "Training Random Forest...\n",
      "Fitting 3 folds for each of 12 candidates, totalling 36 fits\n",
      "[CV] END max_depth=10, min_samples_split=2, n_estimators=100, n_jobs=-1; total time=   0.9s\n",
      "[CV] END max_depth=10, min_samples_split=2, n_estimators=100, n_jobs=-1; total time=   0.9s\n",
      "[CV] END max_depth=10, min_samples_split=2, n_estimators=100, n_jobs=-1; total time=   0.9s\n",
      "[CV] END max_depth=10, min_samples_split=2, n_estimators=200, n_jobs=-1; total time=   1.8s\n",
      "[CV] END max_depth=10, min_samples_split=2, n_estimators=200, n_jobs=-1; total time=   1.8s\n",
      "[CV] END max_depth=10, min_samples_split=2, n_estimators=200, n_jobs=-1; total time=   1.8s\n",
      "[CV] END max_depth=10, min_samples_split=5, n_estimators=100, n_jobs=-1; total time=   0.9s\n",
      "[CV] END max_depth=10, min_samples_split=5, n_estimators=100, n_jobs=-1; total time=   0.9s\n",
      "[CV] END max_depth=10, min_samples_split=5, n_estimators=100, n_jobs=-1; total time=   0.8s\n",
      "[CV] END max_depth=10, min_samples_split=5, n_estimators=200, n_jobs=-1; total time=   1.7s\n",
      "[CV] END max_depth=10, min_samples_split=5, n_estimators=200, n_jobs=-1; total time=   1.8s\n",
      "[CV] END max_depth=10, min_samples_split=5, n_estimators=200, n_jobs=-1; total time=   1.5s\n",
      "[CV] END max_depth=20, min_samples_split=2, n_estimators=100, n_jobs=-1; total time=   1.2s\n",
      "[CV] END max_depth=20, min_samples_split=2, n_estimators=100, n_jobs=-1; total time=   1.2s\n",
      "[CV] END max_depth=20, min_samples_split=2, n_estimators=100, n_jobs=-1; total time=   1.1s\n",
      "[CV] END max_depth=20, min_samples_split=2, n_estimators=200, n_jobs=-1; total time=   2.4s\n",
      "[CV] END max_depth=20, min_samples_split=2, n_estimators=200, n_jobs=-1; total time=   2.4s\n",
      "[CV] END max_depth=20, min_samples_split=2, n_estimators=200, n_jobs=-1; total time=   2.4s\n",
      "[CV] END max_depth=20, min_samples_split=5, n_estimators=100, n_jobs=-1; total time=   1.1s\n",
      "[CV] END max_depth=20, min_samples_split=5, n_estimators=100, n_jobs=-1; total time=   1.0s\n",
      "[CV] END max_depth=20, min_samples_split=5, n_estimators=100, n_jobs=-1; total time=   1.1s\n",
      "[CV] END max_depth=20, min_samples_split=5, n_estimators=200, n_jobs=-1; total time=   2.2s\n",
      "[CV] END max_depth=20, min_samples_split=5, n_estimators=200, n_jobs=-1; total time=   2.2s\n",
      "[CV] END max_depth=20, min_samples_split=5, n_estimators=200, n_jobs=-1; total time=   2.1s\n",
      "[CV] END max_depth=None, min_samples_split=2, n_estimators=100, n_jobs=-1; total time=   1.3s\n",
      "[CV] END max_depth=None, min_samples_split=2, n_estimators=100, n_jobs=-1; total time=   1.3s\n",
      "[CV] END max_depth=None, min_samples_split=2, n_estimators=100, n_jobs=-1; total time=   1.3s\n",
      "[CV] END max_depth=None, min_samples_split=2, n_estimators=200, n_jobs=-1; total time=   2.5s\n",
      "[CV] END max_depth=None, min_samples_split=2, n_estimators=200, n_jobs=-1; total time=   2.7s\n",
      "[CV] END max_depth=None, min_samples_split=2, n_estimators=200, n_jobs=-1; total time=   2.6s\n",
      "[CV] END max_depth=None, min_samples_split=5, n_estimators=100, n_jobs=-1; total time=   1.1s\n",
      "[CV] END max_depth=None, min_samples_split=5, n_estimators=100, n_jobs=-1; total time=   1.2s\n",
      "[CV] END max_depth=None, min_samples_split=5, n_estimators=100, n_jobs=-1; total time=   1.1s\n",
      "[CV] END max_depth=None, min_samples_split=5, n_estimators=200, n_jobs=-1; total time=   2.3s\n",
      "[CV] END max_depth=None, min_samples_split=5, n_estimators=200, n_jobs=-1; total time=   2.3s\n",
      "[CV] END max_depth=None, min_samples_split=5, n_estimators=200, n_jobs=-1; total time=   2.4s\n"
     ]
    }
   ],
   "source": [
    "import numpy as np\n",
    "from sklearn.metrics import mean_squared_error, r2_score\n",
    "import joblib\n",
    "\n",
    "results = {}\n",
    "best_models = {}\n",
    "\n",
    "for name, model_info in models.items():\n",
    "    print(f\"\\n{'='*50}\")\n",
    "    print(f\"\\nTraining {name}...\")\n",
    "\n",
    "    # GridSearchCV performs the hyperparameter optimization\n",
    "    grid_search = GridSearchCV(\n",
    "        model_info['model'],\n",
    "        model_info['params'],\n",
    "        cv=3,\n",
    "        scoring='neg_mean_squared_error',\n",
    "        n_jobs= 1 ,\n",
    "        verbose=2\n",
    "    )\n",
    "    \n",
    "    # Fit the model\n",
    "    grid_search.fit(X_train, y_train.ravel())\n",
    "    best_models[name] = grid_search.best_estimator_\n"
   ]
  },
  {
   "cell_type": "markdown",
   "metadata": {},
   "source": [
    "# Evaluate Performance"
   ]
  },
  {
   "cell_type": "code",
   "execution_count": 38,
   "metadata": {},
   "outputs": [
    {
     "name": "stdout",
     "output_type": "stream",
     "text": [
      "\n",
      "Training Linear Regression...\n",
      "\n",
      "Results for Linear Regression:\n",
      "RMSE: 99053175.73\n",
      "R2 Score: 0.66\n",
      "Best Parameters: {'max_depth': None, 'min_samples_split': 2, 'n_estimators': 200, 'n_jobs': -1}\n",
      "\n",
      "Training Ridge...\n",
      "\n",
      "Results for Ridge:\n",
      "RMSE: 98681577.29\n",
      "R2 Score: 0.66\n",
      "Best Parameters: {'max_depth': None, 'min_samples_split': 2, 'n_estimators': 200, 'n_jobs': -1}\n",
      "\n",
      "Training Lasso...\n",
      "\n",
      "Results for Lasso:\n",
      "RMSE: 99063624.55\n",
      "R2 Score: 0.66\n",
      "Best Parameters: {'max_depth': None, 'min_samples_split': 2, 'n_estimators': 200, 'n_jobs': -1}\n",
      "\n",
      "Training Random Forest...\n",
      "\n",
      "Results for Random Forest:\n",
      "RMSE: 78861507.03\n",
      "R2 Score: 0.78\n",
      "Best Parameters: {'max_depth': None, 'min_samples_split': 2, 'n_estimators': 200, 'n_jobs': -1}\n"
     ]
    }
   ],
   "source": [
    "import numpy as np\n",
    "from sklearn.metrics import mean_squared_error, r2_score\n",
    "import joblib\n",
    "\n",
    "\n",
    "for name, model in best_models.items():\n",
    "    print(f\"\\nTraining {name}...\")\n",
    "\n",
    "     # Make predictions\n",
    "    y_pred = model.predict(X_test)\n",
    "    \n",
    "    \n",
    "    # Calculate metrics\n",
    "    mse = mean_squared_error(y_test, y_pred)\n",
    "    rmse = np.sqrt(mse)\n",
    "    r2 = r2_score(y_test, y_pred)\n",
    "    \n",
    "    # Store results\n",
    "    results[name] = {\n",
    "        'MSE': mse,\n",
    "        'RMSE': rmse,\n",
    "        'R2 Score': r2,\n",
    "        'Best Parameters': grid_search.best_params_\n",
    "    }\n",
    "    \n",
    "    # Print results\n",
    "    print(f\"\\nResults for {name}:\")\n",
    "    print(f\"RMSE: {rmse:.2f}\")\n",
    "    print(f\"R2 Score: {r2:.2f}\")\n",
    "    print(f\"Best Parameters: {grid_search.best_params_}\")"
   ]
  },
  {
   "cell_type": "markdown",
   "metadata": {},
   "source": [
    "# Save Best Performing Model"
   ]
  },
  {
   "cell_type": "code",
   "execution_count": 39,
   "metadata": {},
   "outputs": [
    {
     "name": "stdout",
     "output_type": "stream",
     "text": [
      "\n",
      "Best performing model: Random Forest\n",
      "Best model RMSE: 78861507.03\n",
      "\n",
      "Best model saved as: film_revenue_model_Random Forest_20250115.joblib\n",
      "Model and scalers saved successfully!\n",
      "Best model saved successfully!\n"
     ]
    }
   ],
   "source": [
    "import os\n",
    "import joblib\n",
    "\n",
    "# 1. First identify the best model\n",
    "best_model_name = min(results, key=lambda x: results[x]['RMSE'])\n",
    "best_model = best_models[best_model_name]\n",
    "\n",
    "print(f\"\\nBest performing model: {best_model_name}\")\n",
    "print(f\"Best model RMSE: {results[best_model_name]['RMSE']:.2f}\")\n",
    "\n",
    "# 2. Set up the save directory\n",
    "save_dir = '/workspace/Film_Hit_prediction/jupyter_notebooks/outputs/models'\n",
    "os.makedirs(save_dir, exist_ok=True)  # Create directory if it doesn't exist\n",
    "\n",
    "# 3. Create the filename with model name and date\n",
    "from datetime import datetime\n",
    "current_date = datetime.now().strftime(\"%Y%m%d\")\n",
    "model_filename = f'film_revenue_model_{best_model_name}_{current_date}.joblib'\n",
    "full_path = os.path.join(save_dir, model_filename)\n",
    "\n",
    "# 4. Save the model\n",
    "joblib.dump(best_model, full_path)\n",
    "\n",
    "print(f\"\\nBest model saved as: {model_filename}\")\n",
    "print(\"Model and scalers saved successfully!\")\n",
    "print(\"Best model saved successfully!\")\n"
   ]
  },
  {
   "cell_type": "markdown",
   "metadata": {},
   "source": [
    "## Assess feature importance"
   ]
  },
  {
   "cell_type": "code",
   "execution_count": 40,
   "metadata": {},
   "outputs": [
    {
     "name": "stdout",
     "output_type": "stream",
     "text": [
      "Loaded model type: <class 'sklearn.ensemble._forest.RandomForestRegressor'>\n",
      "\n",
      "Top 10 Most Important Features:\n",
      "                                    Feature  Importance\n",
      "102                              popularity    0.335984\n",
      "201                                  budget    0.325247\n",
      "5                         budget_per_minute    0.084827\n",
      "22                                  runtime    0.030798\n",
      "169  crew_Producer_James Cameron_pop_weight    0.026265\n",
      "62              crew_Producer_James Cameron    0.022754\n",
      "180                               Adventure    0.011247\n",
      "56                     other_producer_count    0.010556\n",
      "45                        other_actor_count    0.010382\n",
      "196            cast_Frank Welker_pop_weight    0.005746\n"
     ]
    },
    {
     "data": {
      "image/png": "[encoded data removed]",
      "text/plain": [
       "<Figure size 1200x600 with 1 Axes>"
      ]
     },
     "metadata": {},
     "output_type": "display_data"
    }
   ],
   "source": [
    "import joblib\n",
    "import pandas as pd\n",
    "import matplotlib.pyplot as plt\n",
    "\n",
    "# Load the saved Random Forest model\n",
    "model_path = '/workspace/Film_Hit_prediction/jupyter_notebooks/outputs/models/film_revenue_model_Random Forest_20250115.joblib'\n",
    "loaded_model = joblib.load(model_path)\n",
    "\n",
    "print(\"Loaded model type:\", type(loaded_model))\n",
    "\n",
    "\n",
    "# Create a DataFrame for feature importance\n",
    "feature_importance = pd.DataFrame({\n",
    "    'Feature': X_train.columns,\n",
    "    'Importance': loaded_model.feature_importances_\n",
    "})\n",
    "\n",
    "# Sort features by importance in descending order\n",
    "feature_importance = feature_importance.sort_values(by='Importance', ascending=False)\n",
    "\n",
    "# Print top 10 most important features\n",
    "print(\"\\nTop 10 Most Important Features:\")\n",
    "print(feature_importance.head(10))\n",
    "\n",
    "# Plot the top 10 feature importance\n",
    "plt.figure(figsize=(12, 6))\n",
    "plt.bar(feature_importance['Feature'][:10], feature_importance['Importance'][:10])\n",
    "plt.xticks(rotation=45, ha='right')\n",
    "plt.title('Top 10 Feature Importance for Revenue Prediction')\n",
    "plt.xlabel('Features')\n",
    "plt.ylabel('Importance Score')\n",
    "plt.tight_layout()\n",
    "plt.show()\n"
   ]
  },
  {
   "cell_type": "markdown",
   "metadata": {},
   "source": [
    "# Prediction Model\n"
   ]
  },
  {
   "cell_type": "markdown",
   "metadata": {},
   "source": [
    "Create a function to make predictions for new movies based on parameters:\n",
    "-  budget (float): Movie budget in dollars\n",
    "- language (str): Original language (e.g., 'en' for English)\n",
    "- genres (list): List of genres (e.g., ['Action', 'Adventure'])\n",
    "    \n",
    " Returns:\n",
    "- float: Predicted revenue and profit"
   ]
  },
  {
   "cell_type": "markdown",
   "metadata": {},
   "source": [
    "New model"
   ]
  },
  {
   "cell_type": "code",
   "execution_count": 61,
   "metadata": {},
   "outputs": [],
   "source": [
    "import joblib\n",
    "import pickle\n",
    "import pandas as pd\n",
    "import numpy as np\n",
    "import traceback\n",
    "\n",
    "def predict_movie_revenue(budget, runtime, genres, language, production_company, \n",
    "                          production_country, actor1, actor2, crew_director, \n",
    "                          crew_writer, crew_producer):\n",
    "    try:\n",
    "        print(\"Loading models and data...\")\n",
    "        \n",
    "        # Load the trained model\n",
    "        model = joblib.load('/workspace/Film_Hit_prediction/jupyter_notebooks/outputs/models/film_revenue_model_Random Forest_20250115.joblib')\n",
    "        \n",
    "        # Load the saved transformation data\n",
    "        with open('/workspace/Film_Hit_prediction/jupyter_notebooks/outputs/engineered/full_transformation_data.pkl', 'rb') as f:\n",
    "            transform_data = pickle.load(f)\n",
    "\n",
    "        # Load the feature scaler separately\n",
    "        with open('/workspace/Film_Hit_prediction/jupyter_notebooks/outputs/engineered/feature_scaler.pkl', 'rb') as f:\n",
    "            feature_scaler = pickle.load(f)\n",
    "\n",
    "        # Extract components from transform_data\n",
    "        numeric_cols = [col for col in transform_data['numeric_cols'] if col != 'revenue']\n",
    "        all_features = [col for col in transform_data['all_features'] if col != 'revenue']\n",
    "\n",
    "\n",
    "        # Initialize features with zero values for all columns\n",
    "        features = {col: 0 for col in all_features}\n",
    "\n",
    "        # Process numeric features\n",
    "        features['budget'] = budget\n",
    "        features['runtime'] = runtime\n",
    "        features['budget_per_minute'] = budget / runtime if runtime > 0 else 0\n",
    "        features['popularity'] = 0 \n",
    "\n",
    "        # Process genres\n",
    "        for genre in transform_data['genre_columns']:\n",
    "            features[genre] = 1 if genre in genres else 0\n",
    "\n",
    "        # Encode language (assuming LabelEncoder was used)\n",
    "        language_encoder = transform_data['encoders_and_filters']['language_encoder']\n",
    "        features['language_encoded'] = language_encoder.transform([language])[0] if language in language_encoder.classes_ else 0\n",
    "\n",
    "        # Load top actors, directors, writers, and producers data\n",
    "        with open('/workspace/Film_Hit_prediction/jupyter_notebooks/outputs/engineered/top_revenue_actors.pkl', 'rb') as f:\n",
    "            actor_data = pickle.load(f)\n",
    "        with open('/workspace/Film_Hit_prediction/jupyter_notebooks/outputs/engineered/top_revenue_directors.pkl', 'rb') as f:\n",
    "            director_data = pickle.load(f)\n",
    "        with open('/workspace/Film_Hit_prediction/jupyter_notebooks/outputs/engineered/top_revenue_writers.pkl', 'rb') as f:\n",
    "            writer_data = pickle.load(f)\n",
    "        with open('/workspace/Film_Hit_prediction/jupyter_notebooks/outputs/engineered/top_revenue_producers.pkl', 'rb') as f:\n",
    "            producer_data = pickle.load(f)\n",
    "\n",
    "        top_actor_cols = actor_data['columns']\n",
    "        top_director_cols = director_data['columns']\n",
    "        top_writer_cols = writer_data['columns']\n",
    "        top_producer_cols = producer_data['columns']\n",
    "\n",
    "        # Initialize \"other\" counts\n",
    "        other_actor_count = 0\n",
    "        other_director_count = 0\n",
    "        other_writer_count = 0\n",
    "        other_producer_count = 0\n",
    "\n",
    "        # Process actors\n",
    "        for actor in [actor1, actor2]:\n",
    "            actor_col = f\"cast_{actor.replace(' ', '_')}\"\n",
    "            if actor_col in top_actor_cols:\n",
    "                features[actor_col] = 1\n",
    "        else:\n",
    "                other_actor_count += 1\n",
    "\n",
    "        # Process director\n",
    "        director_col = f\"crew_Director_{crew_director.replace(' ', '_')}\"\n",
    "        if director_col in top_director_cols:\n",
    "            features[director_col] = 1\n",
    "        else:\n",
    "            other_director_count += 1\n",
    "\n",
    "        # Process writer\n",
    "        writer_col = f\"crew_Writer_{crew_writer.replace(' ', '_')}\"\n",
    "        if writer_col in top_writer_cols:\n",
    "            features[writer_col] = 1\n",
    "        else:\n",
    "            other_writer_count += 1\n",
    "\n",
    "        # Process producer\n",
    "        producer_col = f\"crew_Producer_{crew_producer.replace(' ', '_')}\"\n",
    "        if producer_col in top_producer_cols:\n",
    "            features[producer_col] = 1\n",
    "        else:\n",
    "            other_producer_count += 1\n",
    "\n",
    "        # Add \"other\" counts to features\n",
    "        features['other_actor_count'] = other_actor_count\n",
    "        features['other_director_count'] = other_director_count\n",
    "        features['other_writer_count'] = other_writer_count\n",
    "        features['other_producer_count'] = other_producer_count\n",
    "\n",
    "\n",
    "        # Extract top companies and countries from encoders_and_filters\n",
    "        top_companies = transform_data['encoders_and_filters']['frequent_companies']\n",
    "        top_countries = transform_data['encoders_and_filters']['frequent_countries']\n",
    "\n",
    "        # Process production company (set to 1 if it's in the top list)\n",
    "        if production_company in top_companies:\n",
    "            company_col = f\"company_{production_company}\"\n",
    "            if company_col in features:\n",
    "                features[company_col] = 1\n",
    "\n",
    "        # Process production country (set to 1 if it's in the top list)\n",
    "        if production_country in top_countries:\n",
    "            country_col = f\"country_{production_country}\"\n",
    "            if country_col in features:\n",
    "                features[country_col] = 1\n",
    "\n",
    "        # Debug before creating pred_df\n",
    "        print(f\"Features created: {list(features.keys())}\")\n",
    "        print(f\"Expected features (all_features): {all_features}\")\n",
    "\n",
    "        missing_features = set(all_features) - set(features.keys())\n",
    "        extra_features = set(features.keys()) - set(all_features)\n",
    "\n",
    "        print(f\"Missing features: {missing_features}\")\n",
    "        print(f\"Extra features: {extra_features}\")\n",
    "\n",
    "        # Debug feature set before creating pred_df\n",
    "        print(f\"Features created: {list(features.keys())}\")\n",
    "        print(f\"Number of expected features: {len(all_features)}\")\n",
    "\n",
    "        # Create DataFrame from features\n",
    "        pred_df = pd.DataFrame([features])\n",
    "\n",
    "        print(\"\\nBefore scaling:\")\n",
    "        numeric_data = pred_df[numeric_cols].copy()\n",
    "        print(\"Numeric columns:\", numeric_cols)\n",
    "        print(\"Values:\", numeric_data.iloc[0].to_dict())\n",
    "\n",
    "        # Scale numeric columns\n",
    "        pred_df[numeric_cols] = feature_scaler.transform(pred_df[numeric_cols])\n",
    "\n",
    "        scaled_numeric = feature_scaler.transform(pred_df[numeric_cols])\n",
    "        print(\"\\nAfter scaling:\")\n",
    "        scaled_df = pd.DataFrame(scaled_numeric, columns=numeric_cols)\n",
    "        print(scaled_df.iloc[0].to_dict())\n",
    "\n",
    "        # Ensure correct column order\n",
    "        pred_df = pred_df[all_features]\n",
    "\n",
    "        # Debug feature count\n",
    "        print(f\"Final number of features in pred_df: {pred_df.shape[1]}\")\n",
    "\n",
    "        # Make prediction\n",
    "        raw_prediction = model.predict(pred_df)[0]\n",
    "        print(f\"Raw prediction from model: {raw_prediction}\")\n",
    "\n",
    "       # Don't apply scaling factors - the prediction is already in the right units\n",
    "        predicted_revenue = raw_prediction  # The model predicts in dollars\n",
    "        predicted_revenue = max(0, predicted_revenue) \n",
    "        \n",
    "        return {\n",
    "            'revenue': predicted_revenue,\n",
    "            'profit': predicted_revenue - budget,\n",
    "            'roi': ((predicted_revenue - budget) / budget * 100) if budget > 0 else 0,\n",
    "            'is_profitable': predicted_revenue > budget,\n",
    "        }\n",
    "\n",
    "    \n",
    "    \n",
    "    except Exception as e:\n",
    "        print(f\"Error in prediction: {str(e)}\")\n",
    "        traceback.print_exc()\n",
    "        return None\n",
    "\n"
   ]
  },
  {
   "cell_type": "code",
   "execution_count": 63,
   "metadata": {},
   "outputs": [
    {
     "name": "stdout",
     "output_type": "stream",
     "text": [
      "Loading models and data...\n",
      "Features created: ['budget', 'runtime', 'language_encoded', 'popularity', 'Action', 'Adventure', 'Animation', 'Comedy', 'Crime', 'Documentary', 'Drama', 'Family', 'Fantasy', 'History', 'Horror', 'Music', 'Mystery', 'Romance', 'Science Fiction', 'TV Movie', 'Thriller', 'War', 'Western', 'company_Alcon Entertainment', 'company_Amblin Entertainment', 'company_Apatow Productions', 'company_BBC Films', 'company_Blumhouse Productions', 'company_Canal+', 'company_Castle Rock Entertainment', 'company_Columbia Pictures', 'company_Columbia Pictures Corporation', 'company_Constantin Film Produktion', 'company_Davis Entertainment', 'company_Dimension Films', 'company_DreamWorks Animation', 'company_DreamWorks SKG', 'company_Dune Entertainment', 'company_Dune Entertainment III', 'company_Eon Productions', 'company_Epsilon Motion Pictures', 'company_EuropaCorp', 'company_Film4', 'company_Focus Features', 'company_Fox 2000 Pictures', 'company_Fox Searchlight Pictures', 'company_France 2 Cinéma', 'company_Happy Madison Productions', 'company_Hollywood Pictures', 'company_Imagine Entertainment', 'company_Ingenious Film Partners', 'company_Intermedia Films', 'company_Jerry Bruckheimer Films', 'company_Lakeshore Entertainment', 'company_Legendary Pictures', 'company_Lions Gate Films', 'company_Lionsgate', 'company_MTV Films', 'company_Metro-Goldwyn-Mayer (MGM)', 'company_Millennium Films', 'company_Miramax Films', 'company_Morgan Creek Productions', 'company_NPV Entertainment', 'company_New Line Cinema', 'company_New Regency Pictures', 'company_Nickelodeon Movies', 'company_Original Film', 'company_Paramount Pictures', 'company_Participant Media', 'company_Regency Enterprises', 'company_Relativity Media', 'company_Revolution Studios', 'company_Scott Free Productions', 'company_Scott Rudin Productions', 'company_Screen Gems', 'company_Silver Pictures', 'company_Spyglass Entertainment', 'company_Studio Babelsberg', 'company_StudioCanal', 'company_Summit Entertainment', 'company_TSG Entertainment', 'company_The Weinstein Company', 'company_Touchstone Pictures', 'company_TriStar Pictures', 'company_Twentieth Century Fox Film Corporation', 'company_UK Film Council', 'company_United Artists', 'company_Universal Pictures', 'company_Village Roadshow Pictures', 'company_Walt Disney Pictures', 'company_Warner Bros.', 'company_Working Title Films', 'country_Australia', 'country_Canada', 'country_China', 'country_France', 'country_Germany', 'country_India', 'country_Italy', 'country_Japan', 'country_Spain', 'country_United Kingdom', 'country_United States of America', 'budget_per_minute', 'cast_Stan Lee', 'cast_John Ratzenberger', 'cast_Hugo Weaving', 'cast_Ian McKellen', 'cast_Andy Serkis', 'cast_Cate Blanchett', 'cast_Will Smith', 'cast_Samuel L. Jackson', 'cast_Frank Welker', 'cast_Stellan Skarsgård', 'cast_Tom Cruise', 'cast_Tom Hanks', 'cast_Elizabeth Banks', 'cast_Morgan Freeman', 'cast_Steve Carell', 'cast_Alan Rickman', 'cast_Gary Oldman', 'cast_Geoffrey Rush', 'cast_Stanley Tucci', 'cast_Liam Neeson', 'cast_Alan Tudyk', 'cast_Brendan Gleeson', 'cast_Bill Hader', 'cast_Judy Greer', 'cast_Sean Bean', 'cast_Elijah Wood', 'cast_Anne Hathaway', 'cast_Johnny Depp', 'cast_Angelina Jolie', 'cast_John Goodman', 'cast_Stan Lee_pop_weight', 'cast_John Ratzenberger_pop_weight', 'cast_Hugo Weaving_pop_weight', 'cast_Ian McKellen_pop_weight', 'cast_Andy Serkis_pop_weight', 'cast_Cate Blanchett_pop_weight', 'cast_Will Smith_pop_weight', 'cast_Samuel L. Jackson_pop_weight', 'cast_Frank Welker_pop_weight', 'cast_Stellan Skarsgård_pop_weight', 'cast_Tom Cruise_pop_weight', 'cast_Tom Hanks_pop_weight', 'cast_Elizabeth Banks_pop_weight', 'cast_Morgan Freeman_pop_weight', 'cast_Steve Carell_pop_weight', 'cast_Alan Rickman_pop_weight', 'cast_Gary Oldman_pop_weight', 'cast_Geoffrey Rush_pop_weight', 'cast_Stanley Tucci_pop_weight', 'cast_Liam Neeson_pop_weight', 'cast_Alan Tudyk_pop_weight', 'cast_Brendan Gleeson_pop_weight', 'cast_Bill Hader_pop_weight', 'cast_Judy Greer_pop_weight', 'cast_Sean Bean_pop_weight', 'cast_Elijah Wood_pop_weight', 'cast_Anne Hathaway_pop_weight', 'cast_Johnny Depp_pop_weight', 'cast_Angelina Jolie_pop_weight', 'cast_John Goodman_pop_weight', 'other_actor_count', 'crew_Director_Aaron Seltzer', 'crew_Director_Adam McKay', 'crew_Director_Adam Shankman', 'crew_Director_Alejandro González Iñárritu', 'crew_Director_Alex Proyas', 'crew_Director_Alexander Payne', 'crew_Director_Alfonso Cuarón', 'crew_Director_Alfred Hitchcock', 'crew_Director_Andrew Adamson', 'crew_Director_Andrew Niccol', 'crew_Director_Andrzej Bartkowiak', 'crew_Director_Andy Fickman', 'crew_Director_Andy Tennant', 'crew_Director_Ang Lee', 'crew_Director_Anne Fletcher', 'crew_Director_Antoine Fuqua', 'crew_Director_Atom Egoyan', 'crew_Director_Barry Levinson', 'crew_Director_Barry Sonnenfeld', 'crew_Director_Ben Stiller', 'crew_Director_Aaron Seltzer_pop_weight', 'crew_Director_Adam McKay_pop_weight', 'crew_Director_Adam Shankman_pop_weight', 'crew_Director_Alejandro González Iñárritu_pop_weight', 'crew_Director_Alex Proyas_pop_weight', 'crew_Director_Alexander Payne_pop_weight', 'crew_Director_Alfonso Cuarón_pop_weight', 'crew_Director_Alfred Hitchcock_pop_weight', 'crew_Director_Andrew Adamson_pop_weight', 'crew_Director_Andrew Niccol_pop_weight', 'crew_Director_Andrzej Bartkowiak_pop_weight', 'crew_Director_Andy Fickman_pop_weight', 'crew_Director_Andy Tennant_pop_weight', 'crew_Director_Ang Lee_pop_weight', 'crew_Director_Anne Fletcher_pop_weight', 'crew_Director_Antoine Fuqua_pop_weight', 'crew_Director_Atom Egoyan_pop_weight', 'crew_Director_Barry Levinson_pop_weight', 'crew_Director_Barry Sonnenfeld_pop_weight', 'crew_Director_Ben Stiller_pop_weight', 'other_director_count', 'crew_Writer_David Zucker', 'crew_Writer_M. Night Shyamalan', 'crew_Writer_Quentin Tarantino', 'crew_Writer_Woody Allen', 'crew_Writer_Robert Rodriguez', 'crew_Writer_Ethan Coen', 'crew_Writer_Joel Coen', 'crew_Writer_Kevin Smith', 'crew_Writer_Tyler Perry', 'crew_Writer_Luc Besson', 'crew_Writer_David Zucker_pop_weight', 'crew_Writer_M. Night Shyamalan_pop_weight', 'crew_Writer_Quentin Tarantino_pop_weight', 'crew_Writer_Woody Allen_pop_weight', 'crew_Writer_Robert Rodriguez_pop_weight', 'crew_Writer_Ethan Coen_pop_weight', 'crew_Writer_Joel Coen_pop_weight', 'crew_Writer_Kevin Smith_pop_weight', 'crew_Writer_Tyler Perry_pop_weight', 'crew_Writer_Luc Besson_pop_weight', 'other_writer_count', 'crew_Producer_Kevin Feige', 'crew_Producer_Peter Jackson', 'crew_Producer_Frank Marshall', 'crew_Producer_James Cameron', 'crew_Producer_David Heyman', 'crew_Producer_Barbara Broccoli', 'crew_Producer_Michael G. Wilson', 'crew_Producer_Charles Roven', 'crew_Producer_Barrie M. Osborne', 'crew_Producer_Ian Bryce', 'crew_Producer_Kathleen Kennedy', 'crew_Producer_Avi Arad', 'crew_Producer_Jerry Bruckheimer', 'crew_Producer_Fran Walsh', 'crew_Producer_Nina Jacobson', 'crew_Producer_Carolynne Cunningham', 'crew_Producer_Patrick Crowley', 'crew_Producer_Christopher Nolan', 'crew_Producer_Laura Ziskin', 'crew_Producer_Joel Silver', 'crew_Producer_Kevin Feige_pop_weight', 'crew_Producer_Peter Jackson_pop_weight', 'crew_Producer_Frank Marshall_pop_weight', 'crew_Producer_James Cameron_pop_weight', 'crew_Producer_David Heyman_pop_weight', 'crew_Producer_Barbara Broccoli_pop_weight', 'crew_Producer_Michael G. Wilson_pop_weight', 'crew_Producer_Charles Roven_pop_weight', 'crew_Producer_Barrie M. Osborne_pop_weight', 'crew_Producer_Ian Bryce_pop_weight', 'crew_Producer_Kathleen Kennedy_pop_weight', 'crew_Producer_Avi Arad_pop_weight', 'crew_Producer_Jerry Bruckheimer_pop_weight', 'crew_Producer_Fran Walsh_pop_weight', 'crew_Producer_Nina Jacobson_pop_weight', 'crew_Producer_Carolynne Cunningham_pop_weight', 'crew_Producer_Patrick Crowley_pop_weight', 'crew_Producer_Christopher Nolan_pop_weight', 'crew_Producer_Laura Ziskin_pop_weight', 'crew_Producer_Joel Silver_pop_weight', 'other_producer_count', 'other_company_count', 'is_english']\n",
      "Expected features (all_features): ['budget', 'runtime', 'language_encoded', 'popularity', 'Action', 'Adventure', 'Animation', 'Comedy', 'Crime', 'Documentary', 'Drama', 'Family', 'Fantasy', 'History', 'Horror', 'Music', 'Mystery', 'Romance', 'Science Fiction', 'TV Movie', 'Thriller', 'War', 'Western', 'company_Alcon Entertainment', 'company_Amblin Entertainment', 'company_Apatow Productions', 'company_BBC Films', 'company_Blumhouse Productions', 'company_Canal+', 'company_Castle Rock Entertainment', 'company_Columbia Pictures', 'company_Columbia Pictures Corporation', 'company_Constantin Film Produktion', 'company_Davis Entertainment', 'company_Dimension Films', 'company_DreamWorks Animation', 'company_DreamWorks SKG', 'company_Dune Entertainment', 'company_Dune Entertainment III', 'company_Eon Productions', 'company_Epsilon Motion Pictures', 'company_EuropaCorp', 'company_Film4', 'company_Focus Features', 'company_Fox 2000 Pictures', 'company_Fox Searchlight Pictures', 'company_France 2 Cinéma', 'company_Happy Madison Productions', 'company_Hollywood Pictures', 'company_Imagine Entertainment', 'company_Ingenious Film Partners', 'company_Intermedia Films', 'company_Jerry Bruckheimer Films', 'company_Lakeshore Entertainment', 'company_Legendary Pictures', 'company_Lions Gate Films', 'company_Lionsgate', 'company_MTV Films', 'company_Metro-Goldwyn-Mayer (MGM)', 'company_Millennium Films', 'company_Miramax Films', 'company_Morgan Creek Productions', 'company_NPV Entertainment', 'company_New Line Cinema', 'company_New Regency Pictures', 'company_Nickelodeon Movies', 'company_Original Film', 'company_Paramount Pictures', 'company_Participant Media', 'company_Regency Enterprises', 'company_Relativity Media', 'company_Revolution Studios', 'company_Scott Free Productions', 'company_Scott Rudin Productions', 'company_Screen Gems', 'company_Silver Pictures', 'company_Spyglass Entertainment', 'company_Studio Babelsberg', 'company_StudioCanal', 'company_Summit Entertainment', 'company_TSG Entertainment', 'company_The Weinstein Company', 'company_Touchstone Pictures', 'company_TriStar Pictures', 'company_Twentieth Century Fox Film Corporation', 'company_UK Film Council', 'company_United Artists', 'company_Universal Pictures', 'company_Village Roadshow Pictures', 'company_Walt Disney Pictures', 'company_Warner Bros.', 'company_Working Title Films', 'country_Australia', 'country_Canada', 'country_China', 'country_France', 'country_Germany', 'country_India', 'country_Italy', 'country_Japan', 'country_Spain', 'country_United Kingdom', 'country_United States of America', 'budget_per_minute', 'cast_Stan Lee', 'cast_John Ratzenberger', 'cast_Hugo Weaving', 'cast_Ian McKellen', 'cast_Andy Serkis', 'cast_Cate Blanchett', 'cast_Will Smith', 'cast_Samuel L. Jackson', 'cast_Frank Welker', 'cast_Stellan Skarsgård', 'cast_Tom Cruise', 'cast_Tom Hanks', 'cast_Elizabeth Banks', 'cast_Morgan Freeman', 'cast_Steve Carell', 'cast_Alan Rickman', 'cast_Gary Oldman', 'cast_Geoffrey Rush', 'cast_Stanley Tucci', 'cast_Liam Neeson', 'cast_Alan Tudyk', 'cast_Brendan Gleeson', 'cast_Bill Hader', 'cast_Judy Greer', 'cast_Sean Bean', 'cast_Elijah Wood', 'cast_Anne Hathaway', 'cast_Johnny Depp', 'cast_Angelina Jolie', 'cast_John Goodman', 'cast_Stan Lee_pop_weight', 'cast_John Ratzenberger_pop_weight', 'cast_Hugo Weaving_pop_weight', 'cast_Ian McKellen_pop_weight', 'cast_Andy Serkis_pop_weight', 'cast_Cate Blanchett_pop_weight', 'cast_Will Smith_pop_weight', 'cast_Samuel L. Jackson_pop_weight', 'cast_Frank Welker_pop_weight', 'cast_Stellan Skarsgård_pop_weight', 'cast_Tom Cruise_pop_weight', 'cast_Tom Hanks_pop_weight', 'cast_Elizabeth Banks_pop_weight', 'cast_Morgan Freeman_pop_weight', 'cast_Steve Carell_pop_weight', 'cast_Alan Rickman_pop_weight', 'cast_Gary Oldman_pop_weight', 'cast_Geoffrey Rush_pop_weight', 'cast_Stanley Tucci_pop_weight', 'cast_Liam Neeson_pop_weight', 'cast_Alan Tudyk_pop_weight', 'cast_Brendan Gleeson_pop_weight', 'cast_Bill Hader_pop_weight', 'cast_Judy Greer_pop_weight', 'cast_Sean Bean_pop_weight', 'cast_Elijah Wood_pop_weight', 'cast_Anne Hathaway_pop_weight', 'cast_Johnny Depp_pop_weight', 'cast_Angelina Jolie_pop_weight', 'cast_John Goodman_pop_weight', 'other_actor_count', 'crew_Director_Aaron Seltzer', 'crew_Director_Adam McKay', 'crew_Director_Adam Shankman', 'crew_Director_Alejandro González Iñárritu', 'crew_Director_Alex Proyas', 'crew_Director_Alexander Payne', 'crew_Director_Alfonso Cuarón', 'crew_Director_Alfred Hitchcock', 'crew_Director_Andrew Adamson', 'crew_Director_Andrew Niccol', 'crew_Director_Andrzej Bartkowiak', 'crew_Director_Andy Fickman', 'crew_Director_Andy Tennant', 'crew_Director_Ang Lee', 'crew_Director_Anne Fletcher', 'crew_Director_Antoine Fuqua', 'crew_Director_Atom Egoyan', 'crew_Director_Barry Levinson', 'crew_Director_Barry Sonnenfeld', 'crew_Director_Ben Stiller', 'crew_Director_Aaron Seltzer_pop_weight', 'crew_Director_Adam McKay_pop_weight', 'crew_Director_Adam Shankman_pop_weight', 'crew_Director_Alejandro González Iñárritu_pop_weight', 'crew_Director_Alex Proyas_pop_weight', 'crew_Director_Alexander Payne_pop_weight', 'crew_Director_Alfonso Cuarón_pop_weight', 'crew_Director_Alfred Hitchcock_pop_weight', 'crew_Director_Andrew Adamson_pop_weight', 'crew_Director_Andrew Niccol_pop_weight', 'crew_Director_Andrzej Bartkowiak_pop_weight', 'crew_Director_Andy Fickman_pop_weight', 'crew_Director_Andy Tennant_pop_weight', 'crew_Director_Ang Lee_pop_weight', 'crew_Director_Anne Fletcher_pop_weight', 'crew_Director_Antoine Fuqua_pop_weight', 'crew_Director_Atom Egoyan_pop_weight', 'crew_Director_Barry Levinson_pop_weight', 'crew_Director_Barry Sonnenfeld_pop_weight', 'crew_Director_Ben Stiller_pop_weight', 'other_director_count', 'crew_Writer_David Zucker', 'crew_Writer_M. Night Shyamalan', 'crew_Writer_Quentin Tarantino', 'crew_Writer_Woody Allen', 'crew_Writer_Robert Rodriguez', 'crew_Writer_Ethan Coen', 'crew_Writer_Joel Coen', 'crew_Writer_Kevin Smith', 'crew_Writer_Tyler Perry', 'crew_Writer_Luc Besson', 'crew_Writer_David Zucker_pop_weight', 'crew_Writer_M. Night Shyamalan_pop_weight', 'crew_Writer_Quentin Tarantino_pop_weight', 'crew_Writer_Woody Allen_pop_weight', 'crew_Writer_Robert Rodriguez_pop_weight', 'crew_Writer_Ethan Coen_pop_weight', 'crew_Writer_Joel Coen_pop_weight', 'crew_Writer_Kevin Smith_pop_weight', 'crew_Writer_Tyler Perry_pop_weight', 'crew_Writer_Luc Besson_pop_weight', 'other_writer_count', 'crew_Producer_Kevin Feige', 'crew_Producer_Peter Jackson', 'crew_Producer_Frank Marshall', 'crew_Producer_James Cameron', 'crew_Producer_David Heyman', 'crew_Producer_Barbara Broccoli', 'crew_Producer_Michael G. Wilson', 'crew_Producer_Charles Roven', 'crew_Producer_Barrie M. Osborne', 'crew_Producer_Ian Bryce', 'crew_Producer_Kathleen Kennedy', 'crew_Producer_Avi Arad', 'crew_Producer_Jerry Bruckheimer', 'crew_Producer_Fran Walsh', 'crew_Producer_Nina Jacobson', 'crew_Producer_Carolynne Cunningham', 'crew_Producer_Patrick Crowley', 'crew_Producer_Christopher Nolan', 'crew_Producer_Laura Ziskin', 'crew_Producer_Joel Silver', 'crew_Producer_Kevin Feige_pop_weight', 'crew_Producer_Peter Jackson_pop_weight', 'crew_Producer_Frank Marshall_pop_weight', 'crew_Producer_James Cameron_pop_weight', 'crew_Producer_David Heyman_pop_weight', 'crew_Producer_Barbara Broccoli_pop_weight', 'crew_Producer_Michael G. Wilson_pop_weight', 'crew_Producer_Charles Roven_pop_weight', 'crew_Producer_Barrie M. Osborne_pop_weight', 'crew_Producer_Ian Bryce_pop_weight', 'crew_Producer_Kathleen Kennedy_pop_weight', 'crew_Producer_Avi Arad_pop_weight', 'crew_Producer_Jerry Bruckheimer_pop_weight', 'crew_Producer_Fran Walsh_pop_weight', 'crew_Producer_Nina Jacobson_pop_weight', 'crew_Producer_Carolynne Cunningham_pop_weight', 'crew_Producer_Patrick Crowley_pop_weight', 'crew_Producer_Christopher Nolan_pop_weight', 'crew_Producer_Laura Ziskin_pop_weight', 'crew_Producer_Joel Silver_pop_weight', 'other_producer_count', 'other_company_count', 'is_english']\n",
      "Missing features: set()\n",
      "Extra features: set()\n",
      "Features created: ['budget', 'runtime', 'language_encoded', 'popularity', 'Action', 'Adventure', 'Animation', 'Comedy', 'Crime', 'Documentary', 'Drama', 'Family', 'Fantasy', 'History', 'Horror', 'Music', 'Mystery', 'Romance', 'Science Fiction', 'TV Movie', 'Thriller', 'War', 'Western', 'company_Alcon Entertainment', 'company_Amblin Entertainment', 'company_Apatow Productions', 'company_BBC Films', 'company_Blumhouse Productions', 'company_Canal+', 'company_Castle Rock Entertainment', 'company_Columbia Pictures', 'company_Columbia Pictures Corporation', 'company_Constantin Film Produktion', 'company_Davis Entertainment', 'company_Dimension Films', 'company_DreamWorks Animation', 'company_DreamWorks SKG', 'company_Dune Entertainment', 'company_Dune Entertainment III', 'company_Eon Productions', 'company_Epsilon Motion Pictures', 'company_EuropaCorp', 'company_Film4', 'company_Focus Features', 'company_Fox 2000 Pictures', 'company_Fox Searchlight Pictures', 'company_France 2 Cinéma', 'company_Happy Madison Productions', 'company_Hollywood Pictures', 'company_Imagine Entertainment', 'company_Ingenious Film Partners', 'company_Intermedia Films', 'company_Jerry Bruckheimer Films', 'company_Lakeshore Entertainment', 'company_Legendary Pictures', 'company_Lions Gate Films', 'company_Lionsgate', 'company_MTV Films', 'company_Metro-Goldwyn-Mayer (MGM)', 'company_Millennium Films', 'company_Miramax Films', 'company_Morgan Creek Productions', 'company_NPV Entertainment', 'company_New Line Cinema', 'company_New Regency Pictures', 'company_Nickelodeon Movies', 'company_Original Film', 'company_Paramount Pictures', 'company_Participant Media', 'company_Regency Enterprises', 'company_Relativity Media', 'company_Revolution Studios', 'company_Scott Free Productions', 'company_Scott Rudin Productions', 'company_Screen Gems', 'company_Silver Pictures', 'company_Spyglass Entertainment', 'company_Studio Babelsberg', 'company_StudioCanal', 'company_Summit Entertainment', 'company_TSG Entertainment', 'company_The Weinstein Company', 'company_Touchstone Pictures', 'company_TriStar Pictures', 'company_Twentieth Century Fox Film Corporation', 'company_UK Film Council', 'company_United Artists', 'company_Universal Pictures', 'company_Village Roadshow Pictures', 'company_Walt Disney Pictures', 'company_Warner Bros.', 'company_Working Title Films', 'country_Australia', 'country_Canada', 'country_China', 'country_France', 'country_Germany', 'country_India', 'country_Italy', 'country_Japan', 'country_Spain', 'country_United Kingdom', 'country_United States of America', 'budget_per_minute', 'cast_Stan Lee', 'cast_John Ratzenberger', 'cast_Hugo Weaving', 'cast_Ian McKellen', 'cast_Andy Serkis', 'cast_Cate Blanchett', 'cast_Will Smith', 'cast_Samuel L. Jackson', 'cast_Frank Welker', 'cast_Stellan Skarsgård', 'cast_Tom Cruise', 'cast_Tom Hanks', 'cast_Elizabeth Banks', 'cast_Morgan Freeman', 'cast_Steve Carell', 'cast_Alan Rickman', 'cast_Gary Oldman', 'cast_Geoffrey Rush', 'cast_Stanley Tucci', 'cast_Liam Neeson', 'cast_Alan Tudyk', 'cast_Brendan Gleeson', 'cast_Bill Hader', 'cast_Judy Greer', 'cast_Sean Bean', 'cast_Elijah Wood', 'cast_Anne Hathaway', 'cast_Johnny Depp', 'cast_Angelina Jolie', 'cast_John Goodman', 'cast_Stan Lee_pop_weight', 'cast_John Ratzenberger_pop_weight', 'cast_Hugo Weaving_pop_weight', 'cast_Ian McKellen_pop_weight', 'cast_Andy Serkis_pop_weight', 'cast_Cate Blanchett_pop_weight', 'cast_Will Smith_pop_weight', 'cast_Samuel L. Jackson_pop_weight', 'cast_Frank Welker_pop_weight', 'cast_Stellan Skarsgård_pop_weight', 'cast_Tom Cruise_pop_weight', 'cast_Tom Hanks_pop_weight', 'cast_Elizabeth Banks_pop_weight', 'cast_Morgan Freeman_pop_weight', 'cast_Steve Carell_pop_weight', 'cast_Alan Rickman_pop_weight', 'cast_Gary Oldman_pop_weight', 'cast_Geoffrey Rush_pop_weight', 'cast_Stanley Tucci_pop_weight', 'cast_Liam Neeson_pop_weight', 'cast_Alan Tudyk_pop_weight', 'cast_Brendan Gleeson_pop_weight', 'cast_Bill Hader_pop_weight', 'cast_Judy Greer_pop_weight', 'cast_Sean Bean_pop_weight', 'cast_Elijah Wood_pop_weight', 'cast_Anne Hathaway_pop_weight', 'cast_Johnny Depp_pop_weight', 'cast_Angelina Jolie_pop_weight', 'cast_John Goodman_pop_weight', 'other_actor_count', 'crew_Director_Aaron Seltzer', 'crew_Director_Adam McKay', 'crew_Director_Adam Shankman', 'crew_Director_Alejandro González Iñárritu', 'crew_Director_Alex Proyas', 'crew_Director_Alexander Payne', 'crew_Director_Alfonso Cuarón', 'crew_Director_Alfred Hitchcock', 'crew_Director_Andrew Adamson', 'crew_Director_Andrew Niccol', 'crew_Director_Andrzej Bartkowiak', 'crew_Director_Andy Fickman', 'crew_Director_Andy Tennant', 'crew_Director_Ang Lee', 'crew_Director_Anne Fletcher', 'crew_Director_Antoine Fuqua', 'crew_Director_Atom Egoyan', 'crew_Director_Barry Levinson', 'crew_Director_Barry Sonnenfeld', 'crew_Director_Ben Stiller', 'crew_Director_Aaron Seltzer_pop_weight', 'crew_Director_Adam McKay_pop_weight', 'crew_Director_Adam Shankman_pop_weight', 'crew_Director_Alejandro González Iñárritu_pop_weight', 'crew_Director_Alex Proyas_pop_weight', 'crew_Director_Alexander Payne_pop_weight', 'crew_Director_Alfonso Cuarón_pop_weight', 'crew_Director_Alfred Hitchcock_pop_weight', 'crew_Director_Andrew Adamson_pop_weight', 'crew_Director_Andrew Niccol_pop_weight', 'crew_Director_Andrzej Bartkowiak_pop_weight', 'crew_Director_Andy Fickman_pop_weight', 'crew_Director_Andy Tennant_pop_weight', 'crew_Director_Ang Lee_pop_weight', 'crew_Director_Anne Fletcher_pop_weight', 'crew_Director_Antoine Fuqua_pop_weight', 'crew_Director_Atom Egoyan_pop_weight', 'crew_Director_Barry Levinson_pop_weight', 'crew_Director_Barry Sonnenfeld_pop_weight', 'crew_Director_Ben Stiller_pop_weight', 'other_director_count', 'crew_Writer_David Zucker', 'crew_Writer_M. Night Shyamalan', 'crew_Writer_Quentin Tarantino', 'crew_Writer_Woody Allen', 'crew_Writer_Robert Rodriguez', 'crew_Writer_Ethan Coen', 'crew_Writer_Joel Coen', 'crew_Writer_Kevin Smith', 'crew_Writer_Tyler Perry', 'crew_Writer_Luc Besson', 'crew_Writer_David Zucker_pop_weight', 'crew_Writer_M. Night Shyamalan_pop_weight', 'crew_Writer_Quentin Tarantino_pop_weight', 'crew_Writer_Woody Allen_pop_weight', 'crew_Writer_Robert Rodriguez_pop_weight', 'crew_Writer_Ethan Coen_pop_weight', 'crew_Writer_Joel Coen_pop_weight', 'crew_Writer_Kevin Smith_pop_weight', 'crew_Writer_Tyler Perry_pop_weight', 'crew_Writer_Luc Besson_pop_weight', 'other_writer_count', 'crew_Producer_Kevin Feige', 'crew_Producer_Peter Jackson', 'crew_Producer_Frank Marshall', 'crew_Producer_James Cameron', 'crew_Producer_David Heyman', 'crew_Producer_Barbara Broccoli', 'crew_Producer_Michael G. Wilson', 'crew_Producer_Charles Roven', 'crew_Producer_Barrie M. Osborne', 'crew_Producer_Ian Bryce', 'crew_Producer_Kathleen Kennedy', 'crew_Producer_Avi Arad', 'crew_Producer_Jerry Bruckheimer', 'crew_Producer_Fran Walsh', 'crew_Producer_Nina Jacobson', 'crew_Producer_Carolynne Cunningham', 'crew_Producer_Patrick Crowley', 'crew_Producer_Christopher Nolan', 'crew_Producer_Laura Ziskin', 'crew_Producer_Joel Silver', 'crew_Producer_Kevin Feige_pop_weight', 'crew_Producer_Peter Jackson_pop_weight', 'crew_Producer_Frank Marshall_pop_weight', 'crew_Producer_James Cameron_pop_weight', 'crew_Producer_David Heyman_pop_weight', 'crew_Producer_Barbara Broccoli_pop_weight', 'crew_Producer_Michael G. Wilson_pop_weight', 'crew_Producer_Charles Roven_pop_weight', 'crew_Producer_Barrie M. Osborne_pop_weight', 'crew_Producer_Ian Bryce_pop_weight', 'crew_Producer_Kathleen Kennedy_pop_weight', 'crew_Producer_Avi Arad_pop_weight', 'crew_Producer_Jerry Bruckheimer_pop_weight', 'crew_Producer_Fran Walsh_pop_weight', 'crew_Producer_Nina Jacobson_pop_weight', 'crew_Producer_Carolynne Cunningham_pop_weight', 'crew_Producer_Patrick Crowley_pop_weight', 'crew_Producer_Christopher Nolan_pop_weight', 'crew_Producer_Laura Ziskin_pop_weight', 'crew_Producer_Joel Silver_pop_weight', 'other_producer_count', 'other_company_count', 'is_english']\n",
      "Number of expected features: 270\n",
      "\n",
      "Before scaling:\n",
      "Numeric columns: ['budget', 'runtime', 'popularity', 'budget_per_minute', 'other_company_count', 'cast_Stan Lee_pop_weight', 'cast_John Ratzenberger_pop_weight', 'cast_Hugo Weaving_pop_weight', 'cast_Ian McKellen_pop_weight', 'cast_Andy Serkis_pop_weight', 'cast_Cate Blanchett_pop_weight', 'cast_Will Smith_pop_weight', 'cast_Samuel L. Jackson_pop_weight', 'cast_Frank Welker_pop_weight', 'cast_Stellan Skarsgård_pop_weight', 'cast_Tom Cruise_pop_weight', 'cast_Tom Hanks_pop_weight', 'cast_Elizabeth Banks_pop_weight', 'cast_Morgan Freeman_pop_weight', 'cast_Steve Carell_pop_weight', 'cast_Alan Rickman_pop_weight', 'cast_Gary Oldman_pop_weight', 'cast_Geoffrey Rush_pop_weight', 'cast_Stanley Tucci_pop_weight', 'cast_Liam Neeson_pop_weight', 'cast_Alan Tudyk_pop_weight', 'cast_Brendan Gleeson_pop_weight', 'cast_Bill Hader_pop_weight', 'cast_Judy Greer_pop_weight', 'cast_Sean Bean_pop_weight', 'cast_Elijah Wood_pop_weight', 'cast_Anne Hathaway_pop_weight', 'cast_Johnny Depp_pop_weight', 'cast_Angelina Jolie_pop_weight', 'cast_John Goodman_pop_weight', 'crew_Director_Aaron Seltzer_pop_weight', 'crew_Director_Adam McKay_pop_weight', 'crew_Director_Adam Shankman_pop_weight', 'crew_Director_Alejandro González Iñárritu_pop_weight', 'crew_Director_Alex Proyas_pop_weight', 'crew_Director_Alexander Payne_pop_weight', 'crew_Director_Alfonso Cuarón_pop_weight', 'crew_Director_Alfred Hitchcock_pop_weight', 'crew_Director_Andrew Adamson_pop_weight', 'crew_Director_Andrew Niccol_pop_weight', 'crew_Director_Andrzej Bartkowiak_pop_weight', 'crew_Director_Andy Fickman_pop_weight', 'crew_Director_Andy Tennant_pop_weight', 'crew_Director_Ang Lee_pop_weight', 'crew_Director_Anne Fletcher_pop_weight', 'crew_Director_Antoine Fuqua_pop_weight', 'crew_Director_Atom Egoyan_pop_weight', 'crew_Director_Barry Levinson_pop_weight', 'crew_Director_Barry Sonnenfeld_pop_weight', 'crew_Director_Ben Stiller_pop_weight', 'crew_Writer_David Zucker_pop_weight', 'crew_Writer_M. Night Shyamalan_pop_weight', 'crew_Writer_Quentin Tarantino_pop_weight', 'crew_Writer_Woody Allen_pop_weight', 'crew_Writer_Robert Rodriguez_pop_weight', 'crew_Writer_Ethan Coen_pop_weight', 'crew_Writer_Joel Coen_pop_weight', 'crew_Writer_Kevin Smith_pop_weight', 'crew_Writer_Tyler Perry_pop_weight', 'crew_Writer_Luc Besson_pop_weight', 'crew_Producer_Kevin Feige_pop_weight', 'crew_Producer_Peter Jackson_pop_weight', 'crew_Producer_Frank Marshall_pop_weight', 'crew_Producer_James Cameron_pop_weight', 'crew_Producer_David Heyman_pop_weight', 'crew_Producer_Barbara Broccoli_pop_weight', 'crew_Producer_Michael G. Wilson_pop_weight', 'crew_Producer_Charles Roven_pop_weight', 'crew_Producer_Barrie M. Osborne_pop_weight', 'crew_Producer_Ian Bryce_pop_weight', 'crew_Producer_Kathleen Kennedy_pop_weight', 'crew_Producer_Avi Arad_pop_weight', 'crew_Producer_Jerry Bruckheimer_pop_weight', 'crew_Producer_Fran Walsh_pop_weight', 'crew_Producer_Nina Jacobson_pop_weight', 'crew_Producer_Carolynne Cunningham_pop_weight', 'crew_Producer_Patrick Crowley_pop_weight', 'crew_Producer_Christopher Nolan_pop_weight', 'crew_Producer_Laura Ziskin_pop_weight', 'crew_Producer_Joel Silver_pop_weight']\n",
      "Values: {'budget': 150000000.0, 'runtime': 120.0, 'popularity': 0.0, 'budget_per_minute': 1250000.0, 'other_company_count': 0.0, 'cast_Stan Lee_pop_weight': 0.0, 'cast_John Ratzenberger_pop_weight': 0.0, 'cast_Hugo Weaving_pop_weight': 0.0, 'cast_Ian McKellen_pop_weight': 0.0, 'cast_Andy Serkis_pop_weight': 0.0, 'cast_Cate Blanchett_pop_weight': 0.0, 'cast_Will Smith_pop_weight': 0.0, 'cast_Samuel L. Jackson_pop_weight': 0.0, 'cast_Frank Welker_pop_weight': 0.0, 'cast_Stellan Skarsgård_pop_weight': 0.0, 'cast_Tom Cruise_pop_weight': 0.0, 'cast_Tom Hanks_pop_weight': 0.0, 'cast_Elizabeth Banks_pop_weight': 0.0, 'cast_Morgan Freeman_pop_weight': 0.0, 'cast_Steve Carell_pop_weight': 0.0, 'cast_Alan Rickman_pop_weight': 0.0, 'cast_Gary Oldman_pop_weight': 0.0, 'cast_Geoffrey Rush_pop_weight': 0.0, 'cast_Stanley Tucci_pop_weight': 0.0, 'cast_Liam Neeson_pop_weight': 0.0, 'cast_Alan Tudyk_pop_weight': 0.0, 'cast_Brendan Gleeson_pop_weight': 0.0, 'cast_Bill Hader_pop_weight': 0.0, 'cast_Judy Greer_pop_weight': 0.0, 'cast_Sean Bean_pop_weight': 0.0, 'cast_Elijah Wood_pop_weight': 0.0, 'cast_Anne Hathaway_pop_weight': 0.0, 'cast_Johnny Depp_pop_weight': 0.0, 'cast_Angelina Jolie_pop_weight': 0.0, 'cast_John Goodman_pop_weight': 0.0, 'crew_Director_Aaron Seltzer_pop_weight': 0.0, 'crew_Director_Adam McKay_pop_weight': 0.0, 'crew_Director_Adam Shankman_pop_weight': 0.0, 'crew_Director_Alejandro González Iñárritu_pop_weight': 0.0, 'crew_Director_Alex Proyas_pop_weight': 0.0, 'crew_Director_Alexander Payne_pop_weight': 0.0, 'crew_Director_Alfonso Cuarón_pop_weight': 0.0, 'crew_Director_Alfred Hitchcock_pop_weight': 0.0, 'crew_Director_Andrew Adamson_pop_weight': 0.0, 'crew_Director_Andrew Niccol_pop_weight': 0.0, 'crew_Director_Andrzej Bartkowiak_pop_weight': 0.0, 'crew_Director_Andy Fickman_pop_weight': 0.0, 'crew_Director_Andy Tennant_pop_weight': 0.0, 'crew_Director_Ang Lee_pop_weight': 0.0, 'crew_Director_Anne Fletcher_pop_weight': 0.0, 'crew_Director_Antoine Fuqua_pop_weight': 0.0, 'crew_Director_Atom Egoyan_pop_weight': 0.0, 'crew_Director_Barry Levinson_pop_weight': 0.0, 'crew_Director_Barry Sonnenfeld_pop_weight': 0.0, 'crew_Director_Ben Stiller_pop_weight': 0.0, 'crew_Writer_David Zucker_pop_weight': 0.0, 'crew_Writer_M. Night Shyamalan_pop_weight': 0.0, 'crew_Writer_Quentin Tarantino_pop_weight': 0.0, 'crew_Writer_Woody Allen_pop_weight': 0.0, 'crew_Writer_Robert Rodriguez_pop_weight': 0.0, 'crew_Writer_Ethan Coen_pop_weight': 0.0, 'crew_Writer_Joel Coen_pop_weight': 0.0, 'crew_Writer_Kevin Smith_pop_weight': 0.0, 'crew_Writer_Tyler Perry_pop_weight': 0.0, 'crew_Writer_Luc Besson_pop_weight': 0.0, 'crew_Producer_Kevin Feige_pop_weight': 0.0, 'crew_Producer_Peter Jackson_pop_weight': 0.0, 'crew_Producer_Frank Marshall_pop_weight': 0.0, 'crew_Producer_James Cameron_pop_weight': 0.0, 'crew_Producer_David Heyman_pop_weight': 0.0, 'crew_Producer_Barbara Broccoli_pop_weight': 0.0, 'crew_Producer_Michael G. Wilson_pop_weight': 0.0, 'crew_Producer_Charles Roven_pop_weight': 0.0, 'crew_Producer_Barrie M. Osborne_pop_weight': 0.0, 'crew_Producer_Ian Bryce_pop_weight': 0.0, 'crew_Producer_Kathleen Kennedy_pop_weight': 0.0, 'crew_Producer_Avi Arad_pop_weight': 0.0, 'crew_Producer_Jerry Bruckheimer_pop_weight': 0.0, 'crew_Producer_Fran Walsh_pop_weight': 0.0, 'crew_Producer_Nina Jacobson_pop_weight': 0.0, 'crew_Producer_Carolynne Cunningham_pop_weight': 0.0, 'crew_Producer_Patrick Crowley_pop_weight': 0.0, 'crew_Producer_Christopher Nolan_pop_weight': 0.0, 'crew_Producer_Laura Ziskin_pop_weight': 0.0, 'crew_Producer_Joel Silver_pop_weight': 0.0}\n",
      "\n",
      "After scaling:\n",
      "{'budget': -0.7430687360661291, 'runtime': -5.545844960455493, 'popularity': -0.7210202097857886, 'budget_per_minute': -0.7677890122370531, 'other_company_count': 0.0, 'cast_Stan Lee_pop_weight': -0.08584990642246793, 'cast_John Ratzenberger_pop_weight': -0.09235673963395516, 'cast_Hugo Weaving_pop_weight': -0.0874177193342977, 'cast_Ian McKellen_pop_weight': -0.07839509531427352, 'cast_Andy Serkis_pop_weight': -0.08772512140209432, 'cast_Cate Blanchett_pop_weight': -0.10625773981813214, 'cast_Will Smith_pop_weight': -0.09732378740002119, 'cast_Samuel L. Jackson_pop_weight': -0.1445566410126154, 'cast_Frank Welker_pop_weight': -0.08529120346357287, 'cast_Stellan Skarsgård_pop_weight': -0.08956793234920547, 'cast_Tom Cruise_pop_weight': -0.11337833792271615, 'cast_Tom Hanks_pop_weight': -0.10891331028167775, 'cast_Elizabeth Banks_pop_weight': -0.09862015074641456, 'cast_Morgan Freeman_pop_weight': -0.12632488559639218, 'cast_Steve Carell_pop_weight': -0.0877758165872656, 'cast_Alan Rickman_pop_weight': -0.09177625975813325, 'cast_Gary Oldman_pop_weight': -0.09109127677795907, 'cast_Geoffrey Rush_pop_weight': -0.08642103498203114, 'cast_Stanley Tucci_pop_weight': -0.11551890255856075, 'cast_Liam Neeson_pop_weight': -0.11660778951297776, 'cast_Alan Tudyk_pop_weight': -0.09084692357590375, 'cast_Brendan Gleeson_pop_weight': -0.10711860909453949, 'cast_Bill Hader_pop_weight': -0.10371056279607033, 'cast_Judy Greer_pop_weight': -0.09372830111539583, 'cast_Sean Bean_pop_weight': -0.09039036706219021, 'cast_Elijah Wood_pop_weight': -0.09094589203231059, 'cast_Anne Hathaway_pop_weight': -0.10461789009556886, 'cast_Johnny Depp_pop_weight': -0.12344588589434606, 'cast_Angelina Jolie_pop_weight': -0.09558880853986396, 'cast_John Goodman_pop_weight': -0.11282627865616726, 'crew_Director_Aaron Seltzer_pop_weight': 0.0, 'crew_Director_Adam McKay_pop_weight': -0.07528116727662561, 'crew_Director_Adam Shankman_pop_weight': -0.0860358541438046, 'crew_Director_Alejandro González Iñárritu_pop_weight': -0.06382331417620599, 'crew_Director_Alex Proyas_pop_weight': -0.05767342242233431, 'crew_Director_Alexander Payne_pop_weight': -0.0774462562482871, 'crew_Director_Alfonso Cuarón_pop_weight': -0.07801362514375988, 'crew_Director_Alfred Hitchcock_pop_weight': -0.1550663624739567, 'crew_Director_Andrew Adamson_pop_weight': -0.05549563017054477, 'crew_Director_Andrew Niccol_pop_weight': -0.05662969598211099, 'crew_Director_Andrzej Bartkowiak_pop_weight': -0.0722223369090603, 'crew_Director_Andy Fickman_pop_weight': -0.0807559797939207, 'crew_Director_Andy Tennant_pop_weight': -0.08013017749146868, 'crew_Director_Ang Lee_pop_weight': -0.07097349004982333, 'crew_Director_Anne Fletcher_pop_weight': -0.06628424775729143, 'crew_Director_Antoine Fuqua_pop_weight': -0.06365895204905286, 'crew_Director_Atom Egoyan_pop_weight': -0.16032660027659273, 'crew_Director_Barry Levinson_pop_weight': -0.13521044150718334, 'crew_Director_Barry Sonnenfeld_pop_weight': -0.054090818098545414, 'crew_Director_Ben Stiller_pop_weight': -0.06286522073881624, 'crew_Writer_David Zucker_pop_weight': 0.0, 'crew_Writer_M. Night Shyamalan_pop_weight': -0.06345279493235004, 'crew_Writer_Quentin Tarantino_pop_weight': -0.0570691000111827, 'crew_Writer_Woody Allen_pop_weight': -0.07823759628341681, 'crew_Writer_Robert Rodriguez_pop_weight': -0.08817849123736161, 'crew_Writer_Ethan Coen_pop_weight': -0.06058811579547976, 'crew_Writer_Joel Coen_pop_weight': -0.06058811579547976, 'crew_Writer_Kevin Smith_pop_weight': -0.08921442896079923, 'crew_Writer_Tyler Perry_pop_weight': -0.3016125039332251, 'crew_Writer_Luc Besson_pop_weight': -0.06658794092798552, 'crew_Producer_Kevin Feige_pop_weight': -0.059497452227028666, 'crew_Producer_Peter Jackson_pop_weight': -0.06349046569135335, 'crew_Producer_Frank Marshall_pop_weight': -0.07306541347699844, 'crew_Producer_James Cameron_pop_weight': -0.04848907659180909, 'crew_Producer_David Heyman_pop_weight': -0.06323199156779315, 'crew_Producer_Barbara Broccoli_pop_weight': -0.06022780043654268, 'crew_Producer_Michael G. Wilson_pop_weight': -0.06876343801721622, 'crew_Producer_Charles Roven_pop_weight': -0.08651991533266228, 'crew_Producer_Barrie M. Osborne_pop_weight': -0.05091525587149197, 'crew_Producer_Ian Bryce_pop_weight': -0.07681449929063774, 'crew_Producer_Kathleen Kennedy_pop_weight': -0.09637642520666849, 'crew_Producer_Avi Arad_pop_weight': -0.06521204466624911, 'crew_Producer_Jerry Bruckheimer_pop_weight': -0.10384541690921024, 'crew_Producer_Fran Walsh_pop_weight': -0.0485573085042291, 'crew_Producer_Nina Jacobson_pop_weight': -0.044312697526083536, 'crew_Producer_Carolynne Cunningham_pop_weight': -0.056237049032818544, 'crew_Producer_Patrick Crowley_pop_weight': -0.055765373985408144, 'crew_Producer_Christopher Nolan_pop_weight': -0.04073184666151908, 'crew_Producer_Laura Ziskin_pop_weight': -0.06441390984493184, 'crew_Producer_Joel Silver_pop_weight': -0.13084228669981268}\n",
      "Final number of features in pred_df: 270\n",
      "Raw prediction from model: 340135427.2\n",
      "\n",
      "Prediction Results:\n",
      "Predicted Revenue: $340,135,427.20\n",
      "Predicted Profit: $190,135,427.20\n",
      "ROI: 126.8%\n",
      "Is Profitable: True\n"
     ]
    }
   ],
   "source": [
    "import pandas as pd\n",
    "import numpy as np\n",
    "import pickle\n",
    "import joblib\n",
    "\n",
    "# Test prediction\n",
    "test_prediction = predict_movie_revenue(\n",
    "    budget=150000000,           # Budget: $150M\n",
    "    runtime=120,                # Runtime: 2 hours\n",
    "    genres=['Action', 'Adventure', 'Science Fiction'],\n",
    "    language='en',             # English language\n",
    "    production_company='Universal Pictures', \n",
    "    production_country='United States of America',\n",
    "    actor1='Tom Cruise',\n",
    "    actor2='Morgan Freeman',\n",
    "    crew_director='Christopher Nolan',\n",
    "    crew_writer='Quentin Tarantino',\n",
    "    crew_producer='Kevin Feige'\n",
    ")\n",
    "\n",
    "print(\"\\nPrediction Results:\")\n",
    "print(f\"Predicted Revenue: ${test_prediction['revenue']:,.2f}\")\n",
    "print(f\"Predicted Profit: ${test_prediction['profit']:,.2f}\")\n",
    "print(f\"ROI: {test_prediction['roi']:.1f}%\")\n",
    "print(f\"Is Profitable: {test_prediction['is_profitable']}\")"
   ]
  },
  {
   "cell_type": "markdown",
   "metadata": {},
   "source": [
    "Load model"
   ]
  },
  {
   "cell_type": "code",
   "execution_count": 64,
   "metadata": {},
   "outputs": [
    {
     "name": "stdout",
     "output_type": "stream",
     "text": [
      "Model loaded: <class 'sklearn.ensemble._forest.RandomForestRegressor'>\n"
     ]
    }
   ],
   "source": [
    "import joblib\n",
    "\n",
    "model_path = \"/workspace/Film_Hit_prediction/jupyter_notebooks/outputs/models/\"  \n",
    "model = joblib.load(model_path + 'film_revenue_model_Random Forest_20250115.joblib')\n",
    "print(\"Model loaded:\", type(model))\n"
   ]
  },
  {
   "cell_type": "markdown",
   "metadata": {},
   "source": [
    "Make predictions on test data "
   ]
  },
  {
   "cell_type": "code",
   "execution_count": 65,
   "metadata": {},
   "outputs": [
    {
     "name": "stdout",
     "output_type": "stream",
     "text": [
      "\n",
      "Model Evaluation Metrics:\n",
      "Root Mean Squared Error: $78,861,507.03\n",
      "Mean Absolute Error: $43,708,549.60\n",
      "R² Score: 0.7839\n",
      "Mean Absolute Percentage Error: inf%\n"
     ]
    }
   ],
   "source": [
    "import pandas as pd\n",
    "import numpy as np\n",
    "from sklearn.metrics import mean_squared_error, r2_score, mean_absolute_error\n",
    "import pickle\n",
    "import matplotlib.pyplot as plt\n",
    "import seaborn as sns\n",
    "\n",
    "# Load test and train data\n",
    "with open('/workspace/Film_Hit_prediction/jupyter_notebooks/outputs/engineered/y_test.pkl', 'rb') as f:\n",
    "    y_test = pickle.load(f)\n",
    "    \n",
    "with open('/workspace/Film_Hit_prediction/jupyter_notebooks/outputs/engineered/y_train.pkl', 'rb') as f:\n",
    "    y_train = pickle.load(f)\n",
    "\n",
    "# Load X_test if not already loaded\n",
    "with open('/workspace/Film_Hit_prediction/jupyter_notebooks/outputs/engineered/X_test.pkl', 'rb') as f:\n",
    "    X_test = pickle.load(f)\n",
    "\n",
    "# Get predictions\n",
    "y_pred = model.predict(X_test)\n",
    "\n",
    "# Calculate metrics\n",
    "mse = mean_squared_error(y_test, y_pred)\n",
    "rmse = np.sqrt(mse)\n",
    "mae = mean_absolute_error(y_test, y_pred)\n",
    "r2 = r2_score(y_test, y_pred)\n",
    "\n",
    "print(\"\\nModel Evaluation Metrics:\")\n",
    "print(f'Root Mean Squared Error: ${rmse:,.2f}')\n",
    "print(f'Mean Absolute Error: ${mae:,.2f}')\n",
    "print(f'R² Score: {r2:.4f}')\n",
    "\n",
    "# Calculate percentage error\n",
    "mape = np.mean(np.abs((y_test - y_pred) / y_test)) * 100\n",
    "print(f'Mean Absolute Percentage Error: {mape:.2f}%')\n",
    "\n",
    "\n",
    "\n"
   ]
  },
  {
   "cell_type": "markdown",
   "metadata": {},
   "source": [
    "import pandas as pd\n",
    "import numpy as np\n",
    "from sklearn.metrics import mean_squared_error, r2_score, mean_absolute_error\n",
    "import pickle\n",
    "import matplotlib.pyplot as plt\n",
    "import seaborn as sns\n",
    "\n",
    "# Load test and train data\n",
    "with open('/workspace/Film_Hit_prediction/jupyter_notebooks/outputs/engineered/y_test.pkl', 'rb') as f:\n",
    "    y_test = pickle.load(f)\n",
    "    \n",
    "with open('/workspace/Film_Hit_prediction/jupyter_notebooks/outputs/engineered/y_train.pkl', 'rb') as f:\n",
    "    y_train = pickle.load(f)\n",
    "\n",
    "# Load X_test if not already loaded\n",
    "with open('/workspace/Film_Hit_prediction/jupyter_notebooks/outputs/engineered/X_test.pkl', 'rb') as f:\n",
    "    X_test = pickle.load(f)\n",
    "\n",
    "# Get predictions\n",
    "y_pred = model.predict(X_test)\n",
    "\n",
    "# Calculate metrics\n",
    "mse = mean_squared_error(y_test, y_pred)\n",
    "rmse = np.sqrt(mse)\n",
    "mae = mean_absolute_error(y_test, y_pred)\n",
    "r2 = r2_score(y_test, y_pred)\n",
    "\n",
    "print(\"\\nModel Evaluation Metrics:\")\n",
    "print(f'Root Mean Squared Error: ${rmse:,.2f}')\n",
    "print(f'Mean Absolute Error: ${mae:,.2f}')\n",
    "print(f'R² Score: {r2:.4f}')\n",
    "\n",
    "# Calculate percentage error\n",
    "mape = np.mean(np.abs((y_test - y_pred) / y_test)) * 100\n",
    "print(f'Mean Absolute Percentage Error: {mape:.2f}%')\n",
    "\n",
    "\n",
    "\n"
   ]
  },
  {
   "cell_type": "code",
   "execution_count": null,
   "metadata": {},
   "outputs": [],
   "source": [
    "# Visualization of predictions vs actual\n",
    "plt.figure(figsize=(10, 6))\n",
    "plt.scatter(y_test, y_pred, alpha=0.5)\n",
    "plt.plot([y_test.min(), y_test.max()], [y_test.min(), y_test.max()], 'r--', lw=2)\n",
    "plt.xlabel('Actual Revenue')\n",
    "plt.ylabel('Predicted Revenue')\n",
    "plt.title('Predicted vs Actual Revenue')\n",
    "plt.tight_layout()\n",
    "plt.show()\n",
    "\n",
    "# Residual plot\n",
    "residuals = y_test - y_pred\n",
    "plt.figure(figsize=(10, 6))\n",
    "plt.scatter(y_pred, residuals, alpha=0.5)\n",
    "plt.axhline(y=0, color='r', linestyle='--')\n",
    "plt.xlabel('Predicted Revenue')\n",
    "plt.ylabel('Residuals')\n",
    "plt.title('Residual Plot')\n",
    "plt.tight_layout()\n",
    "plt.show()\n",
    "\n",
    "# Distribution of residuals\n",
    "plt.figure(figsize=(10, 6))\n",
    "sns.histplot(residuals, kde=True)\n",
    "plt.xlabel('Residuals')\n",
    "plt.ylabel('Count')\n",
    "plt.title('Distribution of Residuals')\n",
    "plt.tight_layout()\n",
    "plt.show()"
   ]
  },
  {
   "cell_type": "markdown",
   "metadata": {},
   "source": [
    "Additional analysis"
   ]
  },
  {
   "cell_type": "code",
   "execution_count": null,
   "metadata": {},
   "outputs": [],
   "source": [
    "\n",
    "\n",
    "# Additional analysis\n",
    "print(\"\\nResiduals Analysis:\")\n",
    "print(f\"Mean of residuals: ${residuals.mean():,.2f}\")\n",
    "print(f\"Standard deviation of residuals: ${residuals.std():,.2f}\")\n",
    "print(f\"Skewness of residuals: {residuals.skew():.2f}\")\n",
    "\n",
    "# Sample predictions\n",
    "comparison_df = pd.DataFrame({\n",
    "    'Actual Revenue': y_test,\n",
    "    'Predicted Revenue': y_pred,\n",
    "    'Absolute Error': np.abs(y_test - y_pred),\n",
    "    'Percentage Error': np.abs((y_test - y_pred) / y_test) * 100\n",
    "})\n",
    "\n",
    "print(\"\\nSample Predictions (first 5 movies):\")\n",
    "print(comparison_df.head().to_string())"
   ]
  }
 ],
 "metadata": {
  "kernelspec": {
   "display_name": "Python 3",
   "language": "python",
   "name": "python3"
  },
  "language_info": {
   "codemirror_mode": {
    "name": "ipython",
    "version": 3
   },
   "file_extension": ".py",
   "mimetype": "text/x-python",
   "name": "python",
   "nbconvert_exporter": "python",
   "pygments_lexer": "ipython3",
   "version": "3.8.18"
  }
 },
 "nbformat": 4,
 "nbformat_minor": 2
}
