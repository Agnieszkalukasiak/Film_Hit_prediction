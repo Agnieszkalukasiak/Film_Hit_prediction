{
  "cells": [
    {
      "cell_type": "markdown",
      "metadata": {
        "id": "0aStgWSO0E0E"
      },
      "source": [
        "#  Data Collection "
      ]
    },
    {
      "cell_type": "markdown",
      "metadata": {
        "id": "1eLEkw5O0ECa"
      },
      "source": [
        "## Objectives\n",
        "\n",
        "* Fetch data from Kaggle and save as raw data\n",
        "* Inspect the data and save it under outputs/datasets/collection\n",
        "\n",
        "\n",
        "## Inputs\n",
        "\n",
        "* Kaggle JSON file - the authentication token.\n",
        "\n",
        "\n",
        "## Outputs\n",
        "\n",
        "* Generate Dataset: outputs/datasets/collection/raw_movie_data.csv\n",
        "* outputs/datasets/collection/raw_movie_credits_data.csv\n"
      ]
    },
    {
      "cell_type": "markdown",
      "metadata": {
        "id": "9uWZXH9LwoQg"
      },
      "source": [
        "---"
      ]
    },
    {
      "cell_type": "markdown",
      "metadata": {},
      "source": [
        "## Install Requirements"
      ]
    },
    {
      "cell_type": "markdown",
      "metadata": {
        "id": "cqP-UeN-z3i2"
      },
      "source": [
        "# Change working directory"
      ]
    },
    {
      "cell_type": "code",
      "execution_count": 1,
      "metadata": {
        "id": "wZfF_j-Bz3i4",
        "outputId": "66943449-1436-4c3d-85c7-b85f9f78349b"
      },
      "outputs": [
        {
          "data": {
            "text/plain": [
              "'/workspace/Film_Hit_prediction/jupyter_notebooks'"
            ]
          },
          "execution_count": 1,
          "metadata": {},
          "output_type": "execute_result"
        }
      ],
      "source": [
        "import os\n",
        "current_dir = os.getcwd()\n",
        "current_dir"
      ]
    },
    {
      "cell_type": "markdown",
      "metadata": {
        "id": "9MWW8E7lz3i7"
      },
      "source": [
        "The new current directory\n"
      ]
    },
    {
      "cell_type": "code",
      "execution_count": 2,
      "metadata": {
        "id": "TwHsQRWjz3i9",
        "outputId": "86849db3-cd2f-4cc5-ebb8-2d0caafa1a2c"
      },
      "outputs": [
        {
          "name": "stdout",
          "output_type": "stream",
          "text": [
            "You set a new current directory\n"
          ]
        }
      ],
      "source": [
        "os.chdir(os.path.dirname(current_dir))\n",
        "print(\"You set a new current directory\")"
      ]
    },
    {
      "cell_type": "markdown",
      "metadata": {
        "id": "M_xPk_Ijz3i-"
      },
      "source": [
        "Confirm the new current directory"
      ]
    },
    {
      "cell_type": "code",
      "execution_count": 3,
      "metadata": {
        "id": "vz3S-_kjz3jA",
        "outputId": "00b79ae4-75d0-4a96-d193-ac9ef9847ea2"
      },
      "outputs": [
        {
          "data": {
            "text/plain": [
              "'/workspace/Film_Hit_prediction'"
            ]
          },
          "execution_count": 3,
          "metadata": {},
          "output_type": "execute_result"
        }
      ],
      "source": [
        "current_dir = os.getcwd()\n",
        "current_dir"
      ]
    },
    {
      "cell_type": "markdown",
      "metadata": {
        "id": "-mavJ8DibrcQ"
      },
      "source": [
        "# Fetch data from Keggle"
      ]
    },
    {
      "cell_type": "markdown",
      "metadata": {},
      "source": [
        "Install Kaggle package to fetch data"
      ]
    },
    {
      "cell_type": "markdown",
      "metadata": {},
      "source": [
        "---"
      ]
    },
    {
      "cell_type": "markdown",
      "metadata": {},
      "source": [
        "Verify Kaggle.json"
      ]
    },
    {
      "cell_type": "code",
      "execution_count": 4,
      "metadata": {},
      "outputs": [
        {
          "name": "stdout",
          "output_type": "stream",
          "text": [
            "Current working directory: /workspace/Film_Hit_prediction/jupyter_notebooks\n",
            "Files in directory: ['1_data_collection.ipynb', '2_data_cleaning.ipynb', '3_Film_success_study.ipynb', '4_feature_engineering.ipynb', '5_modeling_evaluation.ipynb', 'complied list', 'inputs', 'outputs']\n",
            "Current working directory: /workspace/Film_Hit_prediction/jupyter_notebooks\n",
            "chmod: cannot access 'kaggle.json': No such file or directory\n",
            "\n",
            "Testing Kaggle API connection:\n",
            "Traceback (most recent call last):\n",
            "  File \"/workspace/.pip-modules/bin/kaggle\", line 5, in <module>\n",
            "    from kaggle.cli import main\n",
            "  File \"/workspace/.pip-modules/lib/python3.8/site-packages/kaggle/__init__.py\", line 23, in <module>\n",
            "    api.authenticate()\n",
            "  File \"/workspace/.pip-modules/lib/python3.8/site-packages/kaggle/api/kaggle_api_extended.py\", line 164, in authenticate\n",
            "    raise IOError('Could not find {}. Make sure it\\'s located in'\n",
            "OSError: Could not find kaggle.json. Make sure it's located in /workspace/Film_Hit_prediction/jupyter_notebooks. Or use the environment method.\n"
          ]
        }
      ],
      "source": [
        "import os\n",
        "\n",
        "os.chdir('/workspace/Film_Hit_prediction/jupyter_notebooks')\n",
        "\n",
        "print(f\"Current working directory: {os.getcwd()}\")\n",
        "print(\"Files in directory:\", os.listdir())\n",
        "\n",
        "print(f\"Current working directory: {os.getcwd()}\")\n",
        "os.environ['KAGGLE_CONFIG_DIR'] = os.getcwd()\n",
        "!chmod 600 kaggle.json\n",
        "\n",
        "print(\"\\nTesting Kaggle API connection:\")\n",
        "!kaggle datasets list --sort-by votes"
      ]
    },
    {
      "cell_type": "markdown",
      "metadata": {},
      "source": [
        "Install Kagglehub package"
      ]
    },
    {
      "cell_type": "markdown",
      "metadata": {},
      "source": [
        "Destination folder:"
      ]
    },
    {
      "cell_type": "code",
      "execution_count": 5,
      "metadata": {},
      "outputs": [],
      "source": [
        "\n",
        "DestinationFolder = \"inputs/datasets/raw\"\n",
        "os.makedirs(DestinationFolder, exist_ok=True)"
      ]
    },
    {
      "cell_type": "markdown",
      "metadata": {},
      "source": [
        "Download the dataset"
      ]
    },
    {
      "cell_type": "code",
      "execution_count": 6,
      "metadata": {},
      "outputs": [
        {
          "name": "stdout",
          "output_type": "stream",
          "text": [
            "Traceback (most recent call last):\n",
            "  File \"/workspace/.pip-modules/bin/kaggle\", line 5, in <module>\n",
            "    from kaggle.cli import main\n",
            "  File \"/workspace/.pip-modules/lib/python3.8/site-packages/kaggle/__init__.py\", line 23, in <module>\n",
            "    api.authenticate()\n",
            "  File \"/workspace/.pip-modules/lib/python3.8/site-packages/kaggle/api/kaggle_api_extended.py\", line 164, in authenticate\n",
            "    raise IOError('Could not find {}. Make sure it\\'s located in'\n",
            "OSError: Could not find kaggle.json. Make sure it's located in /workspace/Film_Hit_prediction/jupyter_notebooks. Or use the environment method.\n"
          ]
        }
      ],
      "source": [
        "!kaggle datasets download -d tmdb/tmdb-movie-metadata -p {DestinationFolder}"
      ]
    },
    {
      "cell_type": "markdown",
      "metadata": {},
      "source": [
        "Unzip the dataset"
      ]
    },
    {
      "cell_type": "code",
      "execution_count": 7,
      "metadata": {},
      "outputs": [
        {
          "name": "stdout",
          "output_type": "stream",
          "text": [
            "Dataset downloaded and extracted to: inputs/datasets/raw\n"
          ]
        }
      ],
      "source": [
        "import zipfile\n",
        "dataset_zip = os.path.join(DestinationFolder, \"tmdb-movie-metadata.zip\")\n",
        "with zipfile.ZipFile(dataset_zip, 'r') as zip_ref:\n",
        "    zip_ref.extractall(DestinationFolder)\n",
        "\n",
        "print(f\"Dataset downloaded and extracted to: {DestinationFolder}\")"
      ]
    },
    {
      "cell_type": "markdown",
      "metadata": {},
      "source": [
        "---"
      ]
    },
    {
      "cell_type": "markdown",
      "metadata": {},
      "source": [
        "# Load and inspect Kaggle Data #\n"
      ]
    },
    {
      "cell_type": "code",
      "execution_count": 8,
      "metadata": {},
      "outputs": [
        {
          "name": "stdout",
          "output_type": "stream",
          "text": [
            "Movie Credits Data:\n",
            "   movie_id                                     title  \\\n",
            "0     19995                                    Avatar   \n",
            "1       285  Pirates of the Caribbean: At World's End   \n",
            "2    206647                                   Spectre   \n",
            "3     49026                     The Dark Knight Rises   \n",
            "4     49529                               John Carter   \n",
            "\n",
            "                                                cast  \\\n",
            "0  [{\"cast_id\": 242, \"character\": \"Jake Sully\", \"...   \n",
            "1  [{\"cast_id\": 4, \"character\": \"Captain Jack Spa...   \n",
            "2  [{\"cast_id\": 1, \"character\": \"James Bond\", \"cr...   \n",
            "3  [{\"cast_id\": 2, \"character\": \"Bruce Wayne / Ba...   \n",
            "4  [{\"cast_id\": 5, \"character\": \"John Carter\", \"c...   \n",
            "\n",
            "                                                crew  \n",
            "0  [{\"credit_id\": \"52fe48009251416c750aca23\", \"de...  \n",
            "1  [{\"credit_id\": \"52fe4232c3a36847f800b579\", \"de...  \n",
            "2  [{\"credit_id\": \"54805967c3a36829b5002c41\", \"de...  \n",
            "3  [{\"credit_id\": \"52fe4781c3a36847f81398c3\", \"de...  \n",
            "4  [{\"credit_id\": \"52fe479ac3a36847f813eaa3\", \"de...  \n",
            "\n",
            "Movies Data:\n",
            "      budget                                             genres  \\\n",
            "0  237000000  [{\"id\": 28, \"name\": \"Action\"}, {\"id\": 12, \"nam...   \n",
            "1  300000000  [{\"id\": 12, \"name\": \"Adventure\"}, {\"id\": 14, \"...   \n",
            "2  245000000  [{\"id\": 28, \"name\": \"Action\"}, {\"id\": 12, \"nam...   \n",
            "3  250000000  [{\"id\": 28, \"name\": \"Action\"}, {\"id\": 80, \"nam...   \n",
            "4  260000000  [{\"id\": 28, \"name\": \"Action\"}, {\"id\": 12, \"nam...   \n",
            "\n",
            "                                       homepage      id  \\\n",
            "0                   http://www.avatarmovie.com/   19995   \n",
            "1  http://disney.go.com/disneypictures/pirates/     285   \n",
            "2   http://www.sonypictures.com/movies/spectre/  206647   \n",
            "3            http://www.thedarkknightrises.com/   49026   \n",
            "4          http://movies.disney.com/john-carter   49529   \n",
            "\n",
            "                                            keywords original_language  \\\n",
            "0  [{\"id\": 1463, \"name\": \"culture clash\"}, {\"id\":...                en   \n",
            "1  [{\"id\": 270, \"name\": \"ocean\"}, {\"id\": 726, \"na...                en   \n",
            "2  [{\"id\": 470, \"name\": \"spy\"}, {\"id\": 818, \"name...                en   \n",
            "3  [{\"id\": 849, \"name\": \"dc comics\"}, {\"id\": 853,...                en   \n",
            "4  [{\"id\": 818, \"name\": \"based on novel\"}, {\"id\":...                en   \n",
            "\n",
            "                             original_title  \\\n",
            "0                                    Avatar   \n",
            "1  Pirates of the Caribbean: At World's End   \n",
            "2                                   Spectre   \n",
            "3                     The Dark Knight Rises   \n",
            "4                               John Carter   \n",
            "\n",
            "                                            overview  popularity  \\\n",
            "0  In the 22nd century, a paraplegic Marine is di...  150.437577   \n",
            "1  Captain Barbossa, long believed to be dead, ha...  139.082615   \n",
            "2  A cryptic message from Bond’s past sends him o...  107.376788   \n",
            "3  Following the death of District Attorney Harve...  112.312950   \n",
            "4  John Carter is a war-weary, former military ca...   43.926995   \n",
            "\n",
            "                                production_companies  \\\n",
            "0  [{\"name\": \"Ingenious Film Partners\", \"id\": 289...   \n",
            "1  [{\"name\": \"Walt Disney Pictures\", \"id\": 2}, {\"...   \n",
            "2  [{\"name\": \"Columbia Pictures\", \"id\": 5}, {\"nam...   \n",
            "3  [{\"name\": \"Legendary Pictures\", \"id\": 923}, {\"...   \n",
            "4        [{\"name\": \"Walt Disney Pictures\", \"id\": 2}]   \n",
            "\n",
            "                                production_countries release_date     revenue  \\\n",
            "0  [{\"iso_3166_1\": \"US\", \"name\": \"United States o...   2009-12-10  2787965087   \n",
            "1  [{\"iso_3166_1\": \"US\", \"name\": \"United States o...   2007-05-19   961000000   \n",
            "2  [{\"iso_3166_1\": \"GB\", \"name\": \"United Kingdom\"...   2015-10-26   880674609   \n",
            "3  [{\"iso_3166_1\": \"US\", \"name\": \"United States o...   2012-07-16  1084939099   \n",
            "4  [{\"iso_3166_1\": \"US\", \"name\": \"United States o...   2012-03-07   284139100   \n",
            "\n",
            "   runtime                                   spoken_languages    status  \\\n",
            "0    162.0  [{\"iso_639_1\": \"en\", \"name\": \"English\"}, {\"iso...  Released   \n",
            "1    169.0           [{\"iso_639_1\": \"en\", \"name\": \"English\"}]  Released   \n",
            "2    148.0  [{\"iso_639_1\": \"fr\", \"name\": \"Fran\\u00e7ais\"},...  Released   \n",
            "3    165.0           [{\"iso_639_1\": \"en\", \"name\": \"English\"}]  Released   \n",
            "4    132.0           [{\"iso_639_1\": \"en\", \"name\": \"English\"}]  Released   \n",
            "\n",
            "                                          tagline  \\\n",
            "0                     Enter the World of Pandora.   \n",
            "1  At the end of the world, the adventure begins.   \n",
            "2                           A Plan No One Escapes   \n",
            "3                                 The Legend Ends   \n",
            "4            Lost in our world, found in another.   \n",
            "\n",
            "                                      title  vote_average  vote_count  \n",
            "0                                    Avatar           7.2       11800  \n",
            "1  Pirates of the Caribbean: At World's End           6.9        4500  \n",
            "2                                   Spectre           6.3        4466  \n",
            "3                     The Dark Knight Rises           7.6        9106  \n",
            "4                               John Carter           6.1        2124  \n"
          ]
        }
      ],
      "source": [
        "import pandas as pd\n",
        "\n",
        "movie_credits_path = \"inputs/datasets/raw/tmdb_5000_credits.csv\"\n",
        "movies_path = \"inputs/datasets/raw/tmdb_5000_movies.csv\"\n",
        "\n",
        "df_movie_credits = pd.read_csv(movie_credits_path)\n",
        "df_movies = pd.read_csv(movies_path)\n",
        "\n",
        "print(\"Movie Credits Data:\")\n",
        "print(df_movie_credits.head())\n",
        "\n",
        "print(\"\\nMovies Data:\")\n",
        "print(df_movies.head())"
      ]
    },
    {
      "cell_type": "markdown",
      "metadata": {},
      "source": [
        "Detailed columns in Movies Data"
      ]
    },
    {
      "cell_type": "code",
      "execution_count": 9,
      "metadata": {},
      "outputs": [
        {
          "name": "stdout",
          "output_type": "stream",
          "text": [
            "Movies DataFrame Columns and Types:\n",
            "budget: int64\n",
            "genres: object\n",
            "homepage: object\n",
            "id: int64\n",
            "keywords: object\n",
            "original_language: object\n",
            "original_title: object\n",
            "overview: object\n",
            "popularity: float64\n",
            "production_companies: object\n",
            "production_countries: object\n",
            "release_date: object\n",
            "revenue: int64\n",
            "runtime: float64\n",
            "spoken_languages: object\n",
            "status: object\n",
            "tagline: object\n",
            "title: object\n",
            "vote_average: float64\n",
            "vote_count: int64\n"
          ]
        }
      ],
      "source": [
        "print(\"Movies DataFrame Columns and Types:\")\n",
        "for col in df_movies.columns:\n",
        "    print(f\"{col}: {df_movies[col].dtype}\")"
      ]
    },
    {
      "cell_type": "markdown",
      "metadata": {},
      "source": [
        "Data frame summary"
      ]
    },
    {
      "cell_type": "code",
      "execution_count": 10,
      "metadata": {},
      "outputs": [
        {
          "name": "stdout",
          "output_type": "stream",
          "text": [
            "Movie Credits DataFrame Info:\n",
            "<class 'pandas.core.frame.DataFrame'>\n",
            "RangeIndex: 4803 entries, 0 to 4802\n",
            "Data columns (total 4 columns):\n",
            " #   Column    Non-Null Count  Dtype \n",
            "---  ------    --------------  ----- \n",
            " 0   movie_id  4803 non-null   int64 \n",
            " 1   title     4803 non-null   object\n",
            " 2   cast      4803 non-null   object\n",
            " 3   crew      4803 non-null   object\n",
            "dtypes: int64(1), object(3)\n",
            "memory usage: 150.2+ KB\n",
            "\n",
            "Movies DataFrame Info:\n",
            "<class 'pandas.core.frame.DataFrame'>\n",
            "RangeIndex: 4803 entries, 0 to 4802\n",
            "Data columns (total 20 columns):\n",
            " #   Column                Non-Null Count  Dtype  \n",
            "---  ------                --------------  -----  \n",
            " 0   budget                4803 non-null   int64  \n",
            " 1   genres                4803 non-null   object \n",
            " 2   homepage              1712 non-null   object \n",
            " 3   id                    4803 non-null   int64  \n",
            " 4   keywords              4803 non-null   object \n",
            " 5   original_language     4803 non-null   object \n",
            " 6   original_title        4803 non-null   object \n",
            " 7   overview              4800 non-null   object \n",
            " 8   popularity            4803 non-null   float64\n",
            " 9   production_companies  4803 non-null   object \n",
            " 10  production_countries  4803 non-null   object \n",
            " 11  release_date          4802 non-null   object \n",
            " 12  revenue               4803 non-null   int64  \n",
            " 13  runtime               4801 non-null   float64\n",
            " 14  spoken_languages      4803 non-null   object \n",
            " 15  status                4803 non-null   object \n",
            " 16  tagline               3959 non-null   object \n",
            " 17  title                 4803 non-null   object \n",
            " 18  vote_average          4803 non-null   float64\n",
            " 19  vote_count            4803 non-null   int64  \n",
            "dtypes: float64(3), int64(4), object(13)\n",
            "memory usage: 750.6+ KB\n"
          ]
        }
      ],
      "source": [
        "print(\"Movie Credits DataFrame Info:\")\n",
        "df_movie_credits.info()\n",
        "\n",
        "print(\"\\nMovies DataFrame Info:\")\n",
        "df_movies.info()"
      ]
    },
    {
      "cell_type": "markdown",
      "metadata": {},
      "source": [
        "Check for duplicates"
      ]
    },
    {
      "cell_type": "code",
      "execution_count": 11,
      "metadata": {},
      "outputs": [
        {
          "name": "stdout",
          "output_type": "stream",
          "text": [
            "\n",
            "Duplicate Rows in Movie Credits DataFrame:\n",
            "Empty DataFrame\n",
            "Columns: [movie_id, title, cast, crew]\n",
            "Index: []\n",
            "\n",
            "Duplicate Rows in Movies DataFrame:\n",
            "Empty DataFrame\n",
            "Columns: [budget, genres, homepage, id, keywords, original_language, original_title, overview, popularity, production_companies, production_countries, release_date, revenue, runtime, spoken_languages, status, tagline, title, vote_average, vote_count]\n",
            "Index: []\n"
          ]
        }
      ],
      "source": [
        "print(\"\\nDuplicate Rows in Movie Credits DataFrame:\")\n",
        "duplicates_movie_credits = df_movie_credits[df_movie_credits.duplicated()]\n",
        "print(duplicates_movie_credits)\n",
        "\n",
        "\n",
        "print(\"\\nDuplicate Rows in Movies DataFrame:\")\n",
        "duplicates_movies = df_movies[df_movies.duplicated()]\n",
        "print(duplicates_movies)"
      ]
    },
    {
      "cell_type": "markdown",
      "metadata": {},
      "source": [
        "---\n"
      ]
    },
    {
      "cell_type": "markdown",
      "metadata": {},
      "source": [
        "## Merging datasets"
      ]
    },
    {
      "cell_type": "markdown",
      "metadata": {},
      "source": [
        "Show the two datasets to merge"
      ]
    },
    {
      "cell_type": "code",
      "execution_count": 12,
      "metadata": {},
      "outputs": [
        {
          "name": "stdout",
          "output_type": "stream",
          "text": [
            "Movies columns: ['budget', 'genres', 'homepage', 'id', 'keywords', 'original_language', 'original_title', 'overview', 'popularity', 'production_companies', 'production_countries', 'release_date', 'revenue', 'runtime', 'spoken_languages', 'status', 'tagline', 'title', 'vote_average', 'vote_count']\n",
            "\n",
            "Movie Credits columns: ['movie_id', 'title', 'cast', 'crew']\n"
          ]
        }
      ],
      "source": [
        "print(\"Movies columns:\", df_movies.columns.tolist())\n",
        "print(\"\\nMovie Credits columns:\", df_movie_credits.columns.tolist())"
      ]
    },
    {
      "cell_type": "markdown",
      "metadata": {},
      "source": [
        "Rename movie_id to id in the credits dataframe to match the movies dataframe"
      ]
    },
    {
      "cell_type": "code",
      "execution_count": 13,
      "metadata": {},
      "outputs": [],
      "source": [
        "df_movie_credits = df_movie_credits.rename(columns={'movie_id': 'id'})"
      ]
    },
    {
      "cell_type": "markdown",
      "metadata": {},
      "source": [
        "Merge the datasets"
      ]
    },
    {
      "cell_type": "code",
      "execution_count": 14,
      "metadata": {},
      "outputs": [],
      "source": [
        "df_merged = df_movies.merge(df_movie_credits, on='id', how='left')"
      ]
    },
    {
      "cell_type": "markdown",
      "metadata": {},
      "source": [
        "Print info about the merged dataset"
      ]
    },
    {
      "cell_type": "code",
      "execution_count": 15,
      "metadata": {},
      "outputs": [
        {
          "name": "stdout",
          "output_type": "stream",
          "text": [
            "\n",
            "Merged dataset shape: (4803, 23)\n"
          ]
        }
      ],
      "source": [
        "print(\"\\nMerged dataset shape:\", df_merged.shape)"
      ]
    },
    {
      "cell_type": "markdown",
      "metadata": {},
      "source": [
        "---"
      ]
    },
    {
      "cell_type": "markdown",
      "metadata": {},
      "source": [
        "# Push file to repo"
      ]
    },
    {
      "cell_type": "code",
      "execution_count": 16,
      "metadata": {},
      "outputs": [
        {
          "name": "stdout",
          "output_type": "stream",
          "text": [
            "Directory already exists: outputs/datasets/collection\n",
            "\n",
            "Merged file saved successfully in outputs/datasets/collection\n",
            "Merged dataset shape: (4803, 23)\n"
          ]
        }
      ],
      "source": [
        "import os  \n",
        "import pandas as pd  \n",
        "\n",
        "output_dir = \"outputs/datasets/collection\"\n",
        "merged_file_path = f\"{output_dir}/merged_movie_data.csv\"\n",
        "\n",
        "if not os.path.exists(output_dir):\n",
        "    os.makedirs(output_dir)\n",
        "    print(f\"Created directory: {output_dir}\")\n",
        "else:\n",
        "    print(f\"Directory already exists: {output_dir}\")\n",
        "\n",
        "try:\n",
        "    if 'df_merged' in locals():\n",
        "        df_merged.to_csv(f\"{output_dir}/merged_movie_data.csv\", index=False)\n",
        "        print(f\"\\nMerged file saved successfully in {output_dir}\")\n",
        "        print(f\"Merged dataset shape: {df_merged.shape}\")\n",
        "    else:\n",
        "        print(\"Warning: df_merged not found. Please create your merged DataFrame first.\")\n",
        "\n",
        "except Exception as e:\n",
        "    print(f\"Error saving merged file: {e}\")\n",
        "\n",
        " \n",
        "    if os.path.exists(merged_file_path):\n",
        "        print(f\"File verified in directory\")\n",
        "        print(f\"Merged dataset shape: {df_merged.shape}\")\n",
        "        print(\"\\nFirst few rows of merged data:\")\n",
        "        print(df_merged[['id', 'title_x', 'budget', 'cast']].head())\n",
        "\n",
        "except Exception as e:\n",
        "    print(f\"Error saving merged file: {e}\")"
      ]
    },
    {
      "cell_type": "markdown",
      "metadata": {},
      "source": [
        "Verify the merged dataset\n"
      ]
    },
    {
      "cell_type": "code",
      "execution_count": 17,
      "metadata": {},
      "outputs": [
        {
          "name": "stdout",
          "output_type": "stream",
          "text": [
            "\n",
            "Columns in merged dataset: ['budget', 'genres', 'homepage', 'id', 'keywords', 'original_language', 'original_title', 'overview', 'popularity', 'production_companies', 'production_countries', 'release_date', 'revenue', 'runtime', 'spoken_languages', 'status', 'tagline', 'title_x', 'vote_average', 'vote_count', 'title_y', 'cast', 'crew']\n",
            "\n",
            "Sample of merged data:\n",
            "       id                                   title_x     budget  \\\n",
            "0   19995                                    Avatar  237000000   \n",
            "1     285  Pirates of the Caribbean: At World's End  300000000   \n",
            "2  206647                                   Spectre  245000000   \n",
            "3   49026                     The Dark Knight Rises  250000000   \n",
            "4   49529                               John Carter  260000000   \n",
            "\n",
            "                                                cast  \n",
            "0  [{\"cast_id\": 242, \"character\": \"Jake Sully\", \"...  \n",
            "1  [{\"cast_id\": 4, \"character\": \"Captain Jack Spa...  \n",
            "2  [{\"cast_id\": 1, \"character\": \"James Bond\", \"cr...  \n",
            "3  [{\"cast_id\": 2, \"character\": \"Bruce Wayne / Ba...  \n",
            "4  [{\"cast_id\": 5, \"character\": \"John Carter\", \"c...  \n"
          ]
        }
      ],
      "source": [
        "print(\"\\nColumns in merged dataset:\", df_merged.columns.tolist())\n",
        "print(\"\\nSample of merged data:\")\n",
        "print(df_merged[['id', 'title_x', 'budget', 'cast']].head())"
      ]
    },
    {
      "cell_type": "markdown",
      "metadata": {},
      "source": [
        "---"
      ]
    }
  ],
  "metadata": {
    "accelerator": "GPU",
    "colab": {
      "name": "Data Practitioner Jupyter Notebook.ipynb",
      "provenance": [],
      "toc_visible": true
    },
    "kernelspec": {
      "display_name": "Python 3",
      "language": "python",
      "name": "python3"
    },
    "language_info": {
      "codemirror_mode": {
        "name": "ipython",
        "version": 3
      },
      "file_extension": ".py",
      "mimetype": "text/x-python",
      "name": "python",
      "nbconvert_exporter": "python",
      "pygments_lexer": "ipython3",
      "version": "3.8.18"
    },
    "orig_nbformat": 2
  },
  "nbformat": 4,
  "nbformat_minor": 2
}
