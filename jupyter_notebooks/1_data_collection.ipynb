{
  "cells": [
    {
      "cell_type": "markdown",
      "metadata": {
        "id": "0aStgWSO0E0E"
      },
      "source": [
        "#  Data Collection "
      ]
    },
    {
      "cell_type": "markdown",
      "metadata": {
        "id": "1eLEkw5O0ECa"
      },
      "source": [
        "## Objectives\n",
        "\n",
        "* Fetch data from Kaggle and save as raw data\n",
        "* Inspect the data and save it under outputs/datasets/collection\n",
        "\n",
        "\n",
        "## Inputs\n",
        "\n",
        "* Kaggle JSON file - the authentication token.\n",
        "\n",
        "\n",
        "## Outputs\n",
        "\n",
        "* Generate Dataset: outputs/datasets/collection/raw_movie_data.csv\n",
        "* outputs/datasets/collection/raw_movie_credits_data.csv\n"
      ]
    },
    {
      "cell_type": "markdown",
      "metadata": {
        "id": "9uWZXH9LwoQg"
      },
      "source": [
        "---"
      ]
    },
    {
      "cell_type": "markdown",
      "metadata": {},
      "source": [
        "## Install Requirements"
      ]
    },
    {
      "cell_type": "code",
      "execution_count": 1,
      "metadata": {},
      "outputs": [
        {
          "name": "stdout",
          "output_type": "stream",
          "text": [
            "Requirement already satisfied: altair==4.2.2 in /workspace/.pip-modules/lib/python3.8/site-packages (from -r /workspace/Film_Hit_prediction/requirements.txt (line 1)) (4.2.2)\n",
            "Requirement already satisfied: annotated-types==0.7.0 in /workspace/.pip-modules/lib/python3.8/site-packages (from -r /workspace/Film_Hit_prediction/requirements.txt (line 2)) (0.7.0)\n",
            "Requirement already satisfied: astor==0.8.1 in /workspace/.pip-modules/lib/python3.8/site-packages (from -r /workspace/Film_Hit_prediction/requirements.txt (line 3)) (0.8.1)\n",
            "Requirement already satisfied: backports.zoneinfo==0.2.1 in /workspace/.pip-modules/lib/python3.8/site-packages (from -r /workspace/Film_Hit_prediction/requirements.txt (line 4)) (0.2.1)\n",
            "Requirement already satisfied: base58==2.1.1 in /workspace/.pip-modules/lib/python3.8/site-packages (from -r /workspace/Film_Hit_prediction/requirements.txt (line 5)) (2.1.1)\n",
            "Requirement already satisfied: blinker==1.8.2 in /workspace/.pip-modules/lib/python3.8/site-packages (from -r /workspace/Film_Hit_prediction/requirements.txt (line 6)) (1.8.2)\n",
            "Requirement already satisfied: cachetools==5.5.0 in /workspace/.pip-modules/lib/python3.8/site-packages (from -r /workspace/Film_Hit_prediction/requirements.txt (line 7)) (5.5.0)\n",
            "Requirement already satisfied: click==7.1.2 in /workspace/.pip-modules/lib/python3.8/site-packages (from -r /workspace/Film_Hit_prediction/requirements.txt (line 8)) (7.1.2)\n",
            "Requirement already satisfied: contourpy==1.1.1 in /workspace/.pip-modules/lib/python3.8/site-packages (from -r /workspace/Film_Hit_prediction/requirements.txt (line 9)) (1.1.1)\n",
            "Requirement already satisfied: cycler==0.12.1 in /workspace/.pip-modules/lib/python3.8/site-packages (from -r /workspace/Film_Hit_prediction/requirements.txt (line 10)) (0.12.1)\n",
            "Requirement already satisfied: dacite==1.8.1 in /workspace/.pip-modules/lib/python3.8/site-packages (from -r /workspace/Film_Hit_prediction/requirements.txt (line 11)) (1.8.1)\n",
            "Requirement already satisfied: docopt==0.6.2 in /workspace/.pip-modules/lib/python3.8/site-packages (from -r /workspace/Film_Hit_prediction/requirements.txt (line 12)) (0.6.2)\n",
            "Requirement already satisfied: entrypoints==0.4 in /workspace/.pip-modules/lib/python3.8/site-packages (from -r /workspace/Film_Hit_prediction/requirements.txt (line 13)) (0.4)\n",
            "Requirement already satisfied: feature-engine==1.0.2 in /workspace/.pip-modules/lib/python3.8/site-packages (from -r /workspace/Film_Hit_prediction/requirements.txt (line 14)) (1.0.2)\n",
            "Requirement already satisfied: fonttools==4.55.4 in /workspace/.pip-modules/lib/python3.8/site-packages (from -r /workspace/Film_Hit_prediction/requirements.txt (line 15)) (4.55.4)\n",
            "Requirement already satisfied: gitdb==4.0.11 in /workspace/.pip-modules/lib/python3.8/site-packages (from -r /workspace/Film_Hit_prediction/requirements.txt (line 16)) (4.0.11)\n",
            "Requirement already satisfied: GitPython==3.1.43 in /workspace/.pip-modules/lib/python3.8/site-packages (from -r /workspace/Film_Hit_prediction/requirements.txt (line 17)) (3.1.43)\n",
            "Requirement already satisfied: htmlmin==0.1.12 in /workspace/.pip-modules/lib/python3.8/site-packages (from -r /workspace/Film_Hit_prediction/requirements.txt (line 18)) (0.1.12)\n",
            "Requirement already satisfied: ImageHash==4.3.1 in /workspace/.pip-modules/lib/python3.8/site-packages (from -r /workspace/Film_Hit_prediction/requirements.txt (line 19)) (4.3.1)\n",
            "Requirement already satisfied: imbalanced-learn==0.8.0 in /workspace/.pip-modules/lib/python3.8/site-packages (from -r /workspace/Film_Hit_prediction/requirements.txt (line 20)) (0.8.0)\n",
            "Collecting ipywidgets==8.0.2 (from -r /workspace/Film_Hit_prediction/requirements.txt (line 21))\n",
            "  Downloading ipywidgets-8.0.2-py3-none-any.whl.metadata (2.3 kB)\n",
            "Requirement already satisfied: Jinja2==3.1.1 in /workspace/.pip-modules/lib/python3.8/site-packages (from -r /workspace/Film_Hit_prediction/requirements.txt (line 22)) (3.1.1)\n",
            "Requirement already satisfied: joblib==1.4.2 in /workspace/.pip-modules/lib/python3.8/site-packages (from -r /workspace/Film_Hit_prediction/requirements.txt (line 23)) (1.4.2)\n",
            "Requirement already satisfied: jupyterlab_widgets==3.0.13 in /workspace/.pip-modules/lib/python3.8/site-packages (from -r /workspace/Film_Hit_prediction/requirements.txt (line 24)) (3.0.13)\n",
            "Requirement already satisfied: kaggle==1.5.12 in /workspace/.pip-modules/lib/python3.8/site-packages (from -r /workspace/Film_Hit_prediction/requirements.txt (line 25)) (1.5.12)\n",
            "Requirement already satisfied: kagglehub==0.2.9 in /workspace/.pip-modules/lib/python3.8/site-packages (from -r /workspace/Film_Hit_prediction/requirements.txt (line 26)) (0.2.9)\n",
            "Requirement already satisfied: kiwisolver==1.4.7 in /workspace/.pip-modules/lib/python3.8/site-packages (from -r /workspace/Film_Hit_prediction/requirements.txt (line 27)) (1.4.7)\n",
            "Requirement already satisfied: MarkupSafe==2.0.1 in /workspace/.pip-modules/lib/python3.8/site-packages (from -r /workspace/Film_Hit_prediction/requirements.txt (line 28)) (2.0.1)\n",
            "Requirement already satisfied: matplotlib==3.3.1 in /workspace/.pip-modules/lib/python3.8/site-packages (from -r /workspace/Film_Hit_prediction/requirements.txt (line 29)) (3.3.1)\n",
            "Requirement already satisfied: multimethod==1.10 in /workspace/.pip-modules/lib/python3.8/site-packages (from -r /workspace/Film_Hit_prediction/requirements.txt (line 30)) (1.10)\n",
            "Requirement already satisfied: networkx==3.1 in /workspace/.pip-modules/lib/python3.8/site-packages (from -r /workspace/Film_Hit_prediction/requirements.txt (line 31)) (3.1)\n",
            "Requirement already satisfied: numpy==1.19.5 in /workspace/.pip-modules/lib/python3.8/site-packages (from -r /workspace/Film_Hit_prediction/requirements.txt (line 32)) (1.19.5)\n",
            "Requirement already satisfied: pandas==1.4.2 in /workspace/.pip-modules/lib/python3.8/site-packages (from -r /workspace/Film_Hit_prediction/requirements.txt (line 33)) (1.4.2)\n",
            "Requirement already satisfied: patsy==1.0.1 in /workspace/.pip-modules/lib/python3.8/site-packages (from -r /workspace/Film_Hit_prediction/requirements.txt (line 34)) (1.0.1)\n",
            "Requirement already satisfied: phik==0.12.4 in /workspace/.pip-modules/lib/python3.8/site-packages (from -r /workspace/Film_Hit_prediction/requirements.txt (line 35)) (0.12.4)\n",
            "Requirement already satisfied: pillow==10.4.0 in /workspace/.pip-modules/lib/python3.8/site-packages (from -r /workspace/Film_Hit_prediction/requirements.txt (line 36)) (10.4.0)\n",
            "Requirement already satisfied: pip-autoremove==0.10.0 in /workspace/.pip-modules/lib/python3.8/site-packages (from -r /workspace/Film_Hit_prediction/requirements.txt (line 37)) (0.10.0)\n",
            "Requirement already satisfied: pipreqs==0.5.0 in /workspace/.pip-modules/lib/python3.8/site-packages (from -r /workspace/Film_Hit_prediction/requirements.txt (line 38)) (0.5.0)\n",
            "Requirement already satisfied: plotly==5.24.1 in /workspace/.pip-modules/lib/python3.8/site-packages (from -r /workspace/Film_Hit_prediction/requirements.txt (line 39)) (5.24.1)\n",
            "Requirement already satisfied: ppscore==1.2.0 in /workspace/.pip-modules/lib/python3.8/site-packages (from -r /workspace/Film_Hit_prediction/requirements.txt (line 40)) (1.2.0)\n",
            "Requirement already satisfied: protobuf==3.20.0 in /workspace/.pip-modules/lib/python3.8/site-packages (from -r /workspace/Film_Hit_prediction/requirements.txt (line 41)) (3.20.0)\n",
            "Requirement already satisfied: pyarrow==17.0.0 in /workspace/.pip-modules/lib/python3.8/site-packages (from -r /workspace/Film_Hit_prediction/requirements.txt (line 42)) (17.0.0)\n",
            "Requirement already satisfied: pydantic==1.10.21 in /workspace/.pip-modules/lib/python3.8/site-packages (from -r /workspace/Film_Hit_prediction/requirements.txt (line 43)) (1.10.21)\n",
            "Requirement already satisfied: pydantic_core==2.27.2 in /workspace/.pip-modules/lib/python3.8/site-packages (from -r /workspace/Film_Hit_prediction/requirements.txt (line 44)) (2.27.2)\n",
            "Requirement already satisfied: pydeck==0.9.1 in /workspace/.pip-modules/lib/python3.8/site-packages (from -r /workspace/Film_Hit_prediction/requirements.txt (line 45)) (0.9.1)\n",
            "Requirement already satisfied: pyparsing==3.1.4 in /workspace/.pip-modules/lib/python3.8/site-packages (from -r /workspace/Film_Hit_prediction/requirements.txt (line 46)) (3.1.4)\n",
            "Requirement already satisfied: python-slugify==8.0.4 in /workspace/.pip-modules/lib/python3.8/site-packages (from -r /workspace/Film_Hit_prediction/requirements.txt (line 47)) (8.0.4)\n",
            "Requirement already satisfied: PyWavelets==1.4.1 in /workspace/.pip-modules/lib/python3.8/site-packages (from -r /workspace/Film_Hit_prediction/requirements.txt (line 48)) (1.4.1)\n",
            "Requirement already satisfied: retrying==1.3.4 in /workspace/.pip-modules/lib/python3.8/site-packages (from -r /workspace/Film_Hit_prediction/requirements.txt (line 49)) (1.3.4)\n",
            "Requirement already satisfied: scikit-learn==0.24.2 in /workspace/.pip-modules/lib/python3.8/site-packages (from -r /workspace/Film_Hit_prediction/requirements.txt (line 50)) (0.24.2)\n",
            "Collecting scipy==1.9.3 (from -r /workspace/Film_Hit_prediction/requirements.txt (line 51))\n",
            "  Downloading scipy-1.9.3-cp38-cp38-manylinux_2_17_x86_64.manylinux2014_x86_64.whl.metadata (58 kB)\n",
            "Requirement already satisfied: seaborn==0.11.0 in /workspace/.pip-modules/lib/python3.8/site-packages (from -r /workspace/Film_Hit_prediction/requirements.txt (line 52)) (0.11.0)\n",
            "Requirement already satisfied: smmap==5.0.1 in /workspace/.pip-modules/lib/python3.8/site-packages (from -r /workspace/Film_Hit_prediction/requirements.txt (line 53)) (5.0.1)\n",
            "Requirement already satisfied: statsmodels==0.14.1 in /workspace/.pip-modules/lib/python3.8/site-packages (from -r /workspace/Film_Hit_prediction/requirements.txt (line 54)) (0.14.1)\n",
            "Requirement already satisfied: streamlit==1.35.0 in /workspace/.pip-modules/lib/python3.8/site-packages (from -r /workspace/Film_Hit_prediction/requirements.txt (line 55)) (1.35.0)\n",
            "Requirement already satisfied: sweetviz==2.3.1 in /workspace/.pip-modules/lib/python3.8/site-packages (from -r /workspace/Film_Hit_prediction/requirements.txt (line 56)) (2.3.1)\n",
            "Requirement already satisfied: tangled-up-in-unicode==0.2.0 in /workspace/.pip-modules/lib/python3.8/site-packages (from -r /workspace/Film_Hit_prediction/requirements.txt (line 57)) (0.2.0)\n",
            "Requirement already satisfied: tenacity==8.5.0 in /workspace/.pip-modules/lib/python3.8/site-packages (from -r /workspace/Film_Hit_prediction/requirements.txt (line 58)) (8.5.0)\n",
            "Requirement already satisfied: text-unidecode==1.3 in /workspace/.pip-modules/lib/python3.8/site-packages (from -r /workspace/Film_Hit_prediction/requirements.txt (line 59)) (1.3)\n",
            "Requirement already satisfied: threadpoolctl==3.5.0 in /workspace/.pip-modules/lib/python3.8/site-packages (from -r /workspace/Film_Hit_prediction/requirements.txt (line 60)) (3.5.0)\n",
            "Requirement already satisfied: toml==0.10.2 in /workspace/.pip-modules/lib/python3.8/site-packages (from -r /workspace/Film_Hit_prediction/requirements.txt (line 61)) (0.10.2)\n",
            "Requirement already satisfied: toolz==1.0.0 in /workspace/.pip-modules/lib/python3.8/site-packages (from -r /workspace/Film_Hit_prediction/requirements.txt (line 62)) (1.0.0)\n",
            "Requirement already satisfied: tqdm==4.67.1 in /workspace/.pip-modules/lib/python3.8/site-packages (from -r /workspace/Film_Hit_prediction/requirements.txt (line 63)) (4.67.1)\n",
            "Requirement already satisfied: typeguard==2.13.3 in /workspace/.pip-modules/lib/python3.8/site-packages (from -r /workspace/Film_Hit_prediction/requirements.txt (line 64)) (2.13.3)\n",
            "Requirement already satisfied: tzlocal==5.2 in /workspace/.pip-modules/lib/python3.8/site-packages (from -r /workspace/Film_Hit_prediction/requirements.txt (line 65)) (5.2)\n",
            "Requirement already satisfied: validators==0.34.0 in /workspace/.pip-modules/lib/python3.8/site-packages (from -r /workspace/Film_Hit_prediction/requirements.txt (line 66)) (0.34.0)\n",
            "Requirement already satisfied: visions==0.7.5 in /workspace/.pip-modules/lib/python3.8/site-packages (from -r /workspace/Film_Hit_prediction/requirements.txt (line 67)) (0.7.5)\n",
            "Requirement already satisfied: watchdog==4.0.2 in /workspace/.pip-modules/lib/python3.8/site-packages (from -r /workspace/Film_Hit_prediction/requirements.txt (line 68)) (4.0.2)\n",
            "Requirement already satisfied: widgetsnbextension==4.0.13 in /workspace/.pip-modules/lib/python3.8/site-packages (from -r /workspace/Film_Hit_prediction/requirements.txt (line 69)) (4.0.13)\n",
            "Requirement already satisfied: wordcloud==1.9.4 in /workspace/.pip-modules/lib/python3.8/site-packages (from -r /workspace/Film_Hit_prediction/requirements.txt (line 70)) (1.9.4)\n",
            "Collecting xgboost==1.2.1 (from -r /workspace/Film_Hit_prediction/requirements.txt (line 71))\n",
            "  Downloading xgboost-1.2.1-py3-none-manylinux2010_x86_64.whl.metadata (1.7 kB)\n",
            "Requirement already satisfied: yarg==0.1.9 in /workspace/.pip-modules/lib/python3.8/site-packages (from -r /workspace/Film_Hit_prediction/requirements.txt (line 72)) (0.1.9)\n",
            "Requirement already satisfied: ydata-profiling==4.4.0 in /workspace/.pip-modules/lib/python3.8/site-packages (from -r /workspace/Film_Hit_prediction/requirements.txt (line 73)) (4.4.0)\n",
            "Requirement already satisfied: yellowbrick==1.3 in /workspace/.pip-modules/lib/python3.8/site-packages (from -r /workspace/Film_Hit_prediction/requirements.txt (line 74)) (1.3)\n",
            "Requirement already satisfied: jsonschema>=3.0 in /home/gitpod/.pyenv/versions/3.8.18/lib/python3.8/site-packages (from altair==4.2.2->-r /workspace/Film_Hit_prediction/requirements.txt (line 1)) (4.23.0)\n",
            "Requirement already satisfied: typing-extensions>=4.0.0 in /home/gitpod/.pyenv/versions/3.8.18/lib/python3.8/site-packages (from annotated-types==0.7.0->-r /workspace/Film_Hit_prediction/requirements.txt (line 2)) (4.12.2)\n",
            "Requirement already satisfied: ipykernel>=4.5.1 in /home/gitpod/.pyenv/versions/3.8.18/lib/python3.8/site-packages (from ipywidgets==8.0.2->-r /workspace/Film_Hit_prediction/requirements.txt (line 21)) (6.29.5)\n",
            "Requirement already satisfied: ipython>=6.1.0 in /home/gitpod/.pyenv/versions/3.8.18/lib/python3.8/site-packages (from ipywidgets==8.0.2->-r /workspace/Film_Hit_prediction/requirements.txt (line 21)) (8.12.3)\n",
            "Requirement already satisfied: traitlets>=4.3.1 in /home/gitpod/.pyenv/versions/3.8.18/lib/python3.8/site-packages (from ipywidgets==8.0.2->-r /workspace/Film_Hit_prediction/requirements.txt (line 21)) (5.14.3)\n",
            "Requirement already satisfied: six>=1.10 in /home/gitpod/.pyenv/versions/3.8.18/lib/python3.8/site-packages (from kaggle==1.5.12->-r /workspace/Film_Hit_prediction/requirements.txt (line 25)) (1.16.0)\n",
            "Requirement already satisfied: certifi in /home/gitpod/.pyenv/versions/3.8.18/lib/python3.8/site-packages (from kaggle==1.5.12->-r /workspace/Film_Hit_prediction/requirements.txt (line 25)) (2024.8.30)\n",
            "Requirement already satisfied: python-dateutil in /home/gitpod/.pyenv/versions/3.8.18/lib/python3.8/site-packages (from kaggle==1.5.12->-r /workspace/Film_Hit_prediction/requirements.txt (line 25)) (2.9.0.post0)\n",
            "Requirement already satisfied: requests in /home/gitpod/.pyenv/versions/3.8.18/lib/python3.8/site-packages (from kaggle==1.5.12->-r /workspace/Film_Hit_prediction/requirements.txt (line 25)) (2.32.3)\n",
            "Requirement already satisfied: urllib3 in /home/gitpod/.pyenv/versions/3.8.18/lib/python3.8/site-packages (from kaggle==1.5.12->-r /workspace/Film_Hit_prediction/requirements.txt (line 25)) (2.2.3)\n",
            "Requirement already satisfied: packaging in /home/gitpod/.pyenv/versions/3.8.18/lib/python3.8/site-packages (from kagglehub==0.2.9->-r /workspace/Film_Hit_prediction/requirements.txt (line 26)) (24.2)\n",
            "Requirement already satisfied: pytz>=2020.1 in /home/gitpod/.pyenv/versions/3.8.18/lib/python3.8/site-packages (from pandas==1.4.2->-r /workspace/Film_Hit_prediction/requirements.txt (line 33)) (2024.2)\n",
            "Requirement already satisfied: pip in /home/gitpod/.pyenv/versions/3.8.18/lib/python3.8/site-packages (from pip-autoremove==0.10.0->-r /workspace/Film_Hit_prediction/requirements.txt (line 37)) (24.3.1)\n",
            "Requirement already satisfied: setuptools in /home/gitpod/.pyenv/versions/3.8.18/lib/python3.8/site-packages (from pip-autoremove==0.10.0->-r /workspace/Film_Hit_prediction/requirements.txt (line 37)) (75.3.0)\n",
            "Requirement already satisfied: nbconvert<8.0.0,>=7.11.0 in /home/gitpod/.pyenv/versions/3.8.18/lib/python3.8/site-packages (from pipreqs==0.5.0->-r /workspace/Film_Hit_prediction/requirements.txt (line 38)) (7.16.4)\n",
            "Requirement already satisfied: rich<14,>=10.14.0 in /home/gitpod/.pyenv/versions/3.8.18/lib/python3.8/site-packages (from streamlit==1.35.0->-r /workspace/Film_Hit_prediction/requirements.txt (line 55)) (13.9.4)\n",
            "Requirement already satisfied: tornado<7,>=6.0.3 in /home/gitpod/.pyenv/versions/3.8.18/lib/python3.8/site-packages (from streamlit==1.35.0->-r /workspace/Film_Hit_prediction/requirements.txt (line 55)) (6.4.1)\n",
            "Requirement already satisfied: importlib-resources>=1.2.0 in /home/gitpod/.pyenv/versions/3.8.18/lib/python3.8/site-packages (from sweetviz==2.3.1->-r /workspace/Film_Hit_prediction/requirements.txt (line 56)) (6.4.5)\n",
            "Requirement already satisfied: attrs>=19.3.0 in /home/gitpod/.pyenv/versions/3.8.18/lib/python3.8/site-packages (from visions==0.7.5->-r /workspace/Film_Hit_prediction/requirements.txt (line 67)) (24.2.0)\n",
            "Requirement already satisfied: PyYAML<6.1,>=5.0.0 in /home/gitpod/.pyenv/versions/3.8.18/lib/python3.8/site-packages (from ydata-profiling==4.4.0->-r /workspace/Film_Hit_prediction/requirements.txt (line 73)) (6.0.2)\n",
            "Requirement already satisfied: backcall in /home/gitpod/.pyenv/versions/3.8.18/lib/python3.8/site-packages (from ipython>=6.1.0->ipywidgets==8.0.2->-r /workspace/Film_Hit_prediction/requirements.txt (line 21)) (0.2.0)\n",
            "Requirement already satisfied: decorator in /home/gitpod/.pyenv/versions/3.8.18/lib/python3.8/site-packages (from ipython>=6.1.0->ipywidgets==8.0.2->-r /workspace/Film_Hit_prediction/requirements.txt (line 21)) (5.1.1)\n",
            "Requirement already satisfied: jedi>=0.16 in /home/gitpod/.pyenv/versions/3.8.18/lib/python3.8/site-packages (from ipython>=6.1.0->ipywidgets==8.0.2->-r /workspace/Film_Hit_prediction/requirements.txt (line 21)) (0.19.2)\n",
            "Requirement already satisfied: matplotlib-inline in /home/gitpod/.pyenv/versions/3.8.18/lib/python3.8/site-packages (from ipython>=6.1.0->ipywidgets==8.0.2->-r /workspace/Film_Hit_prediction/requirements.txt (line 21)) (0.1.7)\n",
            "Requirement already satisfied: pickleshare in /home/gitpod/.pyenv/versions/3.8.18/lib/python3.8/site-packages (from ipython>=6.1.0->ipywidgets==8.0.2->-r /workspace/Film_Hit_prediction/requirements.txt (line 21)) (0.7.5)\n",
            "Requirement already satisfied: prompt-toolkit!=3.0.37,<3.1.0,>=3.0.30 in /home/gitpod/.pyenv/versions/3.8.18/lib/python3.8/site-packages (from ipython>=6.1.0->ipywidgets==8.0.2->-r /workspace/Film_Hit_prediction/requirements.txt (line 21)) (3.0.48)\n",
            "Requirement already satisfied: pygments>=2.4.0 in /home/gitpod/.pyenv/versions/3.8.18/lib/python3.8/site-packages (from ipython>=6.1.0->ipywidgets==8.0.2->-r /workspace/Film_Hit_prediction/requirements.txt (line 21)) (2.18.0)\n",
            "Requirement already satisfied: stack-data in /home/gitpod/.pyenv/versions/3.8.18/lib/python3.8/site-packages (from ipython>=6.1.0->ipywidgets==8.0.2->-r /workspace/Film_Hit_prediction/requirements.txt (line 21)) (0.6.3)\n",
            "Requirement already satisfied: pexpect>4.3 in /home/gitpod/.pyenv/versions/3.8.18/lib/python3.8/site-packages (from ipython>=6.1.0->ipywidgets==8.0.2->-r /workspace/Film_Hit_prediction/requirements.txt (line 21)) (4.9.0)\n",
            "Requirement already satisfied: zipp>=3.1.0 in /home/gitpod/.pyenv/versions/3.8.18/lib/python3.8/site-packages (from importlib-resources>=1.2.0->sweetviz==2.3.1->-r /workspace/Film_Hit_prediction/requirements.txt (line 56)) (3.20.2)\n",
            "Requirement already satisfied: comm>=0.1.1 in /home/gitpod/.pyenv/versions/3.8.18/lib/python3.8/site-packages (from ipykernel>=4.5.1->ipywidgets==8.0.2->-r /workspace/Film_Hit_prediction/requirements.txt (line 21)) (0.2.2)\n",
            "Requirement already satisfied: debugpy>=1.6.5 in /home/gitpod/.pyenv/versions/3.8.18/lib/python3.8/site-packages (from ipykernel>=4.5.1->ipywidgets==8.0.2->-r /workspace/Film_Hit_prediction/requirements.txt (line 21)) (1.8.8)\n",
            "Requirement already satisfied: jupyter-client>=6.1.12 in /home/gitpod/.pyenv/versions/3.8.18/lib/python3.8/site-packages (from ipykernel>=4.5.1->ipywidgets==8.0.2->-r /workspace/Film_Hit_prediction/requirements.txt (line 21)) (8.6.3)\n",
            "Requirement already satisfied: jupyter-core!=5.0.*,>=4.12 in /home/gitpod/.pyenv/versions/3.8.18/lib/python3.8/site-packages (from ipykernel>=4.5.1->ipywidgets==8.0.2->-r /workspace/Film_Hit_prediction/requirements.txt (line 21)) (5.7.2)\n",
            "Requirement already satisfied: nest-asyncio in /home/gitpod/.pyenv/versions/3.8.18/lib/python3.8/site-packages (from ipykernel>=4.5.1->ipywidgets==8.0.2->-r /workspace/Film_Hit_prediction/requirements.txt (line 21)) (1.6.0)\n",
            "Requirement already satisfied: psutil in /home/gitpod/.pyenv/versions/3.8.18/lib/python3.8/site-packages (from ipykernel>=4.5.1->ipywidgets==8.0.2->-r /workspace/Film_Hit_prediction/requirements.txt (line 21)) (6.1.0)\n",
            "Requirement already satisfied: pyzmq>=24 in /home/gitpod/.pyenv/versions/3.8.18/lib/python3.8/site-packages (from ipykernel>=4.5.1->ipywidgets==8.0.2->-r /workspace/Film_Hit_prediction/requirements.txt (line 21)) (26.2.0)\n",
            "Requirement already satisfied: jsonschema-specifications>=2023.03.6 in /home/gitpod/.pyenv/versions/3.8.18/lib/python3.8/site-packages (from jsonschema>=3.0->altair==4.2.2->-r /workspace/Film_Hit_prediction/requirements.txt (line 1)) (2023.12.1)\n",
            "Requirement already satisfied: pkgutil-resolve-name>=1.3.10 in /home/gitpod/.pyenv/versions/3.8.18/lib/python3.8/site-packages (from jsonschema>=3.0->altair==4.2.2->-r /workspace/Film_Hit_prediction/requirements.txt (line 1)) (1.3.10)\n",
            "Requirement already satisfied: referencing>=0.28.4 in /home/gitpod/.pyenv/versions/3.8.18/lib/python3.8/site-packages (from jsonschema>=3.0->altair==4.2.2->-r /workspace/Film_Hit_prediction/requirements.txt (line 1)) (0.35.1)\n",
            "Requirement already satisfied: rpds-py>=0.7.1 in /home/gitpod/.pyenv/versions/3.8.18/lib/python3.8/site-packages (from jsonschema>=3.0->altair==4.2.2->-r /workspace/Film_Hit_prediction/requirements.txt (line 1)) (0.20.1)\n",
            "Requirement already satisfied: beautifulsoup4 in /home/gitpod/.pyenv/versions/3.8.18/lib/python3.8/site-packages (from nbconvert<8.0.0,>=7.11.0->pipreqs==0.5.0->-r /workspace/Film_Hit_prediction/requirements.txt (line 38)) (4.12.3)\n",
            "Requirement already satisfied: bleach!=5.0.0 in /home/gitpod/.pyenv/versions/3.8.18/lib/python3.8/site-packages (from nbconvert<8.0.0,>=7.11.0->pipreqs==0.5.0->-r /workspace/Film_Hit_prediction/requirements.txt (line 38)) (6.1.0)\n",
            "Requirement already satisfied: defusedxml in /home/gitpod/.pyenv/versions/3.8.18/lib/python3.8/site-packages (from nbconvert<8.0.0,>=7.11.0->pipreqs==0.5.0->-r /workspace/Film_Hit_prediction/requirements.txt (line 38)) (0.7.1)\n",
            "Requirement already satisfied: importlib-metadata>=3.6 in /home/gitpod/.pyenv/versions/3.8.18/lib/python3.8/site-packages (from nbconvert<8.0.0,>=7.11.0->pipreqs==0.5.0->-r /workspace/Film_Hit_prediction/requirements.txt (line 38)) (8.5.0)\n",
            "Requirement already satisfied: jupyterlab-pygments in /home/gitpod/.pyenv/versions/3.8.18/lib/python3.8/site-packages (from nbconvert<8.0.0,>=7.11.0->pipreqs==0.5.0->-r /workspace/Film_Hit_prediction/requirements.txt (line 38)) (0.3.0)\n",
            "Requirement already satisfied: mistune<4,>=2.0.3 in /home/gitpod/.pyenv/versions/3.8.18/lib/python3.8/site-packages (from nbconvert<8.0.0,>=7.11.0->pipreqs==0.5.0->-r /workspace/Film_Hit_prediction/requirements.txt (line 38)) (3.0.2)\n",
            "Requirement already satisfied: nbclient>=0.5.0 in /home/gitpod/.pyenv/versions/3.8.18/lib/python3.8/site-packages (from nbconvert<8.0.0,>=7.11.0->pipreqs==0.5.0->-r /workspace/Film_Hit_prediction/requirements.txt (line 38)) (0.10.0)\n",
            "Requirement already satisfied: nbformat>=5.7 in /home/gitpod/.pyenv/versions/3.8.18/lib/python3.8/site-packages (from nbconvert<8.0.0,>=7.11.0->pipreqs==0.5.0->-r /workspace/Film_Hit_prediction/requirements.txt (line 38)) (5.10.4)\n",
            "Requirement already satisfied: pandocfilters>=1.4.1 in /home/gitpod/.pyenv/versions/3.8.18/lib/python3.8/site-packages (from nbconvert<8.0.0,>=7.11.0->pipreqs==0.5.0->-r /workspace/Film_Hit_prediction/requirements.txt (line 38)) (1.5.1)\n",
            "Requirement already satisfied: tinycss2 in /home/gitpod/.pyenv/versions/3.8.18/lib/python3.8/site-packages (from nbconvert<8.0.0,>=7.11.0->pipreqs==0.5.0->-r /workspace/Film_Hit_prediction/requirements.txt (line 38)) (1.4.0)\n",
            "Requirement already satisfied: charset-normalizer<4,>=2 in /home/gitpod/.pyenv/versions/3.8.18/lib/python3.8/site-packages (from requests->kaggle==1.5.12->-r /workspace/Film_Hit_prediction/requirements.txt (line 25)) (3.4.0)\n",
            "Requirement already satisfied: idna<4,>=2.5 in /home/gitpod/.pyenv/versions/3.8.18/lib/python3.8/site-packages (from requests->kaggle==1.5.12->-r /workspace/Film_Hit_prediction/requirements.txt (line 25)) (3.10)\n",
            "Requirement already satisfied: markdown-it-py>=2.2.0 in /home/gitpod/.pyenv/versions/3.8.18/lib/python3.8/site-packages (from rich<14,>=10.14.0->streamlit==1.35.0->-r /workspace/Film_Hit_prediction/requirements.txt (line 55)) (3.0.0)\n",
            "Requirement already satisfied: webencodings in /home/gitpod/.pyenv/versions/3.8.18/lib/python3.8/site-packages (from bleach!=5.0.0->nbconvert<8.0.0,>=7.11.0->pipreqs==0.5.0->-r /workspace/Film_Hit_prediction/requirements.txt (line 38)) (0.5.1)\n",
            "Requirement already satisfied: parso<0.9.0,>=0.8.4 in /home/gitpod/.pyenv/versions/3.8.18/lib/python3.8/site-packages (from jedi>=0.16->ipython>=6.1.0->ipywidgets==8.0.2->-r /workspace/Film_Hit_prediction/requirements.txt (line 21)) (0.8.4)\n",
            "Requirement already satisfied: platformdirs>=2.5 in /home/gitpod/.pyenv/versions/3.8.18/lib/python3.8/site-packages (from jupyter-core!=5.0.*,>=4.12->ipykernel>=4.5.1->ipywidgets==8.0.2->-r /workspace/Film_Hit_prediction/requirements.txt (line 21)) (4.3.6)\n",
            "Requirement already satisfied: mdurl~=0.1 in /home/gitpod/.pyenv/versions/3.8.18/lib/python3.8/site-packages (from markdown-it-py>=2.2.0->rich<14,>=10.14.0->streamlit==1.35.0->-r /workspace/Film_Hit_prediction/requirements.txt (line 55)) (0.1.2)\n",
            "Requirement already satisfied: fastjsonschema>=2.15 in /home/gitpod/.pyenv/versions/3.8.18/lib/python3.8/site-packages (from nbformat>=5.7->nbconvert<8.0.0,>=7.11.0->pipreqs==0.5.0->-r /workspace/Film_Hit_prediction/requirements.txt (line 38)) (2.20.0)\n",
            "Requirement already satisfied: ptyprocess>=0.5 in /home/gitpod/.pyenv/versions/3.8.18/lib/python3.8/site-packages (from pexpect>4.3->ipython>=6.1.0->ipywidgets==8.0.2->-r /workspace/Film_Hit_prediction/requirements.txt (line 21)) (0.7.0)\n",
            "Requirement already satisfied: wcwidth in /home/gitpod/.pyenv/versions/3.8.18/lib/python3.8/site-packages (from prompt-toolkit!=3.0.37,<3.1.0,>=3.0.30->ipython>=6.1.0->ipywidgets==8.0.2->-r /workspace/Film_Hit_prediction/requirements.txt (line 21)) (0.2.13)\n",
            "Requirement already satisfied: soupsieve>1.2 in /home/gitpod/.pyenv/versions/3.8.18/lib/python3.8/site-packages (from beautifulsoup4->nbconvert<8.0.0,>=7.11.0->pipreqs==0.5.0->-r /workspace/Film_Hit_prediction/requirements.txt (line 38)) (2.6)\n",
            "Requirement already satisfied: executing>=1.2.0 in /home/gitpod/.pyenv/versions/3.8.18/lib/python3.8/site-packages (from stack-data->ipython>=6.1.0->ipywidgets==8.0.2->-r /workspace/Film_Hit_prediction/requirements.txt (line 21)) (2.1.0)\n",
            "Requirement already satisfied: asttokens>=2.1.0 in /home/gitpod/.pyenv/versions/3.8.18/lib/python3.8/site-packages (from stack-data->ipython>=6.1.0->ipywidgets==8.0.2->-r /workspace/Film_Hit_prediction/requirements.txt (line 21)) (2.4.1)\n",
            "Requirement already satisfied: pure-eval in /home/gitpod/.pyenv/versions/3.8.18/lib/python3.8/site-packages (from stack-data->ipython>=6.1.0->ipywidgets==8.0.2->-r /workspace/Film_Hit_prediction/requirements.txt (line 21)) (0.2.3)\n",
            "Downloading ipywidgets-8.0.2-py3-none-any.whl (134 kB)\n",
            "Downloading scipy-1.9.3-cp38-cp38-manylinux_2_17_x86_64.manylinux2014_x86_64.whl (33.8 MB)\n",
            "\u001b[2K   \u001b[90m━━━━━━━━━━━━━━━━━━━━━━━━━━━━━━━━━━━━━━━━\u001b[0m \u001b[32m33.8/33.8 MB\u001b[0m \u001b[31m194.1 MB/s\u001b[0m eta \u001b[36m0:00:00\u001b[0m\n",
            "\u001b[?25hDownloading xgboost-1.2.1-py3-none-manylinux2010_x86_64.whl (148.9 MB)\n",
            "\u001b[2K   \u001b[90m━━━━━━━━━━━━━━━━━━━━━━━━━━━━━━━━━━━━━━━\u001b[0m \u001b[32m148.9/148.9 MB\u001b[0m \u001b[31m123.9 MB/s\u001b[0m eta \u001b[36m0:00:00\u001b[0m00:01\u001b[0m00:01\u001b[0m\n",
            "\u001b[?25hInstalling collected packages: scipy, xgboost, ipywidgets\n",
            "  Attempting uninstall: scipy\n",
            "    Found existing installation: scipy 1.10.1\n",
            "    Uninstalling scipy-1.10.1:\n",
            "      Successfully uninstalled scipy-1.10.1\n",
            "  Attempting uninstall: xgboost\n",
            "    Found existing installation: xgboost 2.1.3\n",
            "    Uninstalling xgboost-2.1.3:\n",
            "      Successfully uninstalled xgboost-2.1.3\n",
            "  Attempting uninstall: ipywidgets\n",
            "    Found existing installation: ipywidgets 8.1.5\n",
            "    Uninstalling ipywidgets-8.1.5:\n",
            "      Successfully uninstalled ipywidgets-8.1.5\n",
            "Successfully installed ipywidgets-8.0.2 scipy-1.9.3 xgboost-1.2.1\n",
            "Note: you may need to restart the kernel to use updated packages.\n"
          ]
        }
      ],
      "source": [
        "%pip install -r /workspace/Film_Hit_prediction/requirements.txt"
      ]
    },
    {
      "cell_type": "markdown",
      "metadata": {
        "id": "cqP-UeN-z3i2"
      },
      "source": [
        "# Change working directory"
      ]
    },
    {
      "cell_type": "code",
      "execution_count": 2,
      "metadata": {
        "id": "wZfF_j-Bz3i4",
        "outputId": "66943449-1436-4c3d-85c7-b85f9f78349b"
      },
      "outputs": [
        {
          "data": {
            "text/plain": [
              "'/workspace/Film_Hit_prediction/jupyter_notebooks'"
            ]
          },
          "execution_count": 2,
          "metadata": {},
          "output_type": "execute_result"
        }
      ],
      "source": [
        "import os\n",
        "current_dir = os.getcwd()\n",
        "current_dir"
      ]
    },
    {
      "cell_type": "markdown",
      "metadata": {
        "id": "9MWW8E7lz3i7"
      },
      "source": [
        "The new current directory\n"
      ]
    },
    {
      "cell_type": "code",
      "execution_count": 3,
      "metadata": {
        "id": "TwHsQRWjz3i9",
        "outputId": "86849db3-cd2f-4cc5-ebb8-2d0caafa1a2c"
      },
      "outputs": [
        {
          "name": "stdout",
          "output_type": "stream",
          "text": [
            "You set a new current directory\n"
          ]
        }
      ],
      "source": [
        "os.chdir(os.path.dirname(current_dir))\n",
        "print(\"You set a new current directory\")"
      ]
    },
    {
      "cell_type": "markdown",
      "metadata": {
        "id": "M_xPk_Ijz3i-"
      },
      "source": [
        "Confirm the new current directory"
      ]
    },
    {
      "cell_type": "code",
      "execution_count": 4,
      "metadata": {
        "id": "vz3S-_kjz3jA",
        "outputId": "00b79ae4-75d0-4a96-d193-ac9ef9847ea2"
      },
      "outputs": [
        {
          "data": {
            "text/plain": [
              "'/workspace/Film_Hit_prediction'"
            ]
          },
          "execution_count": 4,
          "metadata": {},
          "output_type": "execute_result"
        }
      ],
      "source": [
        "current_dir = os.getcwd()\n",
        "current_dir"
      ]
    },
    {
      "cell_type": "markdown",
      "metadata": {
        "id": "-mavJ8DibrcQ"
      },
      "source": [
        "# Fetch data from Keggle"
      ]
    },
    {
      "cell_type": "markdown",
      "metadata": {},
      "source": [
        "Install Kaggle package to fetch data"
      ]
    },
    {
      "cell_type": "code",
      "execution_count": 5,
      "metadata": {},
      "outputs": [
        {
          "name": "stdout",
          "output_type": "stream",
          "text": [
            "Requirement already satisfied: kaggle==1.5.12 in /workspace/.pip-modules/lib/python3.8/site-packages (1.5.12)\n",
            "Requirement already satisfied: six>=1.10 in /home/gitpod/.pyenv/versions/3.8.18/lib/python3.8/site-packages (from kaggle==1.5.12) (1.16.0)\n",
            "Requirement already satisfied: certifi in /home/gitpod/.pyenv/versions/3.8.18/lib/python3.8/site-packages (from kaggle==1.5.12) (2024.8.30)\n",
            "Requirement already satisfied: python-dateutil in /home/gitpod/.pyenv/versions/3.8.18/lib/python3.8/site-packages (from kaggle==1.5.12) (2.9.0.post0)\n",
            "Requirement already satisfied: requests in /home/gitpod/.pyenv/versions/3.8.18/lib/python3.8/site-packages (from kaggle==1.5.12) (2.32.3)\n",
            "Requirement already satisfied: tqdm in /workspace/.pip-modules/lib/python3.8/site-packages (from kaggle==1.5.12) (4.67.1)\n",
            "Requirement already satisfied: python-slugify in /workspace/.pip-modules/lib/python3.8/site-packages (from kaggle==1.5.12) (8.0.4)\n",
            "Requirement already satisfied: urllib3 in /home/gitpod/.pyenv/versions/3.8.18/lib/python3.8/site-packages (from kaggle==1.5.12) (2.2.3)\n",
            "Requirement already satisfied: text-unidecode>=1.3 in /workspace/.pip-modules/lib/python3.8/site-packages (from python-slugify->kaggle==1.5.12) (1.3)\n",
            "Requirement already satisfied: charset-normalizer<4,>=2 in /home/gitpod/.pyenv/versions/3.8.18/lib/python3.8/site-packages (from requests->kaggle==1.5.12) (3.4.0)\n",
            "Requirement already satisfied: idna<4,>=2.5 in /home/gitpod/.pyenv/versions/3.8.18/lib/python3.8/site-packages (from requests->kaggle==1.5.12) (3.10)\n",
            "Note: you may need to restart the kernel to use updated packages.\n"
          ]
        }
      ],
      "source": [
        "%pip install kaggle==1.5.12"
      ]
    },
    {
      "cell_type": "markdown",
      "metadata": {},
      "source": [
        "---"
      ]
    },
    {
      "cell_type": "markdown",
      "metadata": {
        "id": "uFQo3ycuO-v6"
      },
      "source": [
        "# Fetch data from Keggle"
      ]
    },
    {
      "cell_type": "markdown",
      "metadata": {},
      "source": [
        "Install Kaggle package to fetch data"
      ]
    },
    {
      "cell_type": "code",
      "execution_count": 6,
      "metadata": {},
      "outputs": [
        {
          "name": "stdout",
          "output_type": "stream",
          "text": [
            "Requirement already satisfied: kaggle==1.5.12 in /workspace/.pip-modules/lib/python3.8/site-packages (1.5.12)\n",
            "Requirement already satisfied: six>=1.10 in /home/gitpod/.pyenv/versions/3.8.18/lib/python3.8/site-packages (from kaggle==1.5.12) (1.16.0)\n",
            "Requirement already satisfied: certifi in /home/gitpod/.pyenv/versions/3.8.18/lib/python3.8/site-packages (from kaggle==1.5.12) (2024.8.30)\n",
            "Requirement already satisfied: python-dateutil in /home/gitpod/.pyenv/versions/3.8.18/lib/python3.8/site-packages (from kaggle==1.5.12) (2.9.0.post0)\n",
            "Requirement already satisfied: requests in /home/gitpod/.pyenv/versions/3.8.18/lib/python3.8/site-packages (from kaggle==1.5.12) (2.32.3)\n",
            "Requirement already satisfied: tqdm in /workspace/.pip-modules/lib/python3.8/site-packages (from kaggle==1.5.12) (4.67.1)\n",
            "Requirement already satisfied: python-slugify in /workspace/.pip-modules/lib/python3.8/site-packages (from kaggle==1.5.12) (8.0.4)\n",
            "Requirement already satisfied: urllib3 in /home/gitpod/.pyenv/versions/3.8.18/lib/python3.8/site-packages (from kaggle==1.5.12) (2.2.3)\n",
            "Requirement already satisfied: text-unidecode>=1.3 in /workspace/.pip-modules/lib/python3.8/site-packages (from python-slugify->kaggle==1.5.12) (1.3)\n",
            "Requirement already satisfied: charset-normalizer<4,>=2 in /home/gitpod/.pyenv/versions/3.8.18/lib/python3.8/site-packages (from requests->kaggle==1.5.12) (3.4.0)\n",
            "Requirement already satisfied: idna<4,>=2.5 in /home/gitpod/.pyenv/versions/3.8.18/lib/python3.8/site-packages (from requests->kaggle==1.5.12) (3.10)\n",
            "Note: you may need to restart the kernel to use updated packages.\n"
          ]
        }
      ],
      "source": [
        "%pip install kaggle==1.5.12"
      ]
    },
    {
      "cell_type": "markdown",
      "metadata": {},
      "source": [
        "Verify Kaggle.json"
      ]
    },
    {
      "cell_type": "code",
      "execution_count": 7,
      "metadata": {},
      "outputs": [
        {
          "name": "stdout",
          "output_type": "stream",
          "text": [
            "Current working directory: /workspace/Film_Hit_prediction/jupyter_notebooks\n",
            "Files in directory: ['1_data_collection.ipynb', '2_data_cleaning.ipynb', '3_Film_success_study.ipynb', '4_feature_engineering.ipynb', '5_modeling_evaluation.ipynb', 'inputs', 'kaggle.json', 'outputs']\n",
            "Current working directory: /workspace/Film_Hit_prediction/jupyter_notebooks\n"
          ]
        },
        {
          "name": "stdout",
          "output_type": "stream",
          "text": [
            "\n",
            "Testing Kaggle API connection:\n",
            "Warning: Looks like you're using an outdated API Version, please consider updating (server 1.6.17 / client 1.5.12)\n",
            "ref                                                           title                                                size  lastUpdated          downloadCount  voteCount  usabilityRating  \n",
            "------------------------------------------------------------  --------------------------------------------------  -----  -------------------  -------------  ---------  ---------------  \n",
            "jessicali9530/animal-crossing-new-horizons-nookplaza-dataset  Animal Crossing New Horizons Catalog                577KB  2021-06-08 15:05:09          71860      49655  0.88235295       \n",
            "mlg-ulb/creditcardfraud                                       Credit Card Fraud Detection                          66MB  2018-03-23 01:17:27         808806      11835  0.85294116       \n",
            "allen-institute-for-ai/CORD-19-research-challenge             COVID-19 Open Research Dataset Challenge (CORD-19)   18GB  2022-06-06 19:39:40         183543      11029  0.88235295       \n",
            "shivamb/netflix-shows                                         Netflix Movies and TV Shows                           1MB  2021-09-27 04:44:36         527047       8804  1.0              \n",
            "paultimothymooney/chest-xray-pneumonia                        Chest X-Ray Images (Pneumonia)                        2GB  2018-03-24 19:41:59         352633       6713  0.75             \n",
            "gregorut/videogamesales                                       Video Game Sales                                    381KB  2016-10-26 09:10:49         648223       6273  0.5882353        \n",
            "sudalairajkumar/novel-corona-virus-2019-dataset               Novel Corona Virus 2019 Dataset                       9MB  2021-06-24 04:27:25         451273       6216  0.9705882        \n",
            "datasnaek/youtube-new                                         Trending YouTube Video Statistics                   201MB  2019-06-03 00:56:47         260649       5578  0.7941176        \n",
            "timoboz/data-science-cheat-sheets                             Data Science Cheat Sheets                           596MB  2020-02-04 19:42:27          69020       5333  0.875            \n",
            "lava18/google-play-store-apps                                 Google Play Store Apps                                2MB  2019-02-03 13:55:47         264138       4922  0.7058824        \n",
            "hugomathien/soccer                                            European Soccer Database                             33MB  2016-10-23 22:31:38         235884       4678  0.7058824        \n",
            "fivethirtyeight/fivethirtyeight-comic-characters-dataset      FiveThirtyEight Comic Characters Dataset            597KB  2019-04-26 15:01:41          31885       4550  0.8235294        \n",
            "spscientist/students-performance-in-exams                     Students Performance in Exams                         9KB  2018-11-09 18:25:25         320672       4461  0.7058824        \n",
            "borismarjanovic/price-volume-data-for-all-us-stocks-etfs      Huge Stock Market Dataset                           492MB  2017-11-16 14:53:29         124131       4412  0.75             \n",
            "uciml/pima-indians-diabetes-database                          Pima Indians Diabetes Database                        9KB  2016-10-06 18:31:56         588600       4403  0.88235295       \n",
            "unsdsn/world-happiness                                        World Happiness Report                               37KB  2019-11-27 04:41:47         330076       4256  0.85294116       \n",
            "uciml/iris                                                    Iris Species                                          4KB  2016-09-27 07:38:05         640635       4080  0.7941176        \n",
            "tmdb/tmdb-movie-metadata                                      TMDB 5000 Movie Dataset                               9MB  2017-09-28 01:09:12         405866       3919  0.8235294        \n",
            "neuromusic/avocado-prices                                     Avocado Prices                                      629KB  2018-06-06 05:28:35         318138       3758  0.9705882        \n"
          ]
        }
      ],
      "source": [
        "import os\n",
        "\n",
        "os.chdir('/workspace/Film_Hit_prediction/jupyter_notebooks')\n",
        "\n",
        "# Verify current directory and file existence\n",
        "print(f\"Current working directory: {os.getcwd()}\")\n",
        "print(\"Files in directory:\", os.listdir())\n",
        "\n",
        "# Verify current directory and setup\n",
        "print(f\"Current working directory: {os.getcwd()}\")\n",
        "os.environ['KAGGLE_CONFIG_DIR'] = os.getcwd()\n",
        "!chmod 600 kaggle.json\n",
        "\n",
        "# Test Kaggle authentication\n",
        "print(\"\\nTesting Kaggle API connection:\")\n",
        "!kaggle datasets list --sort-by votes"
      ]
    },
    {
      "cell_type": "markdown",
      "metadata": {},
      "source": [
        "Install Kagglehub package"
      ]
    },
    {
      "cell_type": "code",
      "execution_count": 8,
      "metadata": {},
      "outputs": [
        {
          "name": "stdout",
          "output_type": "stream",
          "text": [
            "Requirement already satisfied: kagglehub in /workspace/.pip-modules/lib/python3.8/site-packages (0.2.9)\n",
            "Requirement already satisfied: packaging in /home/gitpod/.pyenv/versions/3.8.18/lib/python3.8/site-packages (from kagglehub) (24.2)\n",
            "Requirement already satisfied: requests in /home/gitpod/.pyenv/versions/3.8.18/lib/python3.8/site-packages (from kagglehub) (2.32.3)\n",
            "Requirement already satisfied: tqdm in /workspace/.pip-modules/lib/python3.8/site-packages (from kagglehub) (4.67.1)\n",
            "Requirement already satisfied: charset-normalizer<4,>=2 in /home/gitpod/.pyenv/versions/3.8.18/lib/python3.8/site-packages (from requests->kagglehub) (3.4.0)\n",
            "Requirement already satisfied: idna<4,>=2.5 in /home/gitpod/.pyenv/versions/3.8.18/lib/python3.8/site-packages (from requests->kagglehub) (3.10)\n",
            "Requirement already satisfied: urllib3<3,>=1.21.1 in /home/gitpod/.pyenv/versions/3.8.18/lib/python3.8/site-packages (from requests->kagglehub) (2.2.3)\n",
            "Requirement already satisfied: certifi>=2017.4.17 in /home/gitpod/.pyenv/versions/3.8.18/lib/python3.8/site-packages (from requests->kagglehub) (2024.8.30)\n",
            "Note: you may need to restart the kernel to use updated packages.\n"
          ]
        }
      ],
      "source": [
        "%pip install kagglehub"
      ]
    },
    {
      "cell_type": "markdown",
      "metadata": {},
      "source": [
        "Destination folder:"
      ]
    },
    {
      "cell_type": "code",
      "execution_count": 9,
      "metadata": {},
      "outputs": [],
      "source": [
        "\n",
        "DestinationFolder = \"inputs/datasets/raw\"\n",
        "os.makedirs(DestinationFolder, exist_ok=True)"
      ]
    },
    {
      "cell_type": "markdown",
      "metadata": {},
      "source": [
        "Download the dataset"
      ]
    },
    {
      "cell_type": "code",
      "execution_count": 10,
      "metadata": {},
      "outputs": [
        {
          "name": "stdout",
          "output_type": "stream",
          "text": [
            "tmdb-movie-metadata.zip: Skipping, found more recently modified local copy (use --force to force download)\n"
          ]
        }
      ],
      "source": [
        "!kaggle datasets download -d tmdb/tmdb-movie-metadata -p {DestinationFolder}\n",
        "\n"
      ]
    },
    {
      "cell_type": "markdown",
      "metadata": {},
      "source": [
        "Unzip the dataset"
      ]
    },
    {
      "cell_type": "code",
      "execution_count": 11,
      "metadata": {},
      "outputs": [
        {
          "name": "stdout",
          "output_type": "stream",
          "text": [
            "Dataset downloaded and extracted to: inputs/datasets/raw\n"
          ]
        }
      ],
      "source": [
        "import zipfile\n",
        "dataset_zip = os.path.join(DestinationFolder, \"tmdb-movie-metadata.zip\")\n",
        "with zipfile.ZipFile(dataset_zip, 'r') as zip_ref:\n",
        "    zip_ref.extractall(DestinationFolder)\n",
        "\n",
        "print(f\"Dataset downloaded and extracted to: {DestinationFolder}\")"
      ]
    },
    {
      "cell_type": "markdown",
      "metadata": {},
      "source": [
        "---"
      ]
    },
    {
      "cell_type": "markdown",
      "metadata": {},
      "source": [
        "# Load and inspect Kaggle Data #\n"
      ]
    },
    {
      "cell_type": "code",
      "execution_count": 12,
      "metadata": {},
      "outputs": [
        {
          "name": "stdout",
          "output_type": "stream",
          "text": [
            "Movie Credits Data:\n",
            "   movie_id                                     title  \\\n",
            "0     19995                                    Avatar   \n",
            "1       285  Pirates of the Caribbean: At World's End   \n",
            "2    206647                                   Spectre   \n",
            "3     49026                     The Dark Knight Rises   \n",
            "4     49529                               John Carter   \n",
            "\n",
            "                                                cast  \\\n",
            "0  [{\"cast_id\": 242, \"character\": \"Jake Sully\", \"...   \n",
            "1  [{\"cast_id\": 4, \"character\": \"Captain Jack Spa...   \n",
            "2  [{\"cast_id\": 1, \"character\": \"James Bond\", \"cr...   \n",
            "3  [{\"cast_id\": 2, \"character\": \"Bruce Wayne / Ba...   \n",
            "4  [{\"cast_id\": 5, \"character\": \"John Carter\", \"c...   \n",
            "\n",
            "                                                crew  \n",
            "0  [{\"credit_id\": \"52fe48009251416c750aca23\", \"de...  \n",
            "1  [{\"credit_id\": \"52fe4232c3a36847f800b579\", \"de...  \n",
            "2  [{\"credit_id\": \"54805967c3a36829b5002c41\", \"de...  \n",
            "3  [{\"credit_id\": \"52fe4781c3a36847f81398c3\", \"de...  \n",
            "4  [{\"credit_id\": \"52fe479ac3a36847f813eaa3\", \"de...  \n",
            "\n",
            "Movies Data:\n",
            "      budget                                             genres  \\\n",
            "0  237000000  [{\"id\": 28, \"name\": \"Action\"}, {\"id\": 12, \"nam...   \n",
            "1  300000000  [{\"id\": 12, \"name\": \"Adventure\"}, {\"id\": 14, \"...   \n",
            "2  245000000  [{\"id\": 28, \"name\": \"Action\"}, {\"id\": 12, \"nam...   \n",
            "3  250000000  [{\"id\": 28, \"name\": \"Action\"}, {\"id\": 80, \"nam...   \n",
            "4  260000000  [{\"id\": 28, \"name\": \"Action\"}, {\"id\": 12, \"nam...   \n",
            "\n",
            "                                       homepage      id  \\\n",
            "0                   http://www.avatarmovie.com/   19995   \n",
            "1  http://disney.go.com/disneypictures/pirates/     285   \n",
            "2   http://www.sonypictures.com/movies/spectre/  206647   \n",
            "3            http://www.thedarkknightrises.com/   49026   \n",
            "4          http://movies.disney.com/john-carter   49529   \n",
            "\n",
            "                                            keywords original_language  \\\n",
            "0  [{\"id\": 1463, \"name\": \"culture clash\"}, {\"id\":...                en   \n",
            "1  [{\"id\": 270, \"name\": \"ocean\"}, {\"id\": 726, \"na...                en   \n",
            "2  [{\"id\": 470, \"name\": \"spy\"}, {\"id\": 818, \"name...                en   \n",
            "3  [{\"id\": 849, \"name\": \"dc comics\"}, {\"id\": 853,...                en   \n",
            "4  [{\"id\": 818, \"name\": \"based on novel\"}, {\"id\":...                en   \n",
            "\n",
            "                             original_title  \\\n",
            "0                                    Avatar   \n",
            "1  Pirates of the Caribbean: At World's End   \n",
            "2                                   Spectre   \n",
            "3                     The Dark Knight Rises   \n",
            "4                               John Carter   \n",
            "\n",
            "                                            overview  popularity  \\\n",
            "0  In the 22nd century, a paraplegic Marine is di...  150.437577   \n",
            "1  Captain Barbossa, long believed to be dead, ha...  139.082615   \n",
            "2  A cryptic message from Bond’s past sends him o...  107.376788   \n",
            "3  Following the death of District Attorney Harve...  112.312950   \n",
            "4  John Carter is a war-weary, former military ca...   43.926995   \n",
            "\n",
            "                                production_companies  \\\n",
            "0  [{\"name\": \"Ingenious Film Partners\", \"id\": 289...   \n",
            "1  [{\"name\": \"Walt Disney Pictures\", \"id\": 2}, {\"...   \n",
            "2  [{\"name\": \"Columbia Pictures\", \"id\": 5}, {\"nam...   \n",
            "3  [{\"name\": \"Legendary Pictures\", \"id\": 923}, {\"...   \n",
            "4        [{\"name\": \"Walt Disney Pictures\", \"id\": 2}]   \n",
            "\n",
            "                                production_countries release_date     revenue  \\\n",
            "0  [{\"iso_3166_1\": \"US\", \"name\": \"United States o...   2009-12-10  2787965087   \n",
            "1  [{\"iso_3166_1\": \"US\", \"name\": \"United States o...   2007-05-19   961000000   \n",
            "2  [{\"iso_3166_1\": \"GB\", \"name\": \"United Kingdom\"...   2015-10-26   880674609   \n",
            "3  [{\"iso_3166_1\": \"US\", \"name\": \"United States o...   2012-07-16  1084939099   \n",
            "4  [{\"iso_3166_1\": \"US\", \"name\": \"United States o...   2012-03-07   284139100   \n",
            "\n",
            "   runtime                                   spoken_languages    status  \\\n",
            "0    162.0  [{\"iso_639_1\": \"en\", \"name\": \"English\"}, {\"iso...  Released   \n",
            "1    169.0           [{\"iso_639_1\": \"en\", \"name\": \"English\"}]  Released   \n",
            "2    148.0  [{\"iso_639_1\": \"fr\", \"name\": \"Fran\\u00e7ais\"},...  Released   \n",
            "3    165.0           [{\"iso_639_1\": \"en\", \"name\": \"English\"}]  Released   \n",
            "4    132.0           [{\"iso_639_1\": \"en\", \"name\": \"English\"}]  Released   \n",
            "\n",
            "                                          tagline  \\\n",
            "0                     Enter the World of Pandora.   \n",
            "1  At the end of the world, the adventure begins.   \n",
            "2                           A Plan No One Escapes   \n",
            "3                                 The Legend Ends   \n",
            "4            Lost in our world, found in another.   \n",
            "\n",
            "                                      title  vote_average  vote_count  \n",
            "0                                    Avatar           7.2       11800  \n",
            "1  Pirates of the Caribbean: At World's End           6.9        4500  \n",
            "2                                   Spectre           6.3        4466  \n",
            "3                     The Dark Knight Rises           7.6        9106  \n",
            "4                               John Carter           6.1        2124  \n"
          ]
        }
      ],
      "source": [
        "import pandas as pd\n",
        "\n",
        "movie_credits_path = \"inputs/datasets/raw/tmdb_5000_credits.csv\"\n",
        "movies_path = \"inputs/datasets/raw/tmdb_5000_movies.csv\"\n",
        "\n",
        "df_movie_credits = pd.read_csv(movie_credits_path)\n",
        "df_movies = pd.read_csv(movies_path)\n",
        "\n",
        "print(\"Movie Credits Data:\")\n",
        "print(df_movie_credits.head())\n",
        "\n",
        "print(\"\\nMovies Data:\")\n",
        "print(df_movies.head())\n"
      ]
    },
    {
      "cell_type": "markdown",
      "metadata": {},
      "source": [
        "Detailed columns in Movies Data"
      ]
    },
    {
      "cell_type": "code",
      "execution_count": 13,
      "metadata": {},
      "outputs": [
        {
          "name": "stdout",
          "output_type": "stream",
          "text": [
            "Movies DataFrame Columns and Types:\n",
            "budget: int64\n",
            "genres: object\n",
            "homepage: object\n",
            "id: int64\n",
            "keywords: object\n",
            "original_language: object\n",
            "original_title: object\n",
            "overview: object\n",
            "popularity: float64\n",
            "production_companies: object\n",
            "production_countries: object\n",
            "release_date: object\n",
            "revenue: int64\n",
            "runtime: float64\n",
            "spoken_languages: object\n",
            "status: object\n",
            "tagline: object\n",
            "title: object\n",
            "vote_average: float64\n",
            "vote_count: int64\n"
          ]
        }
      ],
      "source": [
        "print(\"Movies DataFrame Columns and Types:\")\n",
        "for col in df_movies.columns:\n",
        "    print(f\"{col}: {df_movies[col].dtype}\")\n"
      ]
    },
    {
      "cell_type": "markdown",
      "metadata": {},
      "source": [
        "Data frame summary"
      ]
    },
    {
      "cell_type": "code",
      "execution_count": null,
      "metadata": {},
      "outputs": [
        {
          "name": "stdout",
          "output_type": "stream",
          "text": [
            "Movie Credits DataFrame Info:\n",
            "<class 'pandas.core.frame.DataFrame'>\n",
            "RangeIndex: 4803 entries, 0 to 4802\n",
            "Data columns (total 4 columns):\n",
            " #   Column    Non-Null Count  Dtype \n",
            "---  ------    --------------  ----- \n",
            " 0   movie_id  4803 non-null   int64 \n",
            " 1   title     4803 non-null   object\n",
            " 2   cast      4803 non-null   object\n",
            " 3   crew      4803 non-null   object\n",
            "dtypes: int64(1), object(3)\n",
            "memory usage: 150.2+ KB\n",
            "\n",
            "Movies DataFrame Info:\n",
            "<class 'pandas.core.frame.DataFrame'>\n",
            "RangeIndex: 4803 entries, 0 to 4802\n",
            "Data columns (total 20 columns):\n",
            " #   Column                Non-Null Count  Dtype  \n",
            "---  ------                --------------  -----  \n",
            " 0   budget                4803 non-null   int64  \n",
            " 1   genres                4803 non-null   object \n",
            " 2   homepage              1712 non-null   object \n",
            " 3   id                    4803 non-null   int64  \n",
            " 4   keywords              4803 non-null   object \n",
            " 5   original_language     4803 non-null   object \n",
            " 6   original_title        4803 non-null   object \n",
            " 7   overview              4800 non-null   object \n",
            " 8   popularity            4803 non-null   float64\n",
            " 9   production_companies  4803 non-null   object \n",
            " 10  production_countries  4803 non-null   object \n",
            " 11  release_date          4802 non-null   object \n",
            " 12  revenue               4803 non-null   int64  \n",
            " 13  runtime               4801 non-null   float64\n",
            " 14  spoken_languages      4803 non-null   object \n",
            " 15  status                4803 non-null   object \n",
            " 16  tagline               3959 non-null   object \n",
            " 17  title                 4803 non-null   object \n",
            " 18  vote_average          4803 non-null   float64\n",
            " 19  vote_count            4803 non-null   int64  \n",
            "dtypes: float64(3), int64(4), object(13)\n",
            "memory usage: 750.6+ KB\n"
          ]
        }
      ],
      "source": [
        "print(\"Movie Credits DataFrame Info:\")\n",
        "df_movie_credits.info()\n",
        "\n",
        "print(\"\\nMovies DataFrame Info:\")\n",
        "df_movies.info()\n"
      ]
    },
    {
      "cell_type": "markdown",
      "metadata": {},
      "source": [
        "Check for duplicates"
      ]
    },
    {
      "cell_type": "code",
      "execution_count": 15,
      "metadata": {},
      "outputs": [
        {
          "name": "stdout",
          "output_type": "stream",
          "text": [
            "\n",
            "Duplicate Rows in Movie Credits DataFrame:\n",
            "Empty DataFrame\n",
            "Columns: [movie_id, title, cast, crew]\n",
            "Index: []\n",
            "\n",
            "Duplicate Rows in Movies DataFrame:\n",
            "Empty DataFrame\n",
            "Columns: [budget, genres, homepage, id, keywords, original_language, original_title, overview, popularity, production_companies, production_countries, release_date, revenue, runtime, spoken_languages, status, tagline, title, vote_average, vote_count]\n",
            "Index: []\n"
          ]
        }
      ],
      "source": [
        "print(\"\\nDuplicate Rows in Movie Credits DataFrame:\")\n",
        "duplicates_movie_credits = df_movie_credits[df_movie_credits.duplicated()]\n",
        "print(duplicates_movie_credits)\n",
        "\n",
        "\n",
        "print(\"\\nDuplicate Rows in Movies DataFrame:\")\n",
        "duplicates_movies = df_movies[df_movies.duplicated()]\n",
        "print(duplicates_movies)\n",
        "\n"
      ]
    },
    {
      "cell_type": "markdown",
      "metadata": {},
      "source": [
        "---\n"
      ]
    },
    {
      "cell_type": "markdown",
      "metadata": {},
      "source": [
        "## Merging datasets"
      ]
    },
    {
      "cell_type": "markdown",
      "metadata": {},
      "source": [
        "Show the two datasets to merge"
      ]
    },
    {
      "cell_type": "code",
      "execution_count": 16,
      "metadata": {},
      "outputs": [
        {
          "name": "stdout",
          "output_type": "stream",
          "text": [
            "Movies columns: ['budget', 'genres', 'homepage', 'id', 'keywords', 'original_language', 'original_title', 'overview', 'popularity', 'production_companies', 'production_countries', 'release_date', 'revenue', 'runtime', 'spoken_languages', 'status', 'tagline', 'title', 'vote_average', 'vote_count']\n",
            "\n",
            "Movie Credits columns: ['movie_id', 'title', 'cast', 'crew']\n"
          ]
        }
      ],
      "source": [
        "print(\"Movies columns:\", df_movies.columns.tolist())\n",
        "print(\"\\nMovie Credits columns:\", df_movie_credits.columns.tolist())"
      ]
    },
    {
      "cell_type": "markdown",
      "metadata": {},
      "source": [
        "Rename movie_id to id in the credits dataframe to match the movies dataframe"
      ]
    },
    {
      "cell_type": "code",
      "execution_count": 17,
      "metadata": {},
      "outputs": [],
      "source": [
        "# Rename movie_id to id in the credits dataframe to match the movies dataframe\n",
        "df_movie_credits = df_movie_credits.rename(columns={'movie_id': 'id'})"
      ]
    },
    {
      "cell_type": "markdown",
      "metadata": {},
      "source": [
        "Merge the datasets"
      ]
    },
    {
      "cell_type": "code",
      "execution_count": 18,
      "metadata": {},
      "outputs": [],
      "source": [
        "# Now merge the datasets\n",
        "df_merged = df_movies.merge(df_movie_credits, on='id', how='left')"
      ]
    },
    {
      "cell_type": "markdown",
      "metadata": {},
      "source": [
        "Print info about the merged dataset"
      ]
    },
    {
      "cell_type": "code",
      "execution_count": 19,
      "metadata": {},
      "outputs": [
        {
          "name": "stdout",
          "output_type": "stream",
          "text": [
            "\n",
            "Merged dataset shape: (4803, 23)\n"
          ]
        }
      ],
      "source": [
        "\n",
        "print(\"\\nMerged dataset shape:\", df_merged.shape)"
      ]
    },
    {
      "cell_type": "markdown",
      "metadata": {},
      "source": [
        "---"
      ]
    },
    {
      "cell_type": "markdown",
      "metadata": {},
      "source": [
        "# Push file to repo"
      ]
    },
    {
      "cell_type": "code",
      "execution_count": 20,
      "metadata": {},
      "outputs": [
        {
          "name": "stdout",
          "output_type": "stream",
          "text": [
            "Directory already exists: outputs/datasets/collection\n"
          ]
        },
        {
          "name": "stdout",
          "output_type": "stream",
          "text": [
            "\n",
            "Merged file saved successfully in outputs/datasets/collection\n",
            "Merged dataset shape: (4803, 23)\n"
          ]
        }
      ],
      "source": [
        "import os  \n",
        "import pandas as pd  \n",
        "\n",
        "output_dir = \"outputs/datasets/collection\"\n",
        "merged_file_path = f\"{output_dir}/merged_movie_data.csv\"\n",
        "\n",
        "if not os.path.exists(output_dir):\n",
        "    os.makedirs(output_dir)\n",
        "    print(f\"Created directory: {output_dir}\")\n",
        "else:\n",
        "    print(f\"Directory already exists: {output_dir}\")\n",
        "\n",
        "try:\n",
        "    if 'df_merged' in locals():\n",
        "        df_merged.to_csv(f\"{output_dir}/merged_movie_data.csv\", index=False)\n",
        "        print(f\"\\nMerged file saved successfully in {output_dir}\")\n",
        "        print(f\"Merged dataset shape: {df_merged.shape}\")\n",
        "    else:\n",
        "        print(\"Warning: df_merged not found. Please create your merged DataFrame first.\")\n",
        "\n",
        "\n",
        "except Exception as e:\n",
        "    print(f\"Error saving merged file: {e}\")\n",
        "\n",
        "    # Verify the file exists and show info\n",
        "    if os.path.exists(merged_file_path):\n",
        "        print(f\"File verified in directory\")\n",
        "        print(f\"Merged dataset shape: {df_merged.shape}\")\n",
        "        print(\"\\nFirst few rows of merged data:\")\n",
        "        print(df_merged[['id', 'title_x', 'budget', 'cast']].head())\n",
        "\n",
        "except Exception as e:\n",
        "    print(f\"Error saving merged file: {e}\")\n",
        "\n"
      ]
    },
    {
      "cell_type": "markdown",
      "metadata": {},
      "source": [
        "Verify the merged dataset\n"
      ]
    },
    {
      "cell_type": "code",
      "execution_count": 21,
      "metadata": {},
      "outputs": [
        {
          "name": "stdout",
          "output_type": "stream",
          "text": [
            "\n",
            "Columns in merged dataset: ['budget', 'genres', 'homepage', 'id', 'keywords', 'original_language', 'original_title', 'overview', 'popularity', 'production_companies', 'production_countries', 'release_date', 'revenue', 'runtime', 'spoken_languages', 'status', 'tagline', 'title_x', 'vote_average', 'vote_count', 'title_y', 'cast', 'crew']\n",
            "\n",
            "Sample of merged data:\n",
            "       id                                   title_x     budget  \\\n",
            "0   19995                                    Avatar  237000000   \n",
            "1     285  Pirates of the Caribbean: At World's End  300000000   \n",
            "2  206647                                   Spectre  245000000   \n",
            "3   49026                     The Dark Knight Rises  250000000   \n",
            "4   49529                               John Carter  260000000   \n",
            "\n",
            "                                                cast  \n",
            "0  [{\"cast_id\": 242, \"character\": \"Jake Sully\", \"...  \n",
            "1  [{\"cast_id\": 4, \"character\": \"Captain Jack Spa...  \n",
            "2  [{\"cast_id\": 1, \"character\": \"James Bond\", \"cr...  \n",
            "3  [{\"cast_id\": 2, \"character\": \"Bruce Wayne / Ba...  \n",
            "4  [{\"cast_id\": 5, \"character\": \"John Carter\", \"c...  \n"
          ]
        }
      ],
      "source": [
        "\n",
        "print(\"\\nColumns in merged dataset:\", df_merged.columns.tolist())\n",
        "print(\"\\nSample of merged data:\")\n",
        "print(df_merged[['id', 'title_x', 'budget', 'cast']].head())"
      ]
    },
    {
      "cell_type": "markdown",
      "metadata": {},
      "source": [
        "---"
      ]
    }
  ],
  "metadata": {
    "accelerator": "GPU",
    "colab": {
      "name": "Data Practitioner Jupyter Notebook.ipynb",
      "provenance": [],
      "toc_visible": true
    },
    "kernelspec": {
      "display_name": "Python 3",
      "language": "python",
      "name": "python3"
    },
    "language_info": {
      "codemirror_mode": {
        "name": "ipython",
        "version": 3
      },
      "file_extension": ".py",
      "mimetype": "text/x-python",
      "name": "python",
      "nbconvert_exporter": "python",
      "pygments_lexer": "ipython3",
      "version": "3.8.18"
    },
    "orig_nbformat": 2
  },
  "nbformat": 4,
  "nbformat_minor": 2
}
