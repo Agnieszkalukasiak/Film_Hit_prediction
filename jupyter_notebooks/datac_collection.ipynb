{
  "cells": [
    {
      "cell_type": "markdown",
      "metadata": {
        "id": "0aStgWSO0E0E"
      },
      "source": [
        "#  Data Collection "
      ]
    },
    {
      "cell_type": "markdown",
      "metadata": {
        "id": "1eLEkw5O0ECa"
      },
      "source": [
        "## Objectives\n",
        "\n",
        "* Fetch data from Kaggle and save as raw data\n",
        "* Inspect the data and save it under outputs/datasets/collection\n",
        "\n",
        "## Inputs\n",
        "\n",
        "* Kaggle JSON file - the authentication token.\n",
        "\n",
        "\n",
        "## Outputs\n",
        "\n",
        "* Generate Dataset: outputs/datasets/collection/TelcoCustomerChurn.csv \n",
        "\n",
        "## Additional Comments\n",
        "\n",
        "* In case you have any additional comments that don't fit in the previous bullets, please state them here. \n"
      ]
    },
    {
      "cell_type": "markdown",
      "metadata": {
        "id": "9uWZXH9LwoQg"
      },
      "source": [
        "---"
      ]
    },
    {
      "cell_type": "markdown",
      "metadata": {},
      "source": [
        "# Install Python Packages #"
      ]
    },
    {
      "cell_type": "code",
      "execution_count": 30,
      "metadata": {},
      "outputs": [
        {
          "name": "stdout",
          "output_type": "stream",
          "text": [
            "Requirement already satisfied: streamlit==0.85.0 in /workspace/.pip-modules/lib/python3.8/site-packages (from -r //workspace/Film_Hit_prediction/requirements.txt (line 2)) (0.85.0)\n",
            "Requirement already satisfied: numpy==1.18.5 in /workspace/.pip-modules/lib/python3.8/site-packages (from -r //workspace/Film_Hit_prediction/requirements.txt (line 4)) (1.18.5)\n",
            "Requirement already satisfied: pandas==1.4.2 in /workspace/.pip-modules/lib/python3.8/site-packages (from -r //workspace/Film_Hit_prediction/requirements.txt (line 5)) (1.4.2)\n",
            "Requirement already satisfied: matplotlib==3.3.1 in /workspace/.pip-modules/lib/python3.8/site-packages (from -r //workspace/Film_Hit_prediction/requirements.txt (line 6)) (3.3.1)\n",
            "Requirement already satisfied: seaborn==0.11.0 in /workspace/.pip-modules/lib/python3.8/site-packages (from -r //workspace/Film_Hit_prediction/requirements.txt (line 7)) (0.11.0)\n",
            "Requirement already satisfied: ydata-profiling==4.4.0 in /workspace/.pip-modules/lib/python3.8/site-packages (from -r //workspace/Film_Hit_prediction/requirements.txt (line 8)) (4.4.0)\n",
            "Requirement already satisfied: plotly==4.12.0 in /workspace/.pip-modules/lib/python3.8/site-packages (from -r //workspace/Film_Hit_prediction/requirements.txt (line 9)) (4.12.0)\n",
            "Requirement already satisfied: ppscore==1.2.0 in /workspace/.pip-modules/lib/python3.8/site-packages (from -r //workspace/Film_Hit_prediction/requirements.txt (line 10)) (1.2.0)\n",
            "Requirement already satisfied: feature-engine==1.0.2 in /workspace/.pip-modules/lib/python3.8/site-packages (from -r //workspace/Film_Hit_prediction/requirements.txt (line 14)) (1.0.2)\n",
            "Requirement already satisfied: imbalanced-learn==0.8.0 in /workspace/.pip-modules/lib/python3.8/site-packages (from -r //workspace/Film_Hit_prediction/requirements.txt (line 15)) (0.8.0)\n",
            "Requirement already satisfied: scikit-learn==0.24.2 in /workspace/.pip-modules/lib/python3.8/site-packages (from -r //workspace/Film_Hit_prediction/requirements.txt (line 16)) (0.24.2)\n",
            "Requirement already satisfied: xgboost==1.2.1 in /workspace/.pip-modules/lib/python3.8/site-packages (from -r //workspace/Film_Hit_prediction/requirements.txt (line 17)) (1.2.1)\n",
            "Requirement already satisfied: yellowbrick==1.3 in /workspace/.pip-modules/lib/python3.8/site-packages (from -r //workspace/Film_Hit_prediction/requirements.txt (line 18)) (1.3)\n",
            "Requirement already satisfied: Jinja2==3.1.1 in /workspace/.pip-modules/lib/python3.8/site-packages (from -r //workspace/Film_Hit_prediction/requirements.txt (line 19)) (3.1.1)\n",
            "Requirement already satisfied: MarkupSafe==2.0.1 in /workspace/.pip-modules/lib/python3.8/site-packages (from -r //workspace/Film_Hit_prediction/requirements.txt (line 20)) (2.0.1)\n",
            "Requirement already satisfied: protobuf==3.20 in /workspace/.pip-modules/lib/python3.8/site-packages (from -r //workspace/Film_Hit_prediction/requirements.txt (line 21)) (3.20.0)\n",
            "Requirement already satisfied: ipywidgets==8.0.2 in /workspace/.pip-modules/lib/python3.8/site-packages (from -r //workspace/Film_Hit_prediction/requirements.txt (line 22)) (8.0.2)\n",
            "Requirement already satisfied: altair<5 in /workspace/.pip-modules/lib/python3.8/site-packages (from -r //workspace/Film_Hit_prediction/requirements.txt (line 23)) (4.2.2)\n",
            "Requirement already satisfied: astor in /workspace/.pip-modules/lib/python3.8/site-packages (from streamlit==0.85.0->-r //workspace/Film_Hit_prediction/requirements.txt (line 2)) (0.8.1)\n",
            "Requirement already satisfied: attrs in /home/gitpod/.pyenv/versions/3.8.18/lib/python3.8/site-packages (from streamlit==0.85.0->-r //workspace/Film_Hit_prediction/requirements.txt (line 2)) (24.2.0)\n",
            "Requirement already satisfied: base58 in /workspace/.pip-modules/lib/python3.8/site-packages (from streamlit==0.85.0->-r //workspace/Film_Hit_prediction/requirements.txt (line 2)) (2.1.1)\n",
            "Requirement already satisfied: blinker in /workspace/.pip-modules/lib/python3.8/site-packages (from streamlit==0.85.0->-r //workspace/Film_Hit_prediction/requirements.txt (line 2)) (1.8.2)\n",
            "Requirement already satisfied: cachetools>=4.0 in /workspace/.pip-modules/lib/python3.8/site-packages (from streamlit==0.85.0->-r //workspace/Film_Hit_prediction/requirements.txt (line 2)) (5.5.0)\n",
            "Requirement already satisfied: click<8.0,>=7.0 in /workspace/.pip-modules/lib/python3.8/site-packages (from streamlit==0.85.0->-r //workspace/Film_Hit_prediction/requirements.txt (line 2)) (7.1.2)\n",
            "Requirement already satisfied: packaging in /home/gitpod/.pyenv/versions/3.8.18/lib/python3.8/site-packages (from streamlit==0.85.0->-r //workspace/Film_Hit_prediction/requirements.txt (line 2)) (24.2)\n",
            "Requirement already satisfied: pillow>=6.2.0 in /workspace/.pip-modules/lib/python3.8/site-packages (from streamlit==0.85.0->-r //workspace/Film_Hit_prediction/requirements.txt (line 2)) (10.4.0)\n",
            "Requirement already satisfied: pyarrow in /workspace/.pip-modules/lib/python3.8/site-packages (from streamlit==0.85.0->-r //workspace/Film_Hit_prediction/requirements.txt (line 2)) (17.0.0)\n",
            "Requirement already satisfied: pydeck>=0.1.dev5 in /workspace/.pip-modules/lib/python3.8/site-packages (from streamlit==0.85.0->-r //workspace/Film_Hit_prediction/requirements.txt (line 2)) (0.9.1)\n",
            "Requirement already satisfied: python-dateutil in /home/gitpod/.pyenv/versions/3.8.18/lib/python3.8/site-packages (from streamlit==0.85.0->-r //workspace/Film_Hit_prediction/requirements.txt (line 2)) (2.9.0.post0)\n",
            "Requirement already satisfied: requests in /home/gitpod/.pyenv/versions/3.8.18/lib/python3.8/site-packages (from streamlit==0.85.0->-r //workspace/Film_Hit_prediction/requirements.txt (line 2)) (2.32.3)\n",
            "Requirement already satisfied: toml in /workspace/.pip-modules/lib/python3.8/site-packages (from streamlit==0.85.0->-r //workspace/Film_Hit_prediction/requirements.txt (line 2)) (0.10.2)\n",
            "Requirement already satisfied: tornado>=5.0 in /home/gitpod/.pyenv/versions/3.8.18/lib/python3.8/site-packages (from streamlit==0.85.0->-r //workspace/Film_Hit_prediction/requirements.txt (line 2)) (6.4.1)\n",
            "Requirement already satisfied: tzlocal in /workspace/.pip-modules/lib/python3.8/site-packages (from streamlit==0.85.0->-r //workspace/Film_Hit_prediction/requirements.txt (line 2)) (5.2)\n",
            "Requirement already satisfied: validators in /workspace/.pip-modules/lib/python3.8/site-packages (from streamlit==0.85.0->-r //workspace/Film_Hit_prediction/requirements.txt (line 2)) (0.34.0)\n",
            "Requirement already satisfied: gitpython in /workspace/.pip-modules/lib/python3.8/site-packages (from streamlit==0.85.0->-r //workspace/Film_Hit_prediction/requirements.txt (line 2)) (3.1.43)\n",
            "Requirement already satisfied: watchdog in /workspace/.pip-modules/lib/python3.8/site-packages (from streamlit==0.85.0->-r //workspace/Film_Hit_prediction/requirements.txt (line 2)) (4.0.2)\n",
            "Requirement already satisfied: pytz>=2020.1 in /home/gitpod/.pyenv/versions/3.8.18/lib/python3.8/site-packages (from pandas==1.4.2->-r //workspace/Film_Hit_prediction/requirements.txt (line 5)) (2024.2)\n",
            "Requirement already satisfied: certifi>=2020.06.20 in /home/gitpod/.pyenv/versions/3.8.18/lib/python3.8/site-packages (from matplotlib==3.3.1->-r //workspace/Film_Hit_prediction/requirements.txt (line 6)) (2024.8.30)\n",
            "Requirement already satisfied: cycler>=0.10 in /workspace/.pip-modules/lib/python3.8/site-packages (from matplotlib==3.3.1->-r //workspace/Film_Hit_prediction/requirements.txt (line 6)) (0.12.1)\n",
            "Requirement already satisfied: kiwisolver>=1.0.1 in /workspace/.pip-modules/lib/python3.8/site-packages (from matplotlib==3.3.1->-r //workspace/Film_Hit_prediction/requirements.txt (line 6)) (1.4.7)\n",
            "Requirement already satisfied: pyparsing!=2.0.4,!=2.1.2,!=2.1.6,>=2.0.3 in /workspace/.pip-modules/lib/python3.8/site-packages (from matplotlib==3.3.1->-r //workspace/Film_Hit_prediction/requirements.txt (line 6)) (3.1.4)\n",
            "Requirement already satisfied: scipy>=1.0 in /workspace/.pip-modules/lib/python3.8/site-packages (from seaborn==0.11.0->-r //workspace/Film_Hit_prediction/requirements.txt (line 7)) (1.9.3)\n",
            "Requirement already satisfied: pydantic<2,>=1.8.1 in /workspace/.pip-modules/lib/python3.8/site-packages (from ydata-profiling==4.4.0->-r //workspace/Film_Hit_prediction/requirements.txt (line 8)) (1.10.19)\n",
            "Requirement already satisfied: PyYAML<6.1,>=5.0.0 in /home/gitpod/.pyenv/versions/3.8.18/lib/python3.8/site-packages (from ydata-profiling==4.4.0->-r //workspace/Film_Hit_prediction/requirements.txt (line 8)) (6.0.2)\n",
            "Requirement already satisfied: visions==0.7.5 in /workspace/.pip-modules/lib/python3.8/site-packages (from visions[type_image_path]==0.7.5->ydata-profiling==4.4.0->-r //workspace/Film_Hit_prediction/requirements.txt (line 8)) (0.7.5)\n",
            "Requirement already satisfied: htmlmin==0.1.12 in /workspace/.pip-modules/lib/python3.8/site-packages (from ydata-profiling==4.4.0->-r //workspace/Film_Hit_prediction/requirements.txt (line 8)) (0.1.12)\n",
            "Requirement already satisfied: phik<0.13,>=0.11.1 in /workspace/.pip-modules/lib/python3.8/site-packages (from ydata-profiling==4.4.0->-r //workspace/Film_Hit_prediction/requirements.txt (line 8)) (0.12.4)\n",
            "Requirement already satisfied: tqdm<5,>=4.48.2 in /workspace/.pip-modules/lib/python3.8/site-packages (from ydata-profiling==4.4.0->-r //workspace/Film_Hit_prediction/requirements.txt (line 8)) (4.67.1)\n",
            "Requirement already satisfied: multimethod<2,>=1.4 in /workspace/.pip-modules/lib/python3.8/site-packages (from ydata-profiling==4.4.0->-r //workspace/Film_Hit_prediction/requirements.txt (line 8)) (1.10)\n",
            "Requirement already satisfied: statsmodels<1,>=0.13.2 in /workspace/.pip-modules/lib/python3.8/site-packages (from ydata-profiling==4.4.0->-r //workspace/Film_Hit_prediction/requirements.txt (line 8)) (0.14.1)\n",
            "Requirement already satisfied: typeguard<3,>=2.13.2 in /workspace/.pip-modules/lib/python3.8/site-packages (from ydata-profiling==4.4.0->-r //workspace/Film_Hit_prediction/requirements.txt (line 8)) (2.13.3)\n",
            "Requirement already satisfied: imagehash==4.3.1 in /workspace/.pip-modules/lib/python3.8/site-packages (from ydata-profiling==4.4.0->-r //workspace/Film_Hit_prediction/requirements.txt (line 8)) (4.3.1)\n",
            "Requirement already satisfied: wordcloud>=1.9.1 in /workspace/.pip-modules/lib/python3.8/site-packages (from ydata-profiling==4.4.0->-r //workspace/Film_Hit_prediction/requirements.txt (line 8)) (1.9.4)\n",
            "Requirement already satisfied: dacite>=1.8 in /workspace/.pip-modules/lib/python3.8/site-packages (from ydata-profiling==4.4.0->-r //workspace/Film_Hit_prediction/requirements.txt (line 8)) (1.8.1)\n",
            "Requirement already satisfied: retrying>=1.3.3 in /workspace/.pip-modules/lib/python3.8/site-packages (from plotly==4.12.0->-r //workspace/Film_Hit_prediction/requirements.txt (line 9)) (1.3.4)\n",
            "Requirement already satisfied: six in /home/gitpod/.pyenv/versions/3.8.18/lib/python3.8/site-packages (from plotly==4.12.0->-r //workspace/Film_Hit_prediction/requirements.txt (line 9)) (1.16.0)\n",
            "Requirement already satisfied: joblib>=0.11 in /workspace/.pip-modules/lib/python3.8/site-packages (from imbalanced-learn==0.8.0->-r //workspace/Film_Hit_prediction/requirements.txt (line 15)) (1.4.2)\n",
            "Requirement already satisfied: threadpoolctl>=2.0.0 in /workspace/.pip-modules/lib/python3.8/site-packages (from scikit-learn==0.24.2->-r //workspace/Film_Hit_prediction/requirements.txt (line 16)) (3.5.0)\n",
            "Requirement already satisfied: ipykernel>=4.5.1 in /home/gitpod/.pyenv/versions/3.8.18/lib/python3.8/site-packages (from ipywidgets==8.0.2->-r //workspace/Film_Hit_prediction/requirements.txt (line 22)) (6.29.5)\n",
            "Requirement already satisfied: ipython>=6.1.0 in /home/gitpod/.pyenv/versions/3.8.18/lib/python3.8/site-packages (from ipywidgets==8.0.2->-r //workspace/Film_Hit_prediction/requirements.txt (line 22)) (8.12.3)\n",
            "Requirement already satisfied: traitlets>=4.3.1 in /home/gitpod/.pyenv/versions/3.8.18/lib/python3.8/site-packages (from ipywidgets==8.0.2->-r //workspace/Film_Hit_prediction/requirements.txt (line 22)) (5.14.3)\n",
            "Requirement already satisfied: widgetsnbextension~=4.0 in /workspace/.pip-modules/lib/python3.8/site-packages (from ipywidgets==8.0.2->-r //workspace/Film_Hit_prediction/requirements.txt (line 22)) (4.0.13)\n",
            "Requirement already satisfied: jupyterlab-widgets~=3.0 in /workspace/.pip-modules/lib/python3.8/site-packages (from ipywidgets==8.0.2->-r //workspace/Film_Hit_prediction/requirements.txt (line 22)) (3.0.13)\n",
            "Requirement already satisfied: PyWavelets in /workspace/.pip-modules/lib/python3.8/site-packages (from imagehash==4.3.1->ydata-profiling==4.4.0->-r //workspace/Film_Hit_prediction/requirements.txt (line 8)) (1.4.1)\n",
            "Requirement already satisfied: networkx>=2.4 in /workspace/.pip-modules/lib/python3.8/site-packages (from visions==0.7.5->visions[type_image_path]==0.7.5->ydata-profiling==4.4.0->-r //workspace/Film_Hit_prediction/requirements.txt (line 8)) (3.1)\n",
            "Requirement already satisfied: tangled-up-in-unicode>=0.0.4 in /workspace/.pip-modules/lib/python3.8/site-packages (from visions==0.7.5->visions[type_image_path]==0.7.5->ydata-profiling==4.4.0->-r //workspace/Film_Hit_prediction/requirements.txt (line 8)) (0.2.0)\n",
            "Requirement already satisfied: entrypoints in /workspace/.pip-modules/lib/python3.8/site-packages (from altair<5->-r //workspace/Film_Hit_prediction/requirements.txt (line 23)) (0.4)\n",
            "Requirement already satisfied: jsonschema>=3.0 in /home/gitpod/.pyenv/versions/3.8.18/lib/python3.8/site-packages (from altair<5->-r //workspace/Film_Hit_prediction/requirements.txt (line 23)) (4.23.0)\n",
            "Requirement already satisfied: toolz in /workspace/.pip-modules/lib/python3.8/site-packages (from altair<5->-r //workspace/Film_Hit_prediction/requirements.txt (line 23)) (1.0.0)\n",
            "Requirement already satisfied: comm>=0.1.1 in /home/gitpod/.pyenv/versions/3.8.18/lib/python3.8/site-packages (from ipykernel>=4.5.1->ipywidgets==8.0.2->-r //workspace/Film_Hit_prediction/requirements.txt (line 22)) (0.2.2)\n",
            "Requirement already satisfied: debugpy>=1.6.5 in /home/gitpod/.pyenv/versions/3.8.18/lib/python3.8/site-packages (from ipykernel>=4.5.1->ipywidgets==8.0.2->-r //workspace/Film_Hit_prediction/requirements.txt (line 22)) (1.8.8)\n",
            "Requirement already satisfied: jupyter-client>=6.1.12 in /home/gitpod/.pyenv/versions/3.8.18/lib/python3.8/site-packages (from ipykernel>=4.5.1->ipywidgets==8.0.2->-r //workspace/Film_Hit_prediction/requirements.txt (line 22)) (8.6.3)\n",
            "Requirement already satisfied: jupyter-core!=5.0.*,>=4.12 in /home/gitpod/.pyenv/versions/3.8.18/lib/python3.8/site-packages (from ipykernel>=4.5.1->ipywidgets==8.0.2->-r //workspace/Film_Hit_prediction/requirements.txt (line 22)) (5.7.2)\n",
            "Requirement already satisfied: matplotlib-inline>=0.1 in /home/gitpod/.pyenv/versions/3.8.18/lib/python3.8/site-packages (from ipykernel>=4.5.1->ipywidgets==8.0.2->-r //workspace/Film_Hit_prediction/requirements.txt (line 22)) (0.1.7)\n",
            "Requirement already satisfied: nest-asyncio in /home/gitpod/.pyenv/versions/3.8.18/lib/python3.8/site-packages (from ipykernel>=4.5.1->ipywidgets==8.0.2->-r //workspace/Film_Hit_prediction/requirements.txt (line 22)) (1.6.0)\n",
            "Requirement already satisfied: psutil in /home/gitpod/.pyenv/versions/3.8.18/lib/python3.8/site-packages (from ipykernel>=4.5.1->ipywidgets==8.0.2->-r //workspace/Film_Hit_prediction/requirements.txt (line 22)) (6.1.0)\n",
            "Requirement already satisfied: pyzmq>=24 in /home/gitpod/.pyenv/versions/3.8.18/lib/python3.8/site-packages (from ipykernel>=4.5.1->ipywidgets==8.0.2->-r //workspace/Film_Hit_prediction/requirements.txt (line 22)) (26.2.0)\n",
            "Requirement already satisfied: backcall in /home/gitpod/.pyenv/versions/3.8.18/lib/python3.8/site-packages (from ipython>=6.1.0->ipywidgets==8.0.2->-r //workspace/Film_Hit_prediction/requirements.txt (line 22)) (0.2.0)\n",
            "Requirement already satisfied: decorator in /home/gitpod/.pyenv/versions/3.8.18/lib/python3.8/site-packages (from ipython>=6.1.0->ipywidgets==8.0.2->-r //workspace/Film_Hit_prediction/requirements.txt (line 22)) (5.1.1)\n",
            "Requirement already satisfied: jedi>=0.16 in /home/gitpod/.pyenv/versions/3.8.18/lib/python3.8/site-packages (from ipython>=6.1.0->ipywidgets==8.0.2->-r //workspace/Film_Hit_prediction/requirements.txt (line 22)) (0.19.2)\n",
            "Requirement already satisfied: pickleshare in /home/gitpod/.pyenv/versions/3.8.18/lib/python3.8/site-packages (from ipython>=6.1.0->ipywidgets==8.0.2->-r //workspace/Film_Hit_prediction/requirements.txt (line 22)) (0.7.5)\n",
            "Requirement already satisfied: prompt-toolkit!=3.0.37,<3.1.0,>=3.0.30 in /home/gitpod/.pyenv/versions/3.8.18/lib/python3.8/site-packages (from ipython>=6.1.0->ipywidgets==8.0.2->-r //workspace/Film_Hit_prediction/requirements.txt (line 22)) (3.0.48)\n",
            "Requirement already satisfied: pygments>=2.4.0 in /home/gitpod/.pyenv/versions/3.8.18/lib/python3.8/site-packages (from ipython>=6.1.0->ipywidgets==8.0.2->-r //workspace/Film_Hit_prediction/requirements.txt (line 22)) (2.18.0)\n",
            "Requirement already satisfied: stack-data in /home/gitpod/.pyenv/versions/3.8.18/lib/python3.8/site-packages (from ipython>=6.1.0->ipywidgets==8.0.2->-r //workspace/Film_Hit_prediction/requirements.txt (line 22)) (0.6.3)\n",
            "Requirement already satisfied: typing-extensions in /home/gitpod/.pyenv/versions/3.8.18/lib/python3.8/site-packages (from ipython>=6.1.0->ipywidgets==8.0.2->-r //workspace/Film_Hit_prediction/requirements.txt (line 22)) (4.12.2)\n",
            "Requirement already satisfied: pexpect>4.3 in /home/gitpod/.pyenv/versions/3.8.18/lib/python3.8/site-packages (from ipython>=6.1.0->ipywidgets==8.0.2->-r //workspace/Film_Hit_prediction/requirements.txt (line 22)) (4.9.0)\n",
            "Requirement already satisfied: importlib-resources>=1.4.0 in /home/gitpod/.pyenv/versions/3.8.18/lib/python3.8/site-packages (from jsonschema>=3.0->altair<5->-r //workspace/Film_Hit_prediction/requirements.txt (line 23)) (6.4.5)\n",
            "Requirement already satisfied: jsonschema-specifications>=2023.03.6 in /home/gitpod/.pyenv/versions/3.8.18/lib/python3.8/site-packages (from jsonschema>=3.0->altair<5->-r //workspace/Film_Hit_prediction/requirements.txt (line 23)) (2023.12.1)\n",
            "Requirement already satisfied: pkgutil-resolve-name>=1.3.10 in /home/gitpod/.pyenv/versions/3.8.18/lib/python3.8/site-packages (from jsonschema>=3.0->altair<5->-r //workspace/Film_Hit_prediction/requirements.txt (line 23)) (1.3.10)\n",
            "Requirement already satisfied: referencing>=0.28.4 in /home/gitpod/.pyenv/versions/3.8.18/lib/python3.8/site-packages (from jsonschema>=3.0->altair<5->-r //workspace/Film_Hit_prediction/requirements.txt (line 23)) (0.35.1)\n",
            "Requirement already satisfied: rpds-py>=0.7.1 in /home/gitpod/.pyenv/versions/3.8.18/lib/python3.8/site-packages (from jsonschema>=3.0->altair<5->-r //workspace/Film_Hit_prediction/requirements.txt (line 23)) (0.20.1)\n",
            "Requirement already satisfied: charset-normalizer<4,>=2 in /home/gitpod/.pyenv/versions/3.8.18/lib/python3.8/site-packages (from requests->streamlit==0.85.0->-r //workspace/Film_Hit_prediction/requirements.txt (line 2)) (3.4.0)\n",
            "Requirement already satisfied: idna<4,>=2.5 in /home/gitpod/.pyenv/versions/3.8.18/lib/python3.8/site-packages (from requests->streamlit==0.85.0->-r //workspace/Film_Hit_prediction/requirements.txt (line 2)) (3.10)\n",
            "Requirement already satisfied: urllib3<3,>=1.21.1 in /home/gitpod/.pyenv/versions/3.8.18/lib/python3.8/site-packages (from requests->streamlit==0.85.0->-r //workspace/Film_Hit_prediction/requirements.txt (line 2)) (2.2.3)\n",
            "Requirement already satisfied: patsy>=0.5.4 in /workspace/.pip-modules/lib/python3.8/site-packages (from statsmodels<1,>=0.13.2->ydata-profiling==4.4.0->-r //workspace/Film_Hit_prediction/requirements.txt (line 8)) (1.0.1)\n",
            "Requirement already satisfied: gitdb<5,>=4.0.1 in /workspace/.pip-modules/lib/python3.8/site-packages (from gitpython->streamlit==0.85.0->-r //workspace/Film_Hit_prediction/requirements.txt (line 2)) (4.0.11)\n",
            "Requirement already satisfied: backports.zoneinfo in /workspace/.pip-modules/lib/python3.8/site-packages (from tzlocal->streamlit==0.85.0->-r //workspace/Film_Hit_prediction/requirements.txt (line 2)) (0.2.1)\n",
            "Requirement already satisfied: smmap<6,>=3.0.1 in /workspace/.pip-modules/lib/python3.8/site-packages (from gitdb<5,>=4.0.1->gitpython->streamlit==0.85.0->-r //workspace/Film_Hit_prediction/requirements.txt (line 2)) (5.0.1)\n",
            "Requirement already satisfied: zipp>=3.1.0 in /home/gitpod/.pyenv/versions/3.8.18/lib/python3.8/site-packages (from importlib-resources>=1.4.0->jsonschema>=3.0->altair<5->-r //workspace/Film_Hit_prediction/requirements.txt (line 23)) (3.20.2)\n",
            "Requirement already satisfied: parso<0.9.0,>=0.8.4 in /home/gitpod/.pyenv/versions/3.8.18/lib/python3.8/site-packages (from jedi>=0.16->ipython>=6.1.0->ipywidgets==8.0.2->-r //workspace/Film_Hit_prediction/requirements.txt (line 22)) (0.8.4)\n",
            "Requirement already satisfied: importlib-metadata>=4.8.3 in /home/gitpod/.pyenv/versions/3.8.18/lib/python3.8/site-packages (from jupyter-client>=6.1.12->ipykernel>=4.5.1->ipywidgets==8.0.2->-r //workspace/Film_Hit_prediction/requirements.txt (line 22)) (8.5.0)\n",
            "Requirement already satisfied: platformdirs>=2.5 in /home/gitpod/.pyenv/versions/3.8.18/lib/python3.8/site-packages (from jupyter-core!=5.0.*,>=4.12->ipykernel>=4.5.1->ipywidgets==8.0.2->-r //workspace/Film_Hit_prediction/requirements.txt (line 22)) (4.3.6)\n",
            "Requirement already satisfied: ptyprocess>=0.5 in /home/gitpod/.pyenv/versions/3.8.18/lib/python3.8/site-packages (from pexpect>4.3->ipython>=6.1.0->ipywidgets==8.0.2->-r //workspace/Film_Hit_prediction/requirements.txt (line 22)) (0.7.0)\n",
            "Requirement already satisfied: wcwidth in /home/gitpod/.pyenv/versions/3.8.18/lib/python3.8/site-packages (from prompt-toolkit!=3.0.37,<3.1.0,>=3.0.30->ipython>=6.1.0->ipywidgets==8.0.2->-r //workspace/Film_Hit_prediction/requirements.txt (line 22)) (0.2.13)\n",
            "Requirement already satisfied: executing>=1.2.0 in /home/gitpod/.pyenv/versions/3.8.18/lib/python3.8/site-packages (from stack-data->ipython>=6.1.0->ipywidgets==8.0.2->-r //workspace/Film_Hit_prediction/requirements.txt (line 22)) (2.1.0)\n",
            "Requirement already satisfied: asttokens>=2.1.0 in /home/gitpod/.pyenv/versions/3.8.18/lib/python3.8/site-packages (from stack-data->ipython>=6.1.0->ipywidgets==8.0.2->-r //workspace/Film_Hit_prediction/requirements.txt (line 22)) (2.4.1)\n",
            "Requirement already satisfied: pure-eval in /home/gitpod/.pyenv/versions/3.8.18/lib/python3.8/site-packages (from stack-data->ipython>=6.1.0->ipywidgets==8.0.2->-r //workspace/Film_Hit_prediction/requirements.txt (line 22)) (0.2.3)\n",
            "Note: you may need to restart the kernel to use updated packages.\n"
          ]
        }
      ],
      "source": [
        "%pip install -r //workspace/Film_Hit_prediction/requirements.txt"
      ]
    },
    {
      "cell_type": "markdown",
      "metadata": {
        "id": "cqP-UeN-z3i2"
      },
      "source": [
        "# Change working directory"
      ]
    },
    {
      "cell_type": "markdown",
      "metadata": {},
      "source": [
        "* We are assuming you will store the notebooks in a subfolder, therefore when running the notebook in the editor, you will need to change the working directory"
      ]
    },
    {
      "cell_type": "markdown",
      "metadata": {
        "id": "aOGIGS-uz3i2"
      },
      "source": [
        "We need to change the working directory from its current folder to its parent folder\n",
        "* We access the current directory with os.getcwd()"
      ]
    },
    {
      "cell_type": "code",
      "execution_count": 31,
      "metadata": {
        "id": "wZfF_j-Bz3i4",
        "outputId": "66943449-1436-4c3d-85c7-b85f9f78349b"
      },
      "outputs": [
        {
          "data": {
            "text/plain": [
              "'/workspace/Film_Hit_prediction'"
            ]
          },
          "execution_count": 31,
          "metadata": {},
          "output_type": "execute_result"
        }
      ],
      "source": [
        "import os\n",
        "current_dir = os.getcwd()\n",
        "current_dir"
      ]
    },
    {
      "cell_type": "markdown",
      "metadata": {
        "id": "9MWW8E7lz3i7"
      },
      "source": [
        "We want to make the parent of the current directory the new current directory\n",
        "* os.path.dirname() gets the parent directory\n",
        "* os.chir() defines the new current directory"
      ]
    },
    {
      "cell_type": "code",
      "execution_count": 32,
      "metadata": {
        "id": "TwHsQRWjz3i9",
        "outputId": "86849db3-cd2f-4cc5-ebb8-2d0caafa1a2c"
      },
      "outputs": [
        {
          "name": "stdout",
          "output_type": "stream",
          "text": [
            "You set a new current directory\n"
          ]
        }
      ],
      "source": [
        "os.chdir(os.path.dirname(current_dir))\n",
        "print(\"You set a new current directory\")"
      ]
    },
    {
      "cell_type": "markdown",
      "metadata": {
        "id": "M_xPk_Ijz3i-"
      },
      "source": [
        "Confirm the new current directory"
      ]
    },
    {
      "cell_type": "code",
      "execution_count": 33,
      "metadata": {
        "id": "vz3S-_kjz3jA",
        "outputId": "00b79ae4-75d0-4a96-d193-ac9ef9847ea2"
      },
      "outputs": [
        {
          "data": {
            "text/plain": [
              "'/workspace'"
            ]
          },
          "execution_count": 33,
          "metadata": {},
          "output_type": "execute_result"
        }
      ],
      "source": [
        "current_dir = os.getcwd()\n",
        "current_dir"
      ]
    },
    {
      "cell_type": "markdown",
      "metadata": {
        "id": "-mavJ8DibrcQ"
      },
      "source": [
        "# Fetch data from Keggle"
      ]
    },
    {
      "cell_type": "markdown",
      "metadata": {},
      "source": [
        "Install Kaggle package to fetch data"
      ]
    },
    {
      "cell_type": "code",
      "execution_count": 34,
      "metadata": {},
      "outputs": [
        {
          "name": "stdout",
          "output_type": "stream",
          "text": [
            "Requirement already satisfied: kaggle==1.5.12 in ./.pip-modules/lib/python3.8/site-packages (1.5.12)\n",
            "Requirement already satisfied: six>=1.10 in /home/gitpod/.pyenv/versions/3.8.18/lib/python3.8/site-packages (from kaggle==1.5.12) (1.16.0)\n",
            "Requirement already satisfied: certifi in /home/gitpod/.pyenv/versions/3.8.18/lib/python3.8/site-packages (from kaggle==1.5.12) (2024.8.30)\n",
            "Requirement already satisfied: python-dateutil in /home/gitpod/.pyenv/versions/3.8.18/lib/python3.8/site-packages (from kaggle==1.5.12) (2.9.0.post0)\n",
            "Requirement already satisfied: requests in /home/gitpod/.pyenv/versions/3.8.18/lib/python3.8/site-packages (from kaggle==1.5.12) (2.32.3)\n",
            "Requirement already satisfied: tqdm in ./.pip-modules/lib/python3.8/site-packages (from kaggle==1.5.12) (4.67.1)\n",
            "Requirement already satisfied: python-slugify in ./.pip-modules/lib/python3.8/site-packages (from kaggle==1.5.12) (8.0.4)\n",
            "Requirement already satisfied: urllib3 in /home/gitpod/.pyenv/versions/3.8.18/lib/python3.8/site-packages (from kaggle==1.5.12) (2.2.3)\n",
            "Requirement already satisfied: text-unidecode>=1.3 in ./.pip-modules/lib/python3.8/site-packages (from python-slugify->kaggle==1.5.12) (1.3)\n",
            "Requirement already satisfied: charset-normalizer<4,>=2 in /home/gitpod/.pyenv/versions/3.8.18/lib/python3.8/site-packages (from requests->kaggle==1.5.12) (3.4.0)\n",
            "Requirement already satisfied: idna<4,>=2.5 in /home/gitpod/.pyenv/versions/3.8.18/lib/python3.8/site-packages (from requests->kaggle==1.5.12) (3.10)\n",
            "Note: you may need to restart the kernel to use updated packages.\n"
          ]
        }
      ],
      "source": [
        "%pip install kaggle==1.5.12"
      ]
    },
    {
      "cell_type": "markdown",
      "metadata": {},
      "source": [
        "---"
      ]
    },
    {
      "cell_type": "markdown",
      "metadata": {
        "id": "uFQo3ycuO-v6"
      },
      "source": [
        "# Fetch data from Keggle"
      ]
    },
    {
      "cell_type": "markdown",
      "metadata": {},
      "source": [
        "Install Kaggle package to fetch data"
      ]
    },
    {
      "cell_type": "code",
      "execution_count": 35,
      "metadata": {},
      "outputs": [
        {
          "name": "stdout",
          "output_type": "stream",
          "text": [
            "Requirement already satisfied: kaggle==1.5.12 in ./.pip-modules/lib/python3.8/site-packages (1.5.12)\n",
            "Requirement already satisfied: six>=1.10 in /home/gitpod/.pyenv/versions/3.8.18/lib/python3.8/site-packages (from kaggle==1.5.12) (1.16.0)\n",
            "Requirement already satisfied: certifi in /home/gitpod/.pyenv/versions/3.8.18/lib/python3.8/site-packages (from kaggle==1.5.12) (2024.8.30)\n",
            "Requirement already satisfied: python-dateutil in /home/gitpod/.pyenv/versions/3.8.18/lib/python3.8/site-packages (from kaggle==1.5.12) (2.9.0.post0)\n",
            "Requirement already satisfied: requests in /home/gitpod/.pyenv/versions/3.8.18/lib/python3.8/site-packages (from kaggle==1.5.12) (2.32.3)\n",
            "Requirement already satisfied: tqdm in ./.pip-modules/lib/python3.8/site-packages (from kaggle==1.5.12) (4.67.1)\n",
            "Requirement already satisfied: python-slugify in ./.pip-modules/lib/python3.8/site-packages (from kaggle==1.5.12) (8.0.4)\n",
            "Requirement already satisfied: urllib3 in /home/gitpod/.pyenv/versions/3.8.18/lib/python3.8/site-packages (from kaggle==1.5.12) (2.2.3)\n",
            "Requirement already satisfied: text-unidecode>=1.3 in ./.pip-modules/lib/python3.8/site-packages (from python-slugify->kaggle==1.5.12) (1.3)\n",
            "Requirement already satisfied: charset-normalizer<4,>=2 in /home/gitpod/.pyenv/versions/3.8.18/lib/python3.8/site-packages (from requests->kaggle==1.5.12) (3.4.0)\n",
            "Requirement already satisfied: idna<4,>=2.5 in /home/gitpod/.pyenv/versions/3.8.18/lib/python3.8/site-packages (from requests->kaggle==1.5.12) (3.10)\n",
            "Note: you may need to restart the kernel to use updated packages.\n"
          ]
        }
      ],
      "source": [
        "%pip install kaggle==1.5.12"
      ]
    },
    {
      "cell_type": "code",
      "execution_count": 36,
      "metadata": {},
      "outputs": [
        {
          "name": "stdout",
          "output_type": "stream",
          "text": [
            "chmod: cannot access 'kaggle.json': No such file or directory\n"
          ]
        }
      ],
      "source": [
        "import os\n",
        "os.environ['KAGGLE_CONFIG_DIR'] = os.getcwd()\n",
        "! chmod 600 kaggle.json"
      ]
    },
    {
      "cell_type": "code",
      "execution_count": 37,
      "metadata": {},
      "outputs": [
        {
          "name": "stdout",
          "output_type": "stream",
          "text": [
            "Requirement already satisfied: kagglehub in ./.pip-modules/lib/python3.8/site-packages (0.2.9)\n",
            "Requirement already satisfied: packaging in /home/gitpod/.pyenv/versions/3.8.18/lib/python3.8/site-packages (from kagglehub) (24.2)\n",
            "Requirement already satisfied: requests in /home/gitpod/.pyenv/versions/3.8.18/lib/python3.8/site-packages (from kagglehub) (2.32.3)\n",
            "Requirement already satisfied: tqdm in ./.pip-modules/lib/python3.8/site-packages (from kagglehub) (4.67.1)\n",
            "Requirement already satisfied: charset-normalizer<4,>=2 in /home/gitpod/.pyenv/versions/3.8.18/lib/python3.8/site-packages (from requests->kagglehub) (3.4.0)\n",
            "Requirement already satisfied: idna<4,>=2.5 in /home/gitpod/.pyenv/versions/3.8.18/lib/python3.8/site-packages (from requests->kagglehub) (3.10)\n",
            "Requirement already satisfied: urllib3<3,>=1.21.1 in /home/gitpod/.pyenv/versions/3.8.18/lib/python3.8/site-packages (from requests->kagglehub) (2.2.3)\n",
            "Requirement already satisfied: certifi>=2017.4.17 in /home/gitpod/.pyenv/versions/3.8.18/lib/python3.8/site-packages (from requests->kagglehub) (2024.8.30)\n"
          ]
        }
      ],
      "source": [
        "!pip install kagglehub"
      ]
    },
    {
      "cell_type": "markdown",
      "metadata": {},
      "source": [
        "Destination folder:"
      ]
    },
    {
      "cell_type": "code",
      "execution_count": 38,
      "metadata": {},
      "outputs": [],
      "source": [
        "\n",
        "DestinationFolder = \"inputs/datasets/raw\"\n",
        "os.makedirs(DestinationFolder, exist_ok=True)"
      ]
    },
    {
      "cell_type": "markdown",
      "metadata": {},
      "source": [
        "Download the Dataset:"
      ]
    },
    {
      "cell_type": "code",
      "execution_count": 39,
      "metadata": {},
      "outputs": [
        {
          "name": "stdout",
          "output_type": "stream",
          "text": [
            "Traceback (most recent call last):\n",
            "  File \"/workspace/.pip-modules/bin/kaggle\", line 5, in <module>\n",
            "    from kaggle.cli import main\n",
            "  File \"/workspace/.pip-modules/lib/python3.8/site-packages/kaggle/__init__.py\", line 23, in <module>\n",
            "    api.authenticate()\n",
            "  File \"/workspace/.pip-modules/lib/python3.8/site-packages/kaggle/api/kaggle_api_extended.py\", line 164, in authenticate\n",
            "    raise IOError('Could not find {}. Make sure it\\'s located in'\n",
            "OSError: Could not find kaggle.json. Make sure it's located in /workspace. Or use the environment method.\n"
          ]
        }
      ],
      "source": [
        "!kaggle datasets download -d tmdb/tmdb-movie-metadata -p {DestinationFolder}\n"
      ]
    },
    {
      "cell_type": "markdown",
      "metadata": {},
      "source": [
        "Unzip the dataset"
      ]
    },
    {
      "cell_type": "code",
      "execution_count": 40,
      "metadata": {},
      "outputs": [
        {
          "ename": "FileNotFoundError",
          "evalue": "[Errno 2] No such file or directory: 'inputs/datasets/raw/tmdb-movie-metadata.zip'",
          "output_type": "error",
          "traceback": [
            "\u001b[0;31m---------------------------------------------------------------------------\u001b[0m",
            "\u001b[0;31mFileNotFoundError\u001b[0m                         Traceback (most recent call last)",
            "Cell \u001b[0;32mIn[40], line 3\u001b[0m\n\u001b[1;32m      1\u001b[0m \u001b[38;5;28;01mimport\u001b[39;00m \u001b[38;5;21;01mzipfile\u001b[39;00m\n\u001b[1;32m      2\u001b[0m dataset_zip \u001b[38;5;241m=\u001b[39m os\u001b[38;5;241m.\u001b[39mpath\u001b[38;5;241m.\u001b[39mjoin(DestinationFolder, \u001b[38;5;124m\"\u001b[39m\u001b[38;5;124mtmdb-movie-metadata.zip\u001b[39m\u001b[38;5;124m\"\u001b[39m)\n\u001b[0;32m----> 3\u001b[0m \u001b[38;5;28;01mwith\u001b[39;00m \u001b[43mzipfile\u001b[49m\u001b[38;5;241;43m.\u001b[39;49m\u001b[43mZipFile\u001b[49m\u001b[43m(\u001b[49m\u001b[43mdataset_zip\u001b[49m\u001b[43m,\u001b[49m\u001b[43m \u001b[49m\u001b[38;5;124;43m'\u001b[39;49m\u001b[38;5;124;43mr\u001b[39;49m\u001b[38;5;124;43m'\u001b[39;49m\u001b[43m)\u001b[49m \u001b[38;5;28;01mas\u001b[39;00m zip_ref:\n\u001b[1;32m      4\u001b[0m     zip_ref\u001b[38;5;241m.\u001b[39mextractall(DestinationFolder)\n\u001b[1;32m      6\u001b[0m \u001b[38;5;28mprint\u001b[39m(\u001b[38;5;124mf\u001b[39m\u001b[38;5;124m\"\u001b[39m\u001b[38;5;124mDataset downloaded and extracted to: \u001b[39m\u001b[38;5;132;01m{\u001b[39;00mDestinationFolder\u001b[38;5;132;01m}\u001b[39;00m\u001b[38;5;124m\"\u001b[39m)\n",
            "File \u001b[0;32m~/.pyenv/versions/3.8.18/lib/python3.8/zipfile.py:1251\u001b[0m, in \u001b[0;36mZipFile.__init__\u001b[0;34m(self, file, mode, compression, allowZip64, compresslevel, strict_timestamps)\u001b[0m\n\u001b[1;32m   1249\u001b[0m \u001b[38;5;28;01mwhile\u001b[39;00m \u001b[38;5;28;01mTrue\u001b[39;00m:\n\u001b[1;32m   1250\u001b[0m     \u001b[38;5;28;01mtry\u001b[39;00m:\n\u001b[0;32m-> 1251\u001b[0m         \u001b[38;5;28mself\u001b[39m\u001b[38;5;241m.\u001b[39mfp \u001b[38;5;241m=\u001b[39m \u001b[43mio\u001b[49m\u001b[38;5;241;43m.\u001b[39;49m\u001b[43mopen\u001b[49m\u001b[43m(\u001b[49m\u001b[43mfile\u001b[49m\u001b[43m,\u001b[49m\u001b[43m \u001b[49m\u001b[43mfilemode\u001b[49m\u001b[43m)\u001b[49m\n\u001b[1;32m   1252\u001b[0m     \u001b[38;5;28;01mexcept\u001b[39;00m \u001b[38;5;167;01mOSError\u001b[39;00m:\n\u001b[1;32m   1253\u001b[0m         \u001b[38;5;28;01mif\u001b[39;00m filemode \u001b[38;5;129;01min\u001b[39;00m modeDict:\n",
            "\u001b[0;31mFileNotFoundError\u001b[0m: [Errno 2] No such file or directory: 'inputs/datasets/raw/tmdb-movie-metadata.zip'"
          ]
        }
      ],
      "source": [
        "import zipfile\n",
        "dataset_zip = os.path.join(DestinationFolder, \"tmdb-movie-metadata.zip\")\n",
        "with zipfile.ZipFile(dataset_zip, 'r') as zip_ref:\n",
        "    zip_ref.extractall(DestinationFolder)\n",
        "\n",
        "print(f\"Dataset downloaded and extracted to: {DestinationFolder}\")"
      ]
    },
    {
      "cell_type": "markdown",
      "metadata": {},
      "source": [
        "---"
      ]
    },
    {
      "cell_type": "markdown",
      "metadata": {},
      "source": [
        "# Load and inspect Kaggle Data #\n"
      ]
    },
    {
      "cell_type": "code",
      "execution_count": 12,
      "metadata": {},
      "outputs": [],
      "source": [
        "import pandas as pd"
      ]
    },
    {
      "cell_type": "code",
      "execution_count": null,
      "metadata": {},
      "outputs": [
        {
          "name": "stdout",
          "output_type": "stream",
          "text": [
            "Movie Credits Data:\n",
            "   movie_id                                     title  \\\n",
            "0     19995                                    Avatar   \n",
            "1       285  Pirates of the Caribbean: At World's End   \n",
            "2    206647                                   Spectre   \n",
            "3     49026                     The Dark Knight Rises   \n",
            "4     49529                               John Carter   \n",
            "\n",
            "                                                cast  \\\n",
            "0  [{\"cast_id\": 242, \"character\": \"Jake Sully\", \"...   \n",
            "1  [{\"cast_id\": 4, \"character\": \"Captain Jack Spa...   \n",
            "2  [{\"cast_id\": 1, \"character\": \"James Bond\", \"cr...   \n",
            "3  [{\"cast_id\": 2, \"character\": \"Bruce Wayne / Ba...   \n",
            "4  [{\"cast_id\": 5, \"character\": \"John Carter\", \"c...   \n",
            "\n",
            "                                                crew  \n",
            "0  [{\"credit_id\": \"52fe48009251416c750aca23\", \"de...  \n",
            "1  [{\"credit_id\": \"52fe4232c3a36847f800b579\", \"de...  \n",
            "2  [{\"credit_id\": \"54805967c3a36829b5002c41\", \"de...  \n",
            "3  [{\"credit_id\": \"52fe4781c3a36847f81398c3\", \"de...  \n",
            "4  [{\"credit_id\": \"52fe479ac3a36847f813eaa3\", \"de...  \n",
            "\n",
            "Movies Data:\n",
            "      budget                                             genres  \\\n",
            "0  237000000  [{\"id\": 28, \"name\": \"Action\"}, {\"id\": 12, \"nam...   \n",
            "1  300000000  [{\"id\": 12, \"name\": \"Adventure\"}, {\"id\": 14, \"...   \n",
            "2  245000000  [{\"id\": 28, \"name\": \"Action\"}, {\"id\": 12, \"nam...   \n",
            "3  250000000  [{\"id\": 28, \"name\": \"Action\"}, {\"id\": 80, \"nam...   \n",
            "4  260000000  [{\"id\": 28, \"name\": \"Action\"}, {\"id\": 12, \"nam...   \n",
            "\n",
            "                                       homepage      id  \\\n",
            "0                   http://www.avatarmovie.com/   19995   \n",
            "1  http://disney.go.com/disneypictures/pirates/     285   \n",
            "2   http://www.sonypictures.com/movies/spectre/  206647   \n",
            "3            http://www.thedarkknightrises.com/   49026   \n",
            "4          http://movies.disney.com/john-carter   49529   \n",
            "\n",
            "                                            keywords original_language  \\\n",
            "0  [{\"id\": 1463, \"name\": \"culture clash\"}, {\"id\":...                en   \n",
            "1  [{\"id\": 270, \"name\": \"ocean\"}, {\"id\": 726, \"na...                en   \n",
            "2  [{\"id\": 470, \"name\": \"spy\"}, {\"id\": 818, \"name...                en   \n",
            "3  [{\"id\": 849, \"name\": \"dc comics\"}, {\"id\": 853,...                en   \n",
            "4  [{\"id\": 818, \"name\": \"based on novel\"}, {\"id\":...                en   \n",
            "\n",
            "                             original_title  \\\n",
            "0                                    Avatar   \n",
            "1  Pirates of the Caribbean: At World's End   \n",
            "2                                   Spectre   \n",
            "3                     The Dark Knight Rises   \n",
            "4                               John Carter   \n",
            "\n",
            "                                            overview  popularity  \\\n",
            "0  In the 22nd century, a paraplegic Marine is di...  150.437577   \n",
            "1  Captain Barbossa, long believed to be dead, ha...  139.082615   \n",
            "2  A cryptic message from Bond’s past sends him o...  107.376788   \n",
            "3  Following the death of District Attorney Harve...  112.312950   \n",
            "4  John Carter is a war-weary, former military ca...   43.926995   \n",
            "\n",
            "                                production_companies  \\\n",
            "0  [{\"name\": \"Ingenious Film Partners\", \"id\": 289...   \n",
            "1  [{\"name\": \"Walt Disney Pictures\", \"id\": 2}, {\"...   \n",
            "2  [{\"name\": \"Columbia Pictures\", \"id\": 5}, {\"nam...   \n",
            "3  [{\"name\": \"Legendary Pictures\", \"id\": 923}, {\"...   \n",
            "4        [{\"name\": \"Walt Disney Pictures\", \"id\": 2}]   \n",
            "\n",
            "                                production_countries release_date     revenue  \\\n",
            "0  [{\"iso_3166_1\": \"US\", \"name\": \"United States o...   2009-12-10  2787965087   \n",
            "1  [{\"iso_3166_1\": \"US\", \"name\": \"United States o...   2007-05-19   961000000   \n",
            "2  [{\"iso_3166_1\": \"GB\", \"name\": \"United Kingdom\"...   2015-10-26   880674609   \n",
            "3  [{\"iso_3166_1\": \"US\", \"name\": \"United States o...   2012-07-16  1084939099   \n",
            "4  [{\"iso_3166_1\": \"US\", \"name\": \"United States o...   2012-03-07   284139100   \n",
            "\n",
            "   runtime                                   spoken_languages    status  \\\n",
            "0    162.0  [{\"iso_639_1\": \"en\", \"name\": \"English\"}, {\"iso...  Released   \n",
            "1    169.0           [{\"iso_639_1\": \"en\", \"name\": \"English\"}]  Released   \n",
            "2    148.0  [{\"iso_639_1\": \"fr\", \"name\": \"Fran\\u00e7ais\"},...  Released   \n",
            "3    165.0           [{\"iso_639_1\": \"en\", \"name\": \"English\"}]  Released   \n",
            "4    132.0           [{\"iso_639_1\": \"en\", \"name\": \"English\"}]  Released   \n",
            "\n",
            "                                          tagline  \\\n",
            "0                     Enter the World of Pandora.   \n",
            "1  At the end of the world, the adventure begins.   \n",
            "2                           A Plan No One Escapes   \n",
            "3                                 The Legend Ends   \n",
            "4            Lost in our world, found in another.   \n",
            "\n",
            "                                      title  vote_average  vote_count  \n",
            "0                                    Avatar           7.2       11800  \n",
            "1  Pirates of the Caribbean: At World's End           6.9        4500  \n",
            "2                                   Spectre           6.3        4466  \n",
            "3                     The Dark Knight Rises           7.6        9106  \n",
            "4                               John Carter           6.1        2124  \n"
          ]
        }
      ],
      "source": [
        "movie_credits_path = \"inputs/datasets/raw/tmdb_5000_credits.csv\"\n",
        "movies_path = \"inputs/datasets/raw/tmdb_5000_movies.csv\"\n",
        "\n",
        "df_movie_credits = pd.read_csv(movie_credits_path)\n",
        "df_movies = pd.read_csv(movies_path)\n",
        "\n",
        "print(\"Movie Credits Data:\")\n",
        "print(df_movie_credits.head())\n",
        "\n",
        "print(\"\\nMovies Data:\")\n",
        "print(df_movies.head())\n"
      ]
    },
    {
      "cell_type": "markdown",
      "metadata": {},
      "source": [
        "DataFrame Summary"
      ]
    },
    {
      "cell_type": "code",
      "execution_count": null,
      "metadata": {},
      "outputs": [
        {
          "name": "stdout",
          "output_type": "stream",
          "text": [
            "Movie Credits DataFrame Info:\n",
            "<class 'pandas.core.frame.DataFrame'>\n",
            "RangeIndex: 4803 entries, 0 to 4802\n",
            "Data columns (total 4 columns):\n",
            " #   Column    Non-Null Count  Dtype \n",
            "---  ------    --------------  ----- \n",
            " 0   movie_id  4803 non-null   int64 \n",
            " 1   title     4803 non-null   object\n",
            " 2   cast      4803 non-null   object\n",
            " 3   crew      4803 non-null   object\n",
            "dtypes: int64(1), object(3)\n",
            "memory usage: 150.2+ KB\n",
            "\n",
            "Movies DataFrame Info:\n",
            "<class 'pandas.core.frame.DataFrame'>\n",
            "RangeIndex: 4803 entries, 0 to 4802\n",
            "Data columns (total 20 columns):\n",
            " #   Column                Non-Null Count  Dtype  \n",
            "---  ------                --------------  -----  \n",
            " 0   budget                4803 non-null   int64  \n",
            " 1   genres                4803 non-null   object \n",
            " 2   homepage              1712 non-null   object \n",
            " 3   id                    4803 non-null   int64  \n",
            " 4   keywords              4803 non-null   object \n",
            " 5   original_language     4803 non-null   object \n",
            " 6   original_title        4803 non-null   object \n",
            " 7   overview              4800 non-null   object \n",
            " 8   popularity            4803 non-null   float64\n",
            " 9   production_companies  4803 non-null   object \n",
            " 10  production_countries  4803 non-null   object \n",
            " 11  release_date          4802 non-null   object \n",
            " 12  revenue               4803 non-null   int64  \n",
            " 13  runtime               4801 non-null   float64\n",
            " 14  spoken_languages      4803 non-null   object \n",
            " 15  status                4803 non-null   object \n",
            " 16  tagline               3959 non-null   object \n",
            " 17  title                 4803 non-null   object \n",
            " 18  vote_average          4803 non-null   float64\n",
            " 19  vote_count            4803 non-null   int64  \n",
            "dtypes: float64(3), int64(4), object(13)\n",
            "memory usage: 750.6+ KB\n"
          ]
        }
      ],
      "source": [
        "print(\"Movie Credits DataFrame Info:\")\n",
        "df_movie_credits.info()\n",
        "\n",
        "print(\"\\nMovies DataFrame Info:\")\n",
        "df_movies.info()"
      ]
    },
    {
      "cell_type": "markdown",
      "metadata": {},
      "source": [
        "Check for duplicates"
      ]
    },
    {
      "cell_type": "code",
      "execution_count": null,
      "metadata": {},
      "outputs": [
        {
          "name": "stdout",
          "output_type": "stream",
          "text": [
            "\n",
            "Duplicate Rows in Movie Credits DataFrame:\n",
            "Empty DataFrame\n",
            "Columns: [movie_id, title, cast, crew]\n",
            "Index: []\n",
            "\n",
            "Duplicate Rows in Movies DataFrame:\n",
            "Empty DataFrame\n",
            "Columns: [budget, genres, homepage, id, keywords, original_language, original_title, overview, popularity, production_companies, production_countries, release_date, revenue, runtime, spoken_languages, status, tagline, title, vote_average, vote_count]\n",
            "Index: []\n"
          ]
        }
      ],
      "source": [
        "print(\"\\nDuplicate Rows in Movie Credits DataFrame:\")\n",
        "duplicates_movie_credits = df_movie_credits[df_movie_credits.duplicated()]\n",
        "print(duplicates_movie_credits)\n",
        "\n",
        "\n",
        "print(\"\\nDuplicate Rows in Movies DataFrame:\")\n",
        "duplicates_movies = df_movies[df_movies.duplicated()]\n",
        "print(duplicates_movies)"
      ]
    },
    {
      "cell_type": "markdown",
      "metadata": {},
      "source": [
        "Keep Relvant columns\n",
        "\n"
      ]
    },
    {
      "cell_type": "code",
      "execution_count": 16,
      "metadata": {},
      "outputs": [
        {
          "name": "stdout",
          "output_type": "stream",
          "text": [
            "Filtered DataFrame with selected columns:\n",
            "                                              genres original_language  \\\n",
            "0  [{\"id\": 28, \"name\": \"Action\"}, {\"id\": 12, \"nam...                en   \n",
            "1  [{\"id\": 12, \"name\": \"Adventure\"}, {\"id\": 14, \"...                en   \n",
            "2  [{\"id\": 28, \"name\": \"Action\"}, {\"id\": 12, \"nam...                en   \n",
            "3  [{\"id\": 28, \"name\": \"Action\"}, {\"id\": 80, \"nam...                en   \n",
            "4  [{\"id\": 28, \"name\": \"Action\"}, {\"id\": 12, \"nam...                en   \n",
            "\n",
            "      budget     revenue  \n",
            "0  237000000  2787965087  \n",
            "1  300000000   961000000  \n",
            "2  245000000   880674609  \n",
            "3  250000000  1084939099  \n",
            "4  260000000   284139100  \n"
          ]
        }
      ],
      "source": [
        "columns_to_keep = ['genres','original_language','budget', 'revenue']\n",
        "df_movies_filtered = df_movies[columns_to_keep]\n",
        "\n",
        "print(\"Filtered DataFrame with selected columns:\")\n",
        "print(df_movies_filtered.head())"
      ]
    },
    {
      "cell_type": "markdown",
      "metadata": {},
      "source": [
        "handle missing data\n"
      ]
    },
    {
      "cell_type": "code",
      "execution_count": 17,
      "metadata": {},
      "outputs": [
        {
          "name": "stdout",
          "output_type": "stream",
          "text": [
            "genres               0\n",
            "original_language    0\n",
            "budget               0\n",
            "revenue              0\n",
            "dtype: int64\n"
          ]
        }
      ],
      "source": [
        "print(df_movies_filtered[columns_to_keep].isnull().sum())"
      ]
    },
    {
      "cell_type": "markdown",
      "metadata": {},
      "source": [
        "One-hot encode the 'genres' column "
      ]
    },
    {
      "cell_type": "code",
      "execution_count": 18,
      "metadata": {},
      "outputs": [
        {
          "name": "stdout",
          "output_type": "stream",
          "text": [
            "0    [{\"id\": 28, \"name\": \"Action\"}, {\"id\": 12, \"nam...\n",
            "1    [{\"id\": 12, \"name\": \"Adventure\"}, {\"id\": 14, \"...\n",
            "2    [{\"id\": 28, \"name\": \"Action\"}, {\"id\": 12, \"nam...\n",
            "3    [{\"id\": 28, \"name\": \"Action\"}, {\"id\": 80, \"nam...\n",
            "4    [{\"id\": 28, \"name\": \"Action\"}, {\"id\": 12, \"nam...\n",
            "Name: genres, dtype: object\n"
          ]
        }
      ],
      "source": [
        "print(df_movies_filtered['genres'].head())"
      ]
    },
    {
      "cell_type": "code",
      "execution_count": null,
      "metadata": {},
      "outputs": [
        {
          "name": "stderr",
          "output_type": "stream",
          "text": [
            "/tmp/ipykernel_2574/2716669909.py:3: SettingWithCopyWarning: \n",
            "A value is trying to be set on a copy of a slice from a DataFrame.\n",
            "Try using .loc[row_indexer,col_indexer] = value instead\n",
            "\n",
            "See the caveats in the documentation: https://pandas.pydata.org/pandas-docs/stable/user_guide/indexing.html#returning-a-view-versus-a-copy\n",
            "  df_movies_filtered['genres'] = df_movies_filtered['genres'].apply(lambda x: [genre['name'] for genre in json.loads(x)])\n"
          ]
        }
      ],
      "source": [
        "import json\n",
        "\n",
        "df_movies_filtered['genres'] = df_movies_filtered['genres'].apply(lambda x: [genre['name'] for genre in json.loads(x)])\n",
        "genre_dummies = pd.get_dummies(df_movies_filtered['genres'].explode()).groupby(level=0).max()\n",
        "df_movies_filtered = pd.concat([df_movies_filtered, genre_dummies], axis=1)"
      ]
    },
    {
      "cell_type": "code",
      "execution_count": 20,
      "metadata": {},
      "outputs": [
        {
          "name": "stdout",
          "output_type": "stream",
          "text": [
            "Genre Dummy Columns Shape: (4803, 20)\n",
            "\n",
            "New Genre Columns:\n",
            "['Action', 'Adventure', 'Animation', 'Comedy', 'Crime', 'Documentary', 'Drama', 'Family', 'Fantasy', 'Foreign', 'History', 'Horror', 'Music', 'Mystery', 'Romance', 'Science Fiction', 'TV Movie', 'Thriller', 'War', 'Western']\n"
          ]
        }
      ],
      "source": [
        "# Print the shape of the genre dummies\n",
        "print(\"Genre Dummy Columns Shape:\", genre_dummies.shape)\n",
        "\n",
        "# Print the names of the new genre columns\n",
        "print(\"\\nNew Genre Columns:\")\n",
        "print(list(genre_dummies.columns))"
      ]
    },
    {
      "cell_type": "code",
      "execution_count": 21,
      "metadata": {},
      "outputs": [
        {
          "name": "stdout",
          "output_type": "stream",
          "text": [
            "uint8\n"
          ]
        }
      ],
      "source": [
        "print(df_movies_filtered['Action'].dtype)"
      ]
    },
    {
      "cell_type": "markdown",
      "metadata": {},
      "source": [
        "One-hot encode 'original_language'"
      ]
    },
    {
      "cell_type": "code",
      "execution_count": 22,
      "metadata": {},
      "outputs": [
        {
          "name": "stdout",
          "output_type": "stream",
          "text": [
            "0    en\n",
            "1    en\n",
            "2    en\n",
            "3    en\n",
            "4    en\n",
            "Name: original_language, dtype: object\n"
          ]
        }
      ],
      "source": [
        "print(df_movies_filtered['original_language'].head())"
      ]
    },
    {
      "cell_type": "code",
      "execution_count": 23,
      "metadata": {},
      "outputs": [],
      "source": [
        "from sklearn.preprocessing import LabelEncoder\n",
        "\n",
        "# Label Encoding\n",
        "le = LabelEncoder()\n",
        "df_movies_filtered['language_encoded'] = le.fit_transform(df_movies_filtered['original_language'])\n",
        "\n",
        "# Or simple mapping if you prefer\n",
        "language_map = {lang: idx for idx, lang in enumerate(df_movies_filtered['original_language'].unique())}\n",
        "df_movies_filtered['language_encoded'] = df_movies_filtered['original_language'].map(language_map)"
      ]
    },
    {
      "cell_type": "code",
      "execution_count": 24,
      "metadata": {},
      "outputs": [
        {
          "name": "stdout",
          "output_type": "stream",
          "text": [
            "First few rows of encoded languages:\n",
            "  original_language  language_encoded\n",
            "0                en                 0\n",
            "1                en                 0\n",
            "2                en                 0\n",
            "3                en                 0\n",
            "4                en                 0\n"
          ]
        }
      ],
      "source": [
        "print(\"First few rows of encoded languages:\")\n",
        "print(df_movies_filtered[['original_language', 'language_encoded']].head())"
      ]
    },
    {
      "cell_type": "code",
      "execution_count": 25,
      "metadata": {},
      "outputs": [
        {
          "name": "stdout",
          "output_type": "stream",
          "text": [
            "en    4505\n",
            "fr      70\n",
            "es      32\n",
            "zh      27\n",
            "de      27\n",
            "hi      19\n",
            "ja      16\n",
            "it      14\n",
            "cn      12\n",
            "ru      11\n",
            "ko      11\n",
            "pt       9\n",
            "da       7\n",
            "sv       5\n",
            "nl       4\n",
            "fa       4\n",
            "th       3\n",
            "he       3\n",
            "ta       2\n",
            "cs       2\n",
            "ro       2\n",
            "id       2\n",
            "ar       2\n",
            "vi       1\n",
            "sl       1\n",
            "ps       1\n",
            "no       1\n",
            "ky       1\n",
            "hu       1\n",
            "pl       1\n",
            "af       1\n",
            "nb       1\n",
            "tr       1\n",
            "is       1\n",
            "xx       1\n",
            "te       1\n",
            "el       1\n",
            "Name: original_language, dtype: int64\n"
          ]
        }
      ],
      "source": [
        "print(df_movies_filtered['original_language'].value_counts())"
      ]
    },
    {
      "cell_type": "markdown",
      "metadata": {},
      "source": [
        "---"
      ]
    },
    {
      "cell_type": "code",
      "execution_count": 26,
      "metadata": {},
      "outputs": [
        {
          "name": "stdout",
          "output_type": "stream",
          "text": [
            "Index(['genres', 'original_language', 'budget', 'revenue', 'Action',\n",
            "       'Adventure', 'Animation', 'Comedy', 'Crime', 'Documentary', 'Drama',\n",
            "       'Family', 'Fantasy', 'Foreign', 'History', 'Horror', 'Music', 'Mystery',\n",
            "       'Romance', 'Science Fiction', 'TV Movie', 'Thriller', 'War', 'Western',\n",
            "       'language_encoded'],\n",
            "      dtype='object')\n"
          ]
        }
      ],
      "source": [
        "print(df_movies_filtered.columns)"
      ]
    },
    {
      "cell_type": "markdown",
      "metadata": {},
      "source": [
        "# Drop the original encoded columns"
      ]
    },
    {
      "cell_type": "code",
      "execution_count": 27,
      "metadata": {},
      "outputs": [
        {
          "name": "stdout",
          "output_type": "stream",
          "text": [
            "Index(['original_language', 'budget', 'revenue', 'Action', 'Adventure',\n",
            "       'Animation', 'Comedy', 'Crime', 'Documentary', 'Drama', 'Family',\n",
            "       'Fantasy', 'Foreign', 'History', 'Horror', 'Music', 'Mystery',\n",
            "       'Romance', 'Science Fiction', 'TV Movie', 'Thriller', 'War', 'Western',\n",
            "       'language_encoded'],\n",
            "      dtype='object')\n"
          ]
        }
      ],
      "source": [
        "df_movies_filtered = df_movies_filtered.drop(['genres'], axis=1)\n",
        "print(df_movies_filtered.columns)"
      ]
    },
    {
      "cell_type": "code",
      "execution_count": 28,
      "metadata": {},
      "outputs": [
        {
          "name": "stdout",
          "output_type": "stream",
          "text": [
            "['original_language', 'budget', 'revenue', 'Action', 'Adventure', 'Animation', 'Comedy', 'Crime', 'Documentary', 'Drama', 'Family', 'Fantasy', 'Foreign', 'History', 'Horror', 'Music', 'Mystery', 'Romance', 'Science Fiction', 'TV Movie', 'Thriller', 'War', 'Western', 'language_encoded']\n"
          ]
        }
      ],
      "source": [
        "print(df_movies_filtered.columns.tolist())"
      ]
    },
    {
      "cell_type": "markdown",
      "metadata": {},
      "source": [
        "---"
      ]
    },
    {
      "cell_type": "markdown",
      "metadata": {},
      "source": [
        "* In case you don't need to push files to Repo, you may replace this section with \"Conclusions and Next Steps\" and state your conclusions and next steps."
      ]
    },
    {
      "cell_type": "markdown",
      "metadata": {
        "id": "ltNetd085qHf"
      },
      "source": [
        "# Save as CSV"
      ]
    },
    {
      "cell_type": "code",
      "execution_count": 29,
      "metadata": {
        "id": "aKlnIozA4eQO",
        "outputId": "fd09bc1f-adb1-4511-f6ce-492a6af570c0"
      },
      "outputs": [],
      "source": [
        "df_movies_filtered.to_csv('encoded_movies.csv', index=False)"
      ]
    }
  ],
  "metadata": {
    "accelerator": "GPU",
    "colab": {
      "name": "Data Practitioner Jupyter Notebook.ipynb",
      "provenance": [],
      "toc_visible": true
    },
    "kernelspec": {
      "display_name": "Python 3",
      "language": "python",
      "name": "python3"
    },
    "language_info": {
      "codemirror_mode": {
        "name": "ipython",
        "version": 3
      },
      "file_extension": ".py",
      "mimetype": "text/x-python",
      "name": "python",
      "nbconvert_exporter": "python",
      "pygments_lexer": "ipython3",
      "version": "3.8.18"
    },
    "orig_nbformat": 2
  },
  "nbformat": 4,
  "nbformat_minor": 2
}
